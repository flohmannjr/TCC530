{
  "nbformat": 4,
  "nbformat_minor": 0,
  "metadata": {
    "colab": {
      "provenance": [],
      "toc_visible": true,
      "gpuType": "T4",
      "authorship_tag": "ABX9TyPMne1XteVNCE7D4gIj63yj",
      "include_colab_link": true
    },
    "kernelspec": {
      "name": "python3",
      "display_name": "Python 3"
    },
    "language_info": {
      "name": "python"
    },
    "accelerator": "GPU"
  },
  "cells": [
    {
      "cell_type": "markdown",
      "metadata": {
        "id": "view-in-github",
        "colab_type": "text"
      },
      "source": [
        "<a href=\"https://colab.research.google.com/github/flohmannjr/TCC530/blob/main/TCC530_Reprodu%C3%A7%C3%A3o_CFN.ipynb\" target=\"_parent\"><img src=\"https://colab.research.google.com/assets/colab-badge.svg\" alt=\"Open In Colab\"/></a>"
      ]
    },
    {
      "cell_type": "markdown",
      "source": [
        "#TCC530 - Reprodução CFN"
      ],
      "metadata": {
        "id": "RRw_x6Ccg6Qv"
      }
    },
    {
      "cell_type": "markdown",
      "source": [
        "##Importações de bibliotecas"
      ],
      "metadata": {
        "id": "WqEilYWShIy9"
      }
    },
    {
      "cell_type": "code",
      "source": [
        "import numpy as np\n",
        "import pandas as pd\n",
        "\n",
        "import matplotlib.pyplot as plt\n",
        "import seaborn as sns\n",
        "\n",
        "import random\n",
        "\n",
        "import tensorflow as tf\n",
        "import tensorflow_datasets as tfds\n",
        "\n",
        "from tensorflow.keras import layers\n",
        "\n",
        "from sklearn.metrics import classification_report, ConfusionMatrixDisplay\n",
        "from sklearn.model_selection import train_test_split"
      ],
      "metadata": {
        "id": "MySX__30hTdj"
      },
      "execution_count": 1,
      "outputs": []
    },
    {
      "cell_type": "markdown",
      "source": [
        "##Configurações"
      ],
      "metadata": {
        "id": "aI2iohUhhZST"
      }
    },
    {
      "cell_type": "code",
      "source": [
        "plt.rcParams['figure.figsize'] = [8, 5]\n",
        "plt.rcParams['figure.dpi'] = 100\n",
        "\n",
        "sns.set_style(\"darkgrid\")"
      ],
      "metadata": {
        "id": "Rp5BDfYGhdyK"
      },
      "execution_count": 2,
      "outputs": []
    },
    {
      "cell_type": "markdown",
      "source": [
        "### Constantes"
      ],
      "metadata": {
        "id": "2mYrOLyyo3rE"
      }
    },
    {
      "cell_type": "code",
      "source": [
        "SEMENTE = 2008193"
      ],
      "metadata": {
        "id": "YdFyHpMEo5vV"
      },
      "execution_count": 3,
      "outputs": []
    },
    {
      "cell_type": "markdown",
      "source": [
        "##Funções"
      ],
      "metadata": {
        "id": "b7nnAvmThjIz"
      }
    },
    {
      "cell_type": "code",
      "source": [
        "class DCNN(tf.keras.Model):\n",
        "\n",
        "  # Construtor da classe com passagem de parâmetros\n",
        "  def __init__(self,\n",
        "               vocab_size,    # Tamanho do vocabulário\n",
        "               emb_dim,       # Tamanho da matriz de embbedings\n",
        "               nb_filters,    # Número de filtros por região\n",
        "               ffn_units,     # Feedforward - Número de neuronios da Rede neural densa\n",
        "               dropout_rate,  # Zera percentual de neurônios para evitar overfetting\n",
        "               training=True,\n",
        "               name=\"dcnn\"):\n",
        "\n",
        "    super(DCNN, self).__init__(name=name)\n",
        "\n",
        "    self.embedding = layers.Embedding(vocab_size, emb_dim)  # Gera matriz de palavras\n",
        "\n",
        "    self.bigram   = layers.Conv1D(filters=nb_filters, kernel_size=2, padding='same', activation='relu')  # Gera os filtros de tamanho 2\n",
        "    self.trigram  = layers.Conv1D(filters=nb_filters, kernel_size=3, padding='same', activation='relu')  # Gera os filtros de tamanho 3\n",
        "    self.fourgram = layers.Conv1D(filters=nb_filters, kernel_size=4, padding='same', activation='relu')  # Gera os filtros de tamanho 4\n",
        "\n",
        "    self.pool = layers.GlobalMaxPool1D()  # Etapa de maxpooling\n",
        "\n",
        "    self.dense_1 = layers.Dense(units=ffn_units, activation='relu')  # Rede neural densa com ffn_unit definindo o numero de neuronios e função de ativação relu\n",
        "\n",
        "    self.dropout = layers.Dropout(rate=dropout_rate)  # Passagem do parametro de dropout para evitar overfetting\n",
        "\n",
        "    self.last_dense = layers.Dense(units=1, activation='sigmoid')  # Define a camada de saída com 1 bit e função de ativação sigmoid\n",
        "\n",
        "  # Função que faz a \"conexão\" dos objetos da rede\n",
        "  def call(self, inputs, training):\n",
        "\n",
        "    x = self.embedding(inputs)  # Matriz de palavras recebe o texto\n",
        "\n",
        "    x_1 = self.bigram(x)  # Filtros da região 3 recebem a matriz de palavras (região 3?)\n",
        "    x_1 = self.pool(x_1)  # Executa o maxpooling no bigram\n",
        "\n",
        "    x_2 = self.trigram(x)  # Filtros da região 2 recebem a matriz de palavras\n",
        "    x_2 = self.pool(x_2)   # Executa o maxpooling no trigram\n",
        "\n",
        "    x_3 = self.fourgram(x)  # Filtros da região 2 recebem a matriz de palavras (região 2?)\n",
        "    x_3 = self.pool(x_3)    # Executa o maxpooling no fourgram\n",
        "\n",
        "    merged = tf.concat([x_1, x_2, x_3], axis = -1)  # Faz a concatenação após o max pooling\n",
        "    merged = self.dense_1(merged)                   # A camada primeira camada densa recebe o vetor concatenado\n",
        "    merged = self.dropout(merged, training)         # Zera uma porção dos neurônios\n",
        "\n",
        "    output = self.last_dense(merged)  # Liga a camada de dropout a camada de saída\n",
        "\n",
        "    return output\n",
        "\n",
        "def grafico_historico_por_iteracao(historico):\n",
        "\n",
        "    for chave in historico.history.keys():\n",
        "        sns.lineplot(data=historico.history[chave], label=chave)\n",
        "\n",
        "    plt.title('Histórico por iteração')\n",
        "    plt.xlabel('Iteração')\n",
        "    plt.ylabel('')\n",
        "\n",
        "    plt.legend(frameon=True, facecolor='white')\n",
        "    plt.show()\n",
        "\n",
        "def avaliar_modelo(validacao, previsao, rotulos=None, cmap='summer_r'):\n",
        "    print(classification_report(validacao, previsao, target_names=rotulos))\n",
        "\n",
        "    ConfusionMatrixDisplay.from_predictions(validacao, previsao, display_labels=rotulos, xticks_rotation='vertical', cmap=cmap)\n",
        "    plt.grid(False)\n",
        "\n",
        "    relatorio = classification_report(validacao, previsao, target_names=rotulos, output_dict=True)\n",
        "\n",
        "    return {'acuracia': relatorio['accuracy'],\n",
        "            'precisao': relatorio['weighted avg']['precision'],\n",
        "            'revocacao': relatorio['weighted avg']['recall'],\n",
        "            'pontuacao-f1': relatorio['weighted avg']['f1-score']}"
      ],
      "metadata": {
        "id": "h9cJArYkhn1b"
      },
      "execution_count": 4,
      "outputs": []
    },
    {
      "cell_type": "markdown",
      "source": [
        "##Dados\n",
        "\n",
        "Fake.Br Corpus https://github.com/roneysco/Fake.br-Corpus"
      ],
      "metadata": {
        "id": "rMCA_Vc9hn4L"
      }
    },
    {
      "cell_type": "code",
      "source": [
        "dados = pd.read_csv('https://raw.githubusercontent.com/roneysco/Fake.br-Corpus/master/preprocessed/pre-processed.csv',\n",
        "                    index_col=['index'])"
      ],
      "metadata": {
        "id": "Out5sfUOhsN7"
      },
      "execution_count": 5,
      "outputs": []
    },
    {
      "cell_type": "code",
      "source": [
        "dados['label'].replace({'fake': 0, 'true': 1}, inplace=True)"
      ],
      "metadata": {
        "id": "gxNHPtPltb8_"
      },
      "execution_count": 6,
      "outputs": []
    },
    {
      "cell_type": "code",
      "source": [
        "dados.info()"
      ],
      "metadata": {
        "colab": {
          "base_uri": "https://localhost:8080/"
        },
        "id": "3ocxy4-Kkt6n",
        "outputId": "f20abf5b-dd06-4bb5-fbe1-4625bad2df32"
      },
      "execution_count": 7,
      "outputs": [
        {
          "output_type": "stream",
          "name": "stdout",
          "text": [
            "<class 'pandas.core.frame.DataFrame'>\n",
            "Int64Index: 7200 entries, 0 to 7199\n",
            "Data columns (total 2 columns):\n",
            " #   Column             Non-Null Count  Dtype \n",
            "---  ------             --------------  ----- \n",
            " 0   label              7200 non-null   int64 \n",
            " 1   preprocessed_news  7200 non-null   object\n",
            "dtypes: int64(1), object(1)\n",
            "memory usage: 168.8+ KB\n"
          ]
        }
      ]
    },
    {
      "cell_type": "code",
      "source": [
        "dados"
      ],
      "metadata": {
        "colab": {
          "base_uri": "https://localhost:8080/",
          "height": 455
        },
        "id": "CQvBmtAkldfJ",
        "outputId": "110375d7-9154-4348-f2ce-62c193456f26"
      },
      "execution_count": 8,
      "outputs": [
        {
          "output_type": "execute_result",
          "data": {
            "text/plain": [
              "       label                                  preprocessed_news\n",
              "index                                                          \n",
              "0          0  katia abreu diz vai colocar expulsao moldura n...\n",
              "1          0  ray peita bolsonaro conservador fake entrevist...\n",
              "2          0  reinaldo azevedo desmascarado policia federal ...\n",
              "3          0  relatorio assustador bndes mostra dinheiro pub...\n",
              "4          0  radialista americano fala sobre pt vendem ilus...\n",
              "...      ...                                                ...\n",
              "7195       1  jornal britanico acao contra lula lava jato se...\n",
              "7196       1  temer diz acionou pf cade investigar aumentos ...\n",
              "7197       1  obstaculos politicos temer especialistas ouvid...\n",
              "7198       1  setembro boa noite aqui estao principais notic...\n",
              "7199       1  envolvo politica diz brasileiro preso venezuel...\n",
              "\n",
              "[7200 rows x 2 columns]"
            ],
            "text/html": [
              "\n",
              "\n",
              "  <div id=\"df-17300f74-9f9a-43e7-b6b7-7d39c438bfd1\">\n",
              "    <div class=\"colab-df-container\">\n",
              "      <div>\n",
              "<style scoped>\n",
              "    .dataframe tbody tr th:only-of-type {\n",
              "        vertical-align: middle;\n",
              "    }\n",
              "\n",
              "    .dataframe tbody tr th {\n",
              "        vertical-align: top;\n",
              "    }\n",
              "\n",
              "    .dataframe thead th {\n",
              "        text-align: right;\n",
              "    }\n",
              "</style>\n",
              "<table border=\"1\" class=\"dataframe\">\n",
              "  <thead>\n",
              "    <tr style=\"text-align: right;\">\n",
              "      <th></th>\n",
              "      <th>label</th>\n",
              "      <th>preprocessed_news</th>\n",
              "    </tr>\n",
              "    <tr>\n",
              "      <th>index</th>\n",
              "      <th></th>\n",
              "      <th></th>\n",
              "    </tr>\n",
              "  </thead>\n",
              "  <tbody>\n",
              "    <tr>\n",
              "      <th>0</th>\n",
              "      <td>0</td>\n",
              "      <td>katia abreu diz vai colocar expulsao moldura n...</td>\n",
              "    </tr>\n",
              "    <tr>\n",
              "      <th>1</th>\n",
              "      <td>0</td>\n",
              "      <td>ray peita bolsonaro conservador fake entrevist...</td>\n",
              "    </tr>\n",
              "    <tr>\n",
              "      <th>2</th>\n",
              "      <td>0</td>\n",
              "      <td>reinaldo azevedo desmascarado policia federal ...</td>\n",
              "    </tr>\n",
              "    <tr>\n",
              "      <th>3</th>\n",
              "      <td>0</td>\n",
              "      <td>relatorio assustador bndes mostra dinheiro pub...</td>\n",
              "    </tr>\n",
              "    <tr>\n",
              "      <th>4</th>\n",
              "      <td>0</td>\n",
              "      <td>radialista americano fala sobre pt vendem ilus...</td>\n",
              "    </tr>\n",
              "    <tr>\n",
              "      <th>...</th>\n",
              "      <td>...</td>\n",
              "      <td>...</td>\n",
              "    </tr>\n",
              "    <tr>\n",
              "      <th>7195</th>\n",
              "      <td>1</td>\n",
              "      <td>jornal britanico acao contra lula lava jato se...</td>\n",
              "    </tr>\n",
              "    <tr>\n",
              "      <th>7196</th>\n",
              "      <td>1</td>\n",
              "      <td>temer diz acionou pf cade investigar aumentos ...</td>\n",
              "    </tr>\n",
              "    <tr>\n",
              "      <th>7197</th>\n",
              "      <td>1</td>\n",
              "      <td>obstaculos politicos temer especialistas ouvid...</td>\n",
              "    </tr>\n",
              "    <tr>\n",
              "      <th>7198</th>\n",
              "      <td>1</td>\n",
              "      <td>setembro boa noite aqui estao principais notic...</td>\n",
              "    </tr>\n",
              "    <tr>\n",
              "      <th>7199</th>\n",
              "      <td>1</td>\n",
              "      <td>envolvo politica diz brasileiro preso venezuel...</td>\n",
              "    </tr>\n",
              "  </tbody>\n",
              "</table>\n",
              "<p>7200 rows × 2 columns</p>\n",
              "</div>\n",
              "      <button class=\"colab-df-convert\" onclick=\"convertToInteractive('df-17300f74-9f9a-43e7-b6b7-7d39c438bfd1')\"\n",
              "              title=\"Convert this dataframe to an interactive table.\"\n",
              "              style=\"display:none;\">\n",
              "\n",
              "  <svg xmlns=\"http://www.w3.org/2000/svg\" height=\"24px\"viewBox=\"0 0 24 24\"\n",
              "       width=\"24px\">\n",
              "    <path d=\"M0 0h24v24H0V0z\" fill=\"none\"/>\n",
              "    <path d=\"M18.56 5.44l.94 2.06.94-2.06 2.06-.94-2.06-.94-.94-2.06-.94 2.06-2.06.94zm-11 1L8.5 8.5l.94-2.06 2.06-.94-2.06-.94L8.5 2.5l-.94 2.06-2.06.94zm10 10l.94 2.06.94-2.06 2.06-.94-2.06-.94-.94-2.06-.94 2.06-2.06.94z\"/><path d=\"M17.41 7.96l-1.37-1.37c-.4-.4-.92-.59-1.43-.59-.52 0-1.04.2-1.43.59L10.3 9.45l-7.72 7.72c-.78.78-.78 2.05 0 2.83L4 21.41c.39.39.9.59 1.41.59.51 0 1.02-.2 1.41-.59l7.78-7.78 2.81-2.81c.8-.78.8-2.07 0-2.86zM5.41 20L4 18.59l7.72-7.72 1.47 1.35L5.41 20z\"/>\n",
              "  </svg>\n",
              "      </button>\n",
              "\n",
              "\n",
              "\n",
              "    <div id=\"df-724dc462-c97e-4ddc-be38-e29d8afcfbea\">\n",
              "      <button class=\"colab-df-quickchart\" onclick=\"quickchart('df-724dc462-c97e-4ddc-be38-e29d8afcfbea')\"\n",
              "              title=\"Suggest charts.\"\n",
              "              style=\"display:none;\">\n",
              "\n",
              "<svg xmlns=\"http://www.w3.org/2000/svg\" height=\"24px\"viewBox=\"0 0 24 24\"\n",
              "     width=\"24px\">\n",
              "    <g>\n",
              "        <path d=\"M19 3H5c-1.1 0-2 .9-2 2v14c0 1.1.9 2 2 2h14c1.1 0 2-.9 2-2V5c0-1.1-.9-2-2-2zM9 17H7v-7h2v7zm4 0h-2V7h2v10zm4 0h-2v-4h2v4z\"/>\n",
              "    </g>\n",
              "</svg>\n",
              "      </button>\n",
              "    </div>\n",
              "\n",
              "<style>\n",
              "  .colab-df-quickchart {\n",
              "    background-color: #E8F0FE;\n",
              "    border: none;\n",
              "    border-radius: 50%;\n",
              "    cursor: pointer;\n",
              "    display: none;\n",
              "    fill: #1967D2;\n",
              "    height: 32px;\n",
              "    padding: 0 0 0 0;\n",
              "    width: 32px;\n",
              "  }\n",
              "\n",
              "  .colab-df-quickchart:hover {\n",
              "    background-color: #E2EBFA;\n",
              "    box-shadow: 0px 1px 2px rgba(60, 64, 67, 0.3), 0px 1px 3px 1px rgba(60, 64, 67, 0.15);\n",
              "    fill: #174EA6;\n",
              "  }\n",
              "\n",
              "  [theme=dark] .colab-df-quickchart {\n",
              "    background-color: #3B4455;\n",
              "    fill: #D2E3FC;\n",
              "  }\n",
              "\n",
              "  [theme=dark] .colab-df-quickchart:hover {\n",
              "    background-color: #434B5C;\n",
              "    box-shadow: 0px 1px 3px 1px rgba(0, 0, 0, 0.15);\n",
              "    filter: drop-shadow(0px 1px 2px rgba(0, 0, 0, 0.3));\n",
              "    fill: #FFFFFF;\n",
              "  }\n",
              "</style>\n",
              "\n",
              "    <script>\n",
              "      async function quickchart(key) {\n",
              "        const containerElement = document.querySelector('#' + key);\n",
              "        const charts = await google.colab.kernel.invokeFunction(\n",
              "            'suggestCharts', [key], {});\n",
              "      }\n",
              "    </script>\n",
              "\n",
              "      <script>\n",
              "\n",
              "function displayQuickchartButton(domScope) {\n",
              "  let quickchartButtonEl =\n",
              "    domScope.querySelector('#df-724dc462-c97e-4ddc-be38-e29d8afcfbea button.colab-df-quickchart');\n",
              "  quickchartButtonEl.style.display =\n",
              "    google.colab.kernel.accessAllowed ? 'block' : 'none';\n",
              "}\n",
              "\n",
              "        displayQuickchartButton(document);\n",
              "      </script>\n",
              "      <style>\n",
              "    .colab-df-container {\n",
              "      display:flex;\n",
              "      flex-wrap:wrap;\n",
              "      gap: 12px;\n",
              "    }\n",
              "\n",
              "    .colab-df-convert {\n",
              "      background-color: #E8F0FE;\n",
              "      border: none;\n",
              "      border-radius: 50%;\n",
              "      cursor: pointer;\n",
              "      display: none;\n",
              "      fill: #1967D2;\n",
              "      height: 32px;\n",
              "      padding: 0 0 0 0;\n",
              "      width: 32px;\n",
              "    }\n",
              "\n",
              "    .colab-df-convert:hover {\n",
              "      background-color: #E2EBFA;\n",
              "      box-shadow: 0px 1px 2px rgba(60, 64, 67, 0.3), 0px 1px 3px 1px rgba(60, 64, 67, 0.15);\n",
              "      fill: #174EA6;\n",
              "    }\n",
              "\n",
              "    [theme=dark] .colab-df-convert {\n",
              "      background-color: #3B4455;\n",
              "      fill: #D2E3FC;\n",
              "    }\n",
              "\n",
              "    [theme=dark] .colab-df-convert:hover {\n",
              "      background-color: #434B5C;\n",
              "      box-shadow: 0px 1px 3px 1px rgba(0, 0, 0, 0.15);\n",
              "      filter: drop-shadow(0px 1px 2px rgba(0, 0, 0, 0.3));\n",
              "      fill: #FFFFFF;\n",
              "    }\n",
              "  </style>\n",
              "\n",
              "      <script>\n",
              "        const buttonEl =\n",
              "          document.querySelector('#df-17300f74-9f9a-43e7-b6b7-7d39c438bfd1 button.colab-df-convert');\n",
              "        buttonEl.style.display =\n",
              "          google.colab.kernel.accessAllowed ? 'block' : 'none';\n",
              "\n",
              "        async function convertToInteractive(key) {\n",
              "          const element = document.querySelector('#df-17300f74-9f9a-43e7-b6b7-7d39c438bfd1');\n",
              "          const dataTable =\n",
              "            await google.colab.kernel.invokeFunction('convertToInteractive',\n",
              "                                                     [key], {});\n",
              "          if (!dataTable) return;\n",
              "\n",
              "          const docLinkHtml = 'Like what you see? Visit the ' +\n",
              "            '<a target=\"_blank\" href=https://colab.research.google.com/notebooks/data_table.ipynb>data table notebook</a>'\n",
              "            + ' to learn more about interactive tables.';\n",
              "          element.innerHTML = '';\n",
              "          dataTable['output_type'] = 'display_data';\n",
              "          await google.colab.output.renderOutput(dataTable, element);\n",
              "          const docLink = document.createElement('div');\n",
              "          docLink.innerHTML = docLinkHtml;\n",
              "          element.appendChild(docLink);\n",
              "        }\n",
              "      </script>\n",
              "    </div>\n",
              "  </div>\n"
            ]
          },
          "metadata": {},
          "execution_count": 8
        }
      ]
    },
    {
      "cell_type": "code",
      "source": [
        "dados['label'].value_counts()"
      ],
      "metadata": {
        "colab": {
          "base_uri": "https://localhost:8080/"
        },
        "id": "pC9WtRCSpJBy",
        "outputId": "fbc05a82-6e6b-4eca-f735-7f0faade4c17"
      },
      "execution_count": 9,
      "outputs": [
        {
          "output_type": "execute_result",
          "data": {
            "text/plain": [
              "0    3600\n",
              "1    3600\n",
              "Name: label, dtype: int64"
            ]
          },
          "metadata": {},
          "execution_count": 9
        }
      ]
    },
    {
      "cell_type": "code",
      "source": [
        "X = dados['preprocessed_news']\n",
        "y = dados['label']"
      ],
      "metadata": {
        "id": "pzkpp9G6pe37"
      },
      "execution_count": 10,
      "outputs": []
    },
    {
      "cell_type": "markdown",
      "source": [
        "### Tokenização"
      ],
      "metadata": {
        "id": "kfaNggq7w1SQ"
      }
    },
    {
      "cell_type": "code",
      "source": [
        "%%time\n",
        "\n",
        "tokenizer = tfds.deprecated.text.SubwordTextEncoder.build_from_corpus(X, target_vocab_size=60000)"
      ],
      "metadata": {
        "colab": {
          "base_uri": "https://localhost:8080/"
        },
        "id": "oyxQBpm6w5VN",
        "outputId": "6f7ce5ad-8534-4f75-afca-393e67d76d44"
      },
      "execution_count": 11,
      "outputs": [
        {
          "output_type": "stream",
          "name": "stdout",
          "text": [
            "CPU times: user 2min 16s, sys: 1.29 s, total: 2min 17s\n",
            "Wall time: 2min 26s\n"
          ]
        }
      ]
    },
    {
      "cell_type": "code",
      "source": [
        "tokenizer.vocab_size"
      ],
      "metadata": {
        "colab": {
          "base_uri": "https://localhost:8080/"
        },
        "id": "w-RnNrKUyggf",
        "outputId": "29cd2acb-81d6-468b-f6d2-514778e8598d"
      },
      "execution_count": 12,
      "outputs": [
        {
          "output_type": "execute_result",
          "data": {
            "text/plain": [
              "57046"
            ]
          },
          "metadata": {},
          "execution_count": 12
        }
      ]
    },
    {
      "cell_type": "code",
      "source": [
        "# print(tokenizer.subwords)"
      ],
      "metadata": {
        "id": "1tovJDteyhWq"
      },
      "execution_count": 13,
      "outputs": []
    },
    {
      "cell_type": "code",
      "source": [
        "data_inputs = [tokenizer.encode(sentence) for sentence in X]"
      ],
      "metadata": {
        "id": "8zp8EMQEylv0"
      },
      "execution_count": 14,
      "outputs": []
    },
    {
      "cell_type": "code",
      "source": [
        "for _ in range(10):\n",
        "    print(data_inputs[random.randint(0, len(data_inputs) - 1)])"
      ],
      "metadata": {
        "colab": {
          "base_uri": "https://localhost:8080/"
        },
        "id": "3pApRAjcytsW",
        "outputId": "40ce87f2-0093-491b-97c9-7c2d35874752"
      },
      "execution_count": 15,
      "outputs": [
        {
          "output_type": "stream",
          "name": "stdout",
          "text": [
            "[5509, 10355, 12831, 8451, 22408, 732, 1214, 533, 4101, 493, 306, 94, 6139, 262, 238, 2208, 8587, 2702, 373, 12498, 955, 211, 18632, 2593, 898, 769, 933, 3048, 955, 234, 268, 105, 4340, 10466, 5743, 3469, 10319, 203, 769, 207, 5929, 1220, 18357, 4307, 5509, 3319, 12831, 562, 238, 8606, 29521, 15073, 1356, 17415, 277, 821, 10627, 1506, 13148, 21512, 530, 6902, 916, 10627, 13770, 1214, 821, 18357, 8587, 3, 119, 42300, 2009, 3363, 44526, 18984, 3182, 21512, 35, 319, 1741, 728, 27, 3490, 4500, 5126, 7, 493, 2415, 10356, 410, 52593]\n",
            "[469, 2853, 4675, 2737, 2853, 4675, 265, 488, 5730, 175, 56, 12079, 292, 1, 287, 727, 1003, 4675, 7682, 189, 157, 42449, 24769, 7290, 531, 120, 2, 40, 2268, 9636, 209, 2900, 44, 1270, 9266, 208, 4, 5095, 4247, 486, 2853, 4675, 10, 2907, 241, 187, 282, 6389, 22, 105, 1397, 469, 8, 505, 56076, 14585]\n",
            "[3049, 778, 477, 5023, 1443, 27111, 3263, 6179, 1181, 3049, 4877, 1441, 326, 228, 615, 477, 5023, 115, 3410, 20, 4877, 5324, 5048, 2877, 2865, 8643, 2334, 877, 3137, 23, 6754, 38817, 5333, 25438, 5776, 119, 22, 8930, 277, 466, 24, 10816, 53, 9276, 308, 1327, 1326, 242, 279, 1615, 2931, 1, 2931, 3049, 414, 2164]\n",
            "[273, 895, 14777, 2886, 69, 4369, 145, 6313, 128, 1383, 20866, 425, 5491, 4590, 18, 137, 6313, 1256, 20866, 8224, 4369, 145, 4, 273, 273, 48, 38, 14777, 2886, 96, 436, 2235, 553, 812, 2505, 4369, 15317, 606, 20866, 5020, 40, 16685, 346, 812, 85, 13471, 29824, 16752, 106, 1129, 474, 1016, 1502, 4369, 36, 30920, 12, 13, 231, 351, 36, 1, 3319, 316, 225, 107, 145, 1099, 114, 33, 920, 7008, 1016, 186, 1502, 4369, 351, 36, 1527, 197, 17349, 20866, 180, 395, 5069, 36, 2105, 1582, 2105, 207, 6021]\n",
            "[989, 924, 1, 27, 1117, 383, 2283, 527, 652, 2683, 1446, 216, 1429, 16, 2112, 1199, 5881, 5784, 373, 173, 1070, 989, 924, 1, 544, 1117, 383, 2283, 527, 118, 3980, 573, 6, 77, 173, 2453, 1109, 4762, 989, 27, 1117, 383, 1, 9069, 13192, 379, 67, 844, 32, 1086, 1269, 383, 1498, 54342, 41, 553, 41, 11, 65, 447, 6, 130, 17, 7105, 1070, 1998, 6422, 1230, 54, 425, 39054, 30626]\n",
            "[169, 898, 38928, 12519, 15989, 13482, 40, 26, 4114, 133, 1808, 54, 168, 8839, 9493, 540, 302, 40, 15076, 461, 160, 540, 5952, 3303, 51, 44, 318, 416, 10, 13626, 18997, 594, 266, 155, 185, 3115, 172, 46, 40, 6239, 6312, 2425, 508, 4, 15771, 208, 160, 594, 430, 2299, 40, 274, 399, 133, 3651, 45, 232, 540, 9493, 2420, 35, 129, 272, 971, 725, 8089, 118, 89, 24771, 11422]\n",
            "[721, 25095, 1014, 1318, 138, 18295, 3435, 8054, 505, 412, 96, 721, 25095, 1548, 1318, 138, 18295, 3687, 3435, 8054, 282, 397, 3435, 3106, 728, 98, 3165, 247, 4156, 4415, 35395, 42485, 4415, 5, 1743, 320, 373, 1289, 262, 502, 32239, 6318, 3435, 3687, 928, 9936, 728, 2349, 119, 505, 1039, 412, 96, 467, 31146, 24344, 31193, 56822, 4991, 26, 4418, 269, 8, 10510, 3589, 5938, 7713, 28500, 5015, 4920, 6337, 3783, 1162, 502, 1946, 930, 1039, 2931, 1370, 4783, 1808, 3435, 10, 42206, 100, 2083, 16588, 3435, 1573, 4040, 269, 344, 186, 7, 100, 5145, 767, 6514, 7105, 1039, 1346, 7012, 108, 1235, 18413, 5509, 1745, 186, 4343, 767, 3435, 4359, 917, 3879, 29, 9, 2098, 26875]\n",
            "[3329, 9225, 1222, 3419, 596, 931, 190, 6, 440, 2342, 1788, 1326, 1141, 14553, 421, 2342, 7, 309, 323, 11750, 51, 146, 3, 13642, 15409, 3329, 33, 3329, 4227, 63, 4071, 1222, 7465, 4414, 1392, 342, 4656, 837, 7558, 85, 39611, 32635, 5269, 39199, 30509, 23455, 557, 20639, 3, 2605, 596, 931, 190, 18978, 1120, 25, 676, 24, 6287, 364, 14, 1, 11526, 1, 303, 58, 493, 47671, 4566, 38969, 18285, 4029, 2112, 1610, 306, 29298, 39024, 38520, 6664, 9940, 306, 36234, 5269, 4308, 13, 760, 192, 6100, 11999, 2644, 6885, 39199, 6, 440, 2342, 49068, 1788, 1326, 2493, 34535, 3329, 5079, 421, 2342, 1468, 3329, 375, 34, 1, 821, 1229, 2029, 300, 99, 2559, 376, 426, 7, 1800, 2674, 8739, 5, 31, 3329, 36526, 12, 309, 323, 349, 13, 7, 146, 2779, 9035, 842, 4444, 1342, 748, 841, 931, 10632, 64, 146, 10320, 1808, 51, 1141, 5029, 20, 42827, 309, 314, 6041, 851, 1091, 4741, 5029, 28, 722, 1265, 9258, 5085, 75, 79, 9035, 2281, 49068, 32, 686, 2252, 3329, 14739, 30189, 26853, 12221, 43058, 39279, 56822, 7, 1800, 39189, 35386, 56822, 1415, 1, 26, 6191, 3329, 131, 309, 323, 7886, 446, 34, 1829, 20, 1459, 3737, 598, 1259, 87, 785, 523, 6569, 378, 1689, 2218, 13, 5903, 331, 4, 2439, 1736, 4444, 931, 1, 328, 21468, 378, 14553, 2541, 1806, 584, 585, 1806, 15409, 23, 596, 931, 2251, 121, 86, 5779, 4944, 6, 8359, 21012, 20844, 7886, 931, 34, 1534, 18936, 1474, 14553, 6818, 1758, 35730, 356, 3791, 1079, 436, 261, 1907, 331, 84, 7046, 519, 126, 770, 126, 4051, 371, 18083, 2727, 14228, 12170, 68, 663, 6295, 2324, 371, 628, 48743, 8168, 161, 5694, 339, 5779, 13, 65, 6796, 9104, 47, 5485, 7124, 34, 1829, 3329, 48906, 176, 3841, 123, 11654, 1679, 41879, 4566, 42938, 31, 98, 915, 20, 1965, 238, 7120, 1970, 9104, 117, 1170, 436, 25, 85, 46, 378, 765, 4045, 404, 316, 31, 19, 322, 6170, 3373, 345, 4014, 3329, 23, 24, 12959, 29, 596, 931, 381, 24, 47, 3831, 28871, 13122, 963, 12500, 360, 1448, 1, 1448, 111, 20, 31, 1279, 297, 715, 2917, 4045, 404, 6498, 212, 6170, 15, 391, 41, 12667, 20639, 15409, 1630, 5683, 3598, 52383, 52, 4494, 217, 575, 366, 124, 2988, 1279, 7610, 5, 12005, 462, 1903, 2869, 49555, 97, 1152, 236, 2421, 28871, 13122, 12500, 212, 8, 28871, 12500, 261, 4071, 4, 1787, 19426, 446, 547, 4045, 1415, 2918, 53335, 1312, 1279, 15, 316, 161, 2972, 5, 1, 483, 321, 670, 134, 2988, 723, 2501, 4661, 2806, 4014, 18083, 2228, 20250, 2269, 1447, 3329, 5185, 628, 4071, 20, 4010, 4045, 47639, 13026, 1337, 12667, 480, 3329, 20, 444, 8994, 421, 2342, 5029, 1, 5442, 104, 4599, 31, 1337, 258, 7184, 8655, 11199]\n",
            "[71, 2586, 3487, 2023, 557, 13506, 17025, 299, 9, 2612, 18927, 2023, 557, 136, 5776, 23, 260, 17025, 9, 2907, 1132, 18927, 27, 1204, 477, 175, 5584, 4818, 19, 44, 90, 50, 38, 57, 159, 37697, 1, 258, 6843, 72, 1164, 557, 3222, 27326, 37697, 1, 258, 72, 1164, 529, 331, 3931, 7, 71, 43, 8318, 1118, 1446, 141, 2486, 751, 939, 314, 2023, 3491, 5472, 177, 11581, 8084, 141, 9, 52632, 3472, 4538, 691, 3182, 3491, 5472, 624, 280, 1045, 997, 414, 2164]\n",
            "[563, 11582, 8, 204, 512, 1, 801, 1, 3845, 4940, 204, 27, 269, 810, 563, 1655, 2031, 901, 1, 21, 18671, 3123, 4796, 13271, 8010, 1086, 7861, 11094, 5128, 207, 2391, 204, 512, 26, 3, 175, 2442, 1041, 47, 578, 4940, 204, 512, 20566, 1, 801, 1, 3845, 4940, 27, 269, 28640, 7, 7861, 29, 2170, 8, 122, 137, 2756, 11582, 14472]\n"
          ]
        }
      ]
    },
    {
      "cell_type": "markdown",
      "source": [
        "### Padding"
      ],
      "metadata": {
        "id": "CBXwXKVxy21Q"
      }
    },
    {
      "cell_type": "code",
      "source": [
        "max_len = max([len(sentence) for sentence in data_inputs])\n",
        "max_len"
      ],
      "metadata": {
        "colab": {
          "base_uri": "https://localhost:8080/"
        },
        "id": "dCRAtL7vzAKp",
        "outputId": "f50c3d91-b9d6-4c84-efe1-e3e042233acb"
      },
      "execution_count": 16,
      "outputs": [
        {
          "output_type": "execute_result",
          "data": {
            "text/plain": [
              "4404"
            ]
          },
          "metadata": {},
          "execution_count": 16
        }
      ]
    },
    {
      "cell_type": "code",
      "source": [
        "data_inputs = tf.keras.preprocessing.sequence.pad_sequences(data_inputs,\n",
        "                                                            value=0,\n",
        "                                                            padding='post',\n",
        "                                                            maxlen=max_len)"
      ],
      "metadata": {
        "id": "C3IwLEerzFwI"
      },
      "execution_count": 17,
      "outputs": []
    },
    {
      "cell_type": "code",
      "source": [
        "for _ in range(10):\n",
        "    print(data_inputs[random.randint(0, len(data_inputs) - 1)])"
      ],
      "metadata": {
        "colab": {
          "base_uri": "https://localhost:8080/"
        },
        "id": "o0WB5HmTzazs",
        "outputId": "0e029128-43b7-4a6e-e8c3-50280eb3d7c5"
      },
      "execution_count": 18,
      "outputs": [
        {
          "output_type": "stream",
          "name": "stdout",
          "text": [
            "[959 723  17 ...   0   0   0]\n",
            "[ 4217   663  8045 ...  2012     4 11705]\n",
            "[   77 11360    63 ...     0     0     0]\n",
            "[5528 7006 2174 ...    0    0    0]\n",
            "[ 3653 12198   777 ...     0     0     0]\n",
            "[  10  418 9812 ...    0    0    0]\n",
            "[ 5337  2401 21822 ...     0     0     0]\n",
            "[ 4098 38307 20017 ...     0     0     0]\n",
            "[14788 31117  6853 ...     0     0     0]\n",
            "[ 475 1475 1057 ...    0    0    0]\n"
          ]
        }
      ]
    },
    {
      "cell_type": "markdown",
      "source": [
        "### Separação"
      ],
      "metadata": {
        "id": "lMvpkao9y8S7"
      }
    },
    {
      "cell_type": "code",
      "source": [
        "X_train, X_test, y_train, y_test = train_test_split(data_inputs,\n",
        "                                                    y,\n",
        "                                                    test_size=0.2,\n",
        "                                                    stratify=y,\n",
        "                                                    random_state=SEMENTE)"
      ],
      "metadata": {
        "id": "rGIWi_a-qJsl"
      },
      "execution_count": 19,
      "outputs": []
    },
    {
      "cell_type": "code",
      "source": [
        "X_train = X_train.astype(np.int64)\n",
        "X_test  = X_test.astype(np.int64)\n",
        "y_train = y_train.astype(np.int64)\n",
        "y_test  = y_test.astype(np.int64)"
      ],
      "metadata": {
        "id": "NDAKqn6w_52z"
      },
      "execution_count": 20,
      "outputs": []
    },
    {
      "cell_type": "code",
      "source": [
        "X_train.shape, X_test.shape, y_train.shape, y_test.shape"
      ],
      "metadata": {
        "colab": {
          "base_uri": "https://localhost:8080/"
        },
        "id": "jBwZySiCqRRe",
        "outputId": "04f50572-eec0-4ca4-ef84-d3853b3090a2"
      },
      "execution_count": 21,
      "outputs": [
        {
          "output_type": "execute_result",
          "data": {
            "text/plain": [
              "((5760, 4404), (1440, 4404), (5760,), (1440,))"
            ]
          },
          "metadata": {},
          "execution_count": 21
        }
      ]
    },
    {
      "cell_type": "code",
      "source": [
        "X_train.dtype, X_test.dtype, y_train.dtype, y_test.dtype"
      ],
      "metadata": {
        "colab": {
          "base_uri": "https://localhost:8080/"
        },
        "id": "JYM1fQBJsBT2",
        "outputId": "d8fcac9d-3643-4252-b7cd-127784ea177e"
      },
      "execution_count": 22,
      "outputs": [
        {
          "output_type": "execute_result",
          "data": {
            "text/plain": [
              "(dtype('int64'), dtype('int64'), dtype('int64'), dtype('int64'))"
            ]
          },
          "metadata": {},
          "execution_count": 22
        }
      ]
    },
    {
      "cell_type": "markdown",
      "source": [
        "##Modelo"
      ],
      "metadata": {
        "id": "J2_pAetghsRT"
      }
    },
    {
      "cell_type": "code",
      "source": [
        "dcnn = DCNN(vocab_size=tokenizer.vocab_size,\n",
        "            emb_dim=128,\n",
        "            nb_filters=50,\n",
        "            ffn_units=512,\n",
        "            dropout_rate=0.1)"
      ],
      "metadata": {
        "id": "lH_uGarEhxyr"
      },
      "execution_count": 23,
      "outputs": []
    },
    {
      "cell_type": "code",
      "source": [
        "dcnn.compile(loss='binary_crossentropy',\n",
        "             optimizer='adam',\n",
        "             metrics=['accuracy'])"
      ],
      "metadata": {
        "id": "JoK5aNtrhyFk"
      },
      "execution_count": 24,
      "outputs": []
    },
    {
      "cell_type": "code",
      "source": [
        "%%time\n",
        "\n",
        "historico = dcnn.fit(x=X_train,\n",
        "                     y=y_train,\n",
        "                     batch_size=64,\n",
        "                     epochs=5,\n",
        "                     validation_data=(X_test, y_test),\n",
        "                     verbose=1)"
      ],
      "metadata": {
        "colab": {
          "base_uri": "https://localhost:8080/"
        },
        "id": "m2yhUQbn-cQp",
        "outputId": "6d6759a8-afb4-4121-c837-91e6da4f5cdc"
      },
      "execution_count": 25,
      "outputs": [
        {
          "output_type": "stream",
          "name": "stdout",
          "text": [
            "Epoch 1/5\n",
            "90/90 [==============================] - 37s 259ms/step - loss: 0.3515 - accuracy: 0.8293 - val_loss: 0.1040 - val_accuracy: 0.9590\n",
            "Epoch 2/5\n",
            "90/90 [==============================] - 22s 239ms/step - loss: 0.0629 - accuracy: 0.9802 - val_loss: 0.1203 - val_accuracy: 0.9556\n",
            "Epoch 3/5\n",
            "90/90 [==============================] - 22s 243ms/step - loss: 0.0095 - accuracy: 0.9988 - val_loss: 0.0886 - val_accuracy: 0.9632\n",
            "Epoch 4/5\n",
            "90/90 [==============================] - 22s 247ms/step - loss: 0.0016 - accuracy: 0.9998 - val_loss: 0.0862 - val_accuracy: 0.9667\n",
            "Epoch 5/5\n",
            "90/90 [==============================] - 21s 229ms/step - loss: 6.2505e-04 - accuracy: 1.0000 - val_loss: 0.0903 - val_accuracy: 0.9653\n",
            "CPU times: user 1min 21s, sys: 2.62 s, total: 1min 23s\n",
            "Wall time: 2min 3s\n"
          ]
        }
      ]
    },
    {
      "cell_type": "code",
      "source": [
        "grafico_historico_por_iteracao(historico)"
      ],
      "metadata": {
        "colab": {
          "base_uri": "https://localhost:8080/",
          "height": 488
        },
        "id": "UF8UKyUBBFyq",
        "outputId": "da79e54e-548a-4abe-8cb6-3ea087dcdbf9"
      },
      "execution_count": 26,
      "outputs": [
        {
          "output_type": "display_data",
          "data": {
            "text/plain": [
              "<Figure size 800x500 with 1 Axes>"
            ],
            "image/png": "[encoded data removed]"
          },
          "metadata": {}
        }
      ]
    },
    {
      "cell_type": "code",
      "source": [
        "# avaliacao      = dcnn.evaluate(X_test, y_test)\n",
        "probabilidades = dcnn.predict(X_test)\n",
        "previsoes      = tf.squeeze(tf.round(probabilidades))\n",
        "relatorio      = avaliar_modelo(y_test, previsoes)"
      ],
      "metadata": {
        "colab": {
          "base_uri": "https://localhost:8080/",
          "height": 637
        },
        "id": "hSLN0YbcBpoZ",
        "outputId": "6a51fc85-a37a-4c06-e0fe-8a94d5467ea1"
      },
      "execution_count": 27,
      "outputs": [
        {
          "output_type": "stream",
          "name": "stdout",
          "text": [
            "45/45 [==============================] - 1s 16ms/step\n",
            "              precision    recall  f1-score   support\n",
            "\n",
            "           0       0.96      0.98      0.97       720\n",
            "           1       0.98      0.95      0.96       720\n",
            "\n",
            "    accuracy                           0.97      1440\n",
            "   macro avg       0.97      0.97      0.97      1440\n",
            "weighted avg       0.97      0.97      0.97      1440\n",
            "\n"
          ]
        },
        {
          "output_type": "display_data",
          "data": {
            "text/plain": [
              "<Figure size 800x500 with 2 Axes>"
            ],
            "image/png": "[encoded data removed]"
          },
          "metadata": {}
        }
      ]
    },
    {
      "cell_type": "code",
      "source": [
        "relatorio"
      ],
      "metadata": {
        "colab": {
          "base_uri": "https://localhost:8080/"
        },
        "id": "BSETOH-6CyQQ",
        "outputId": "4b1b1fa1-7336-425e-d4bc-eb573e5a2c17"
      },
      "execution_count": 28,
      "outputs": [
        {
          "output_type": "execute_result",
          "data": {
            "text/plain": [
              "{'acuracia': 0.9652777777777778,\n",
              " 'precisao': 0.9655076581027668,\n",
              " 'revocacao': 0.9652777777777778,\n",
              " 'pontuacao-f1': 0.9652734905543895}"
            ]
          },
          "metadata": {},
          "execution_count": 28
        }
      ]
    },
    {
      "cell_type": "code",
      "source": [],
      "metadata": {
        "id": "gQwgVtAUDDPA"
      },
      "execution_count": 28,
      "outputs": []
    }
  ]
}