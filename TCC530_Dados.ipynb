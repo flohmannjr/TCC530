{
  "nbformat": 4,
  "nbformat_minor": 0,
  "metadata": {
    "colab": {
      "provenance": [],
      "toc_visible": true,
      "authorship_tag": "ABX9TyMD53fkON+jinbXkobbW//q",
      "include_colab_link": true
    },
    "kernelspec": {
      "name": "python3",
      "display_name": "Python 3"
    },
    "language_info": {
      "name": "python"
    }
  },
  "cells": [
    {
      "cell_type": "markdown",
      "metadata": {
        "id": "view-in-github",
        "colab_type": "text"
      },
      "source": [
        "<a href=\"https://colab.research.google.com/github/flohmannjr/TCC530/blob/main/TCC530_Dados.ipynb\" target=\"_parent\"><img src=\"https://colab.research.google.com/assets/colab-badge.svg\" alt=\"Open In Colab\"/></a>"
      ]
    },
    {
      "cell_type": "markdown",
      "source": [
        "# TCC530 - Dados"
      ],
      "metadata": {
        "id": "ZlGTcZF7l2TB"
      }
    },
    {
      "cell_type": "markdown",
      "source": [
        "## Importações de bibliotecas"
      ],
      "metadata": {
        "id": "WqEilYWShIy9"
      }
    },
    {
      "cell_type": "code",
      "source": [
        "import numpy as np\n",
        "import pandas as pd\n",
        "\n",
        "import matplotlib.pyplot as plt\n",
        "import seaborn as sns\n",
        "\n",
        "import random\n",
        "\n",
        "from tensorflow.keras.layers import Embedding, TextVectorization\n",
        "\n",
        "from sklearn.model_selection import train_test_split"
      ],
      "metadata": {
        "id": "uQ_9d0rKl7Y5"
      },
      "execution_count": 1,
      "outputs": []
    },
    {
      "cell_type": "markdown",
      "source": [
        "## Configurações"
      ],
      "metadata": {
        "id": "aI2iohUhhZST"
      }
    },
    {
      "cell_type": "code",
      "source": [
        "# pd.set_option('display.max_colwidth', None)\n",
        "\n",
        "plt.rcParams['figure.figsize'] = [8, 5]\n",
        "plt.rcParams['figure.dpi'] = 100\n",
        "\n",
        "sns.set_style(\"darkgrid\")"
      ],
      "metadata": {
        "id": "Rp5BDfYGhdyK"
      },
      "execution_count": 2,
      "outputs": []
    },
    {
      "cell_type": "markdown",
      "source": [
        "### Constantes"
      ],
      "metadata": {
        "id": "2mYrOLyyo3rE"
      }
    },
    {
      "cell_type": "code",
      "source": [
        "SEMENTE = 2008193\n",
        "\n",
        "COR = '#305DB8'\n",
        "\n",
        "LIMITE_DICIONARIO = 80000"
      ],
      "metadata": {
        "id": "YdFyHpMEo5vV"
      },
      "execution_count": 3,
      "outputs": []
    },
    {
      "cell_type": "markdown",
      "source": [
        "## Dados"
      ],
      "metadata": {
        "id": "rMCA_Vc9hn4L"
      }
    },
    {
      "cell_type": "code",
      "source": [
        "# Fake.Br Corpus https://github.com/roneysco/Fake.br-Corpus\n",
        "\n",
        "# dados = pd.read_csv('https://raw.githubusercontent.com/roneysco/Fake.br-Corpus/master/preprocessed/pre-processed.csv',\n",
        "#                     header=0,\n",
        "#                     names=['index', 'rotulo', 'noticia'],\n",
        "#                     index_col=['index'])"
      ],
      "metadata": {
        "id": "Out5sfUOhsN7"
      },
      "execution_count": 4,
      "outputs": []
    },
    {
      "cell_type": "code",
      "source": [
        "# Muda rótulos de 'fake' e 'true' para 0 e 1, respectivamente.\n",
        "# dados['rotulo'].replace({'fake': 0, 'true': 1}, inplace=True)\n",
        "\n",
        "# Conta e armazena a quantidade de palavras na notícia.\n",
        "# dados['palavras'] = dados['noticia'].str.split().str.len()"
      ],
      "metadata": {
        "id": "gxNHPtPltb8_"
      },
      "execution_count": 5,
      "outputs": []
    },
    {
      "cell_type": "code",
      "source": [
        "dados = pd.read_csv('https://raw.githubusercontent.com/Edvandro-Nogueira/TCC-Univesp/main/dados_noticias.csv',\n",
        "                    sep=';')"
      ],
      "metadata": {
        "id": "vY_zvQlBmFcT"
      },
      "execution_count": 6,
      "outputs": []
    },
    {
      "cell_type": "code",
      "source": [
        "dados = dados[dados['noticias'].notna()]"
      ],
      "metadata": {
        "id": "LkwTFhn_pGAb"
      },
      "execution_count": 7,
      "outputs": []
    },
    {
      "cell_type": "code",
      "source": [
        "dados['palavras'] = dados['noticias'].str.split().str.len()"
      ],
      "metadata": {
        "id": "GIDDOab2mFRX"
      },
      "execution_count": 8,
      "outputs": []
    },
    {
      "cell_type": "code",
      "source": [
        "dados.info()"
      ],
      "metadata": {
        "colab": {
          "base_uri": "https://localhost:8080/"
        },
        "id": "3ocxy4-Kkt6n",
        "outputId": "b7ed72f5-7120-4d56-f2fa-1d18adde3d1c"
      },
      "execution_count": 9,
      "outputs": [
        {
          "output_type": "stream",
          "name": "stdout",
          "text": [
            "<class 'pandas.core.frame.DataFrame'>\n",
            "Int64Index: 10738 entries, 0 to 10757\n",
            "Data columns (total 3 columns):\n",
            " #   Column    Non-Null Count  Dtype \n",
            "---  ------    --------------  ----- \n",
            " 0   noticias  10738 non-null  object\n",
            " 1   classe    10738 non-null  int64 \n",
            " 2   palavras  10738 non-null  int64 \n",
            "dtypes: int64(2), object(1)\n",
            "memory usage: 335.6+ KB\n"
          ]
        }
      ]
    },
    {
      "cell_type": "code",
      "source": [
        "dados['classe'].value_counts()"
      ],
      "metadata": {
        "colab": {
          "base_uri": "https://localhost:8080/"
        },
        "id": "pC9WtRCSpJBy",
        "outputId": "f42ccd42-43bd-4fde-f8de-d1ee8e8c6362"
      },
      "execution_count": 10,
      "outputs": [
        {
          "output_type": "execute_result",
          "data": {
            "text/plain": [
              "0    6128\n",
              "1    4610\n",
              "Name: classe, dtype: int64"
            ]
          },
          "metadata": {},
          "execution_count": 10
        }
      ]
    },
    {
      "cell_type": "code",
      "source": [
        "dados.sample(5)"
      ],
      "metadata": {
        "colab": {
          "base_uri": "https://localhost:8080/",
          "height": 206
        },
        "id": "CQvBmtAkldfJ",
        "outputId": "035605f5-5010-427b-d5fd-c111739fd2d9"
      },
      "execution_count": 11,
      "outputs": [
        {
          "output_type": "execute_result",
          "data": {
            "text/plain": [
              "                                               noticias  classe  palavras\n",
              "4609  havana meio seculo poder absoluto fidel castro...       1       435\n",
              "7302  Profissão: Metalúrgico. Fortuna: U$ 2 bilhões ...       0        29\n",
              "6655  veja principais trechos julgamento recurso lul...       1      1028\n",
              "7853  Golaço do presidente [Bolsonaro]. Se você não ...       0        15\n",
              "2456  justica federal brasilia determina apreensao p...       0        78"
            ],
            "text/html": [
              "\n",
              "  <div id=\"df-748851fa-1ff1-442b-bbea-2d80f0398e16\" class=\"colab-df-container\">\n",
              "    <div>\n",
              "<style scoped>\n",
              "    .dataframe tbody tr th:only-of-type {\n",
              "        vertical-align: middle;\n",
              "    }\n",
              "\n",
              "    .dataframe tbody tr th {\n",
              "        vertical-align: top;\n",
              "    }\n",
              "\n",
              "    .dataframe thead th {\n",
              "        text-align: right;\n",
              "    }\n",
              "</style>\n",
              "<table border=\"1\" class=\"dataframe\">\n",
              "  <thead>\n",
              "    <tr style=\"text-align: right;\">\n",
              "      <th></th>\n",
              "      <th>noticias</th>\n",
              "      <th>classe</th>\n",
              "      <th>palavras</th>\n",
              "    </tr>\n",
              "  </thead>\n",
              "  <tbody>\n",
              "    <tr>\n",
              "      <th>4609</th>\n",
              "      <td>havana meio seculo poder absoluto fidel castro...</td>\n",
              "      <td>1</td>\n",
              "      <td>435</td>\n",
              "    </tr>\n",
              "    <tr>\n",
              "      <th>7302</th>\n",
              "      <td>Profissão: Metalúrgico. Fortuna: U$ 2 bilhões ...</td>\n",
              "      <td>0</td>\n",
              "      <td>29</td>\n",
              "    </tr>\n",
              "    <tr>\n",
              "      <th>6655</th>\n",
              "      <td>veja principais trechos julgamento recurso lul...</td>\n",
              "      <td>1</td>\n",
              "      <td>1028</td>\n",
              "    </tr>\n",
              "    <tr>\n",
              "      <th>7853</th>\n",
              "      <td>Golaço do presidente [Bolsonaro]. Se você não ...</td>\n",
              "      <td>0</td>\n",
              "      <td>15</td>\n",
              "    </tr>\n",
              "    <tr>\n",
              "      <th>2456</th>\n",
              "      <td>justica federal brasilia determina apreensao p...</td>\n",
              "      <td>0</td>\n",
              "      <td>78</td>\n",
              "    </tr>\n",
              "  </tbody>\n",
              "</table>\n",
              "</div>\n",
              "    <div class=\"colab-df-buttons\">\n",
              "\n",
              "  <div class=\"colab-df-container\">\n",
              "    <button class=\"colab-df-convert\" onclick=\"convertToInteractive('df-748851fa-1ff1-442b-bbea-2d80f0398e16')\"\n",
              "            title=\"Convert this dataframe to an interactive table.\"\n",
              "            style=\"display:none;\">\n",
              "\n",
              "  <svg xmlns=\"http://www.w3.org/2000/svg\" height=\"24px\" viewBox=\"0 -960 960 960\">\n",
              "    <path d=\"M120-120v-720h720v720H120Zm60-500h600v-160H180v160Zm220 220h160v-160H400v160Zm0 220h160v-160H400v160ZM180-400h160v-160H180v160Zm440 0h160v-160H620v160ZM180-180h160v-160H180v160Zm440 0h160v-160H620v160Z\"/>\n",
              "  </svg>\n",
              "    </button>\n",
              "\n",
              "  <style>\n",
              "    .colab-df-container {\n",
              "      display:flex;\n",
              "      gap: 12px;\n",
              "    }\n",
              "\n",
              "    .colab-df-convert {\n",
              "      background-color: #E8F0FE;\n",
              "      border: none;\n",
              "      border-radius: 50%;\n",
              "      cursor: pointer;\n",
              "      display: none;\n",
              "      fill: #1967D2;\n",
              "      height: 32px;\n",
              "      padding: 0 0 0 0;\n",
              "      width: 32px;\n",
              "    }\n",
              "\n",
              "    .colab-df-convert:hover {\n",
              "      background-color: #E2EBFA;\n",
              "      box-shadow: 0px 1px 2px rgba(60, 64, 67, 0.3), 0px 1px 3px 1px rgba(60, 64, 67, 0.15);\n",
              "      fill: #174EA6;\n",
              "    }\n",
              "\n",
              "    .colab-df-buttons div {\n",
              "      margin-bottom: 4px;\n",
              "    }\n",
              "\n",
              "    [theme=dark] .colab-df-convert {\n",
              "      background-color: #3B4455;\n",
              "      fill: #D2E3FC;\n",
              "    }\n",
              "\n",
              "    [theme=dark] .colab-df-convert:hover {\n",
              "      background-color: #434B5C;\n",
              "      box-shadow: 0px 1px 3px 1px rgba(0, 0, 0, 0.15);\n",
              "      filter: drop-shadow(0px 1px 2px rgba(0, 0, 0, 0.3));\n",
              "      fill: #FFFFFF;\n",
              "    }\n",
              "  </style>\n",
              "\n",
              "    <script>\n",
              "      const buttonEl =\n",
              "        document.querySelector('#df-748851fa-1ff1-442b-bbea-2d80f0398e16 button.colab-df-convert');\n",
              "      buttonEl.style.display =\n",
              "        google.colab.kernel.accessAllowed ? 'block' : 'none';\n",
              "\n",
              "      async function convertToInteractive(key) {\n",
              "        const element = document.querySelector('#df-748851fa-1ff1-442b-bbea-2d80f0398e16');\n",
              "        const dataTable =\n",
              "          await google.colab.kernel.invokeFunction('convertToInteractive',\n",
              "                                                    [key], {});\n",
              "        if (!dataTable) return;\n",
              "\n",
              "        const docLinkHtml = 'Like what you see? Visit the ' +\n",
              "          '<a target=\"_blank\" href=https://colab.research.google.com/notebooks/data_table.ipynb>data table notebook</a>'\n",
              "          + ' to learn more about interactive tables.';\n",
              "        element.innerHTML = '';\n",
              "        dataTable['output_type'] = 'display_data';\n",
              "        await google.colab.output.renderOutput(dataTable, element);\n",
              "        const docLink = document.createElement('div');\n",
              "        docLink.innerHTML = docLinkHtml;\n",
              "        element.appendChild(docLink);\n",
              "      }\n",
              "    </script>\n",
              "  </div>\n",
              "\n",
              "\n",
              "<div id=\"df-8cdf8867-fa58-49bf-8254-f4f7c4c5732a\">\n",
              "  <button class=\"colab-df-quickchart\" onclick=\"quickchart('df-8cdf8867-fa58-49bf-8254-f4f7c4c5732a')\"\n",
              "            title=\"Suggest charts.\"\n",
              "            style=\"display:none;\">\n",
              "\n",
              "<svg xmlns=\"http://www.w3.org/2000/svg\" height=\"24px\"viewBox=\"0 0 24 24\"\n",
              "     width=\"24px\">\n",
              "    <g>\n",
              "        <path d=\"M19 3H5c-1.1 0-2 .9-2 2v14c0 1.1.9 2 2 2h14c1.1 0 2-.9 2-2V5c0-1.1-.9-2-2-2zM9 17H7v-7h2v7zm4 0h-2V7h2v10zm4 0h-2v-4h2v4z\"/>\n",
              "    </g>\n",
              "</svg>\n",
              "  </button>\n",
              "\n",
              "<style>\n",
              "  .colab-df-quickchart {\n",
              "      --bg-color: #E8F0FE;\n",
              "      --fill-color: #1967D2;\n",
              "      --hover-bg-color: #E2EBFA;\n",
              "      --hover-fill-color: #174EA6;\n",
              "      --disabled-fill-color: #AAA;\n",
              "      --disabled-bg-color: #DDD;\n",
              "  }\n",
              "\n",
              "  [theme=dark] .colab-df-quickchart {\n",
              "      --bg-color: #3B4455;\n",
              "      --fill-color: #D2E3FC;\n",
              "      --hover-bg-color: #434B5C;\n",
              "      --hover-fill-color: #FFFFFF;\n",
              "      --disabled-bg-color: #3B4455;\n",
              "      --disabled-fill-color: #666;\n",
              "  }\n",
              "\n",
              "  .colab-df-quickchart {\n",
              "    background-color: var(--bg-color);\n",
              "    border: none;\n",
              "    border-radius: 50%;\n",
              "    cursor: pointer;\n",
              "    display: none;\n",
              "    fill: var(--fill-color);\n",
              "    height: 32px;\n",
              "    padding: 0;\n",
              "    width: 32px;\n",
              "  }\n",
              "\n",
              "  .colab-df-quickchart:hover {\n",
              "    background-color: var(--hover-bg-color);\n",
              "    box-shadow: 0 1px 2px rgba(60, 64, 67, 0.3), 0 1px 3px 1px rgba(60, 64, 67, 0.15);\n",
              "    fill: var(--button-hover-fill-color);\n",
              "  }\n",
              "\n",
              "  .colab-df-quickchart-complete:disabled,\n",
              "  .colab-df-quickchart-complete:disabled:hover {\n",
              "    background-color: var(--disabled-bg-color);\n",
              "    fill: var(--disabled-fill-color);\n",
              "    box-shadow: none;\n",
              "  }\n",
              "\n",
              "  .colab-df-spinner {\n",
              "    border: 2px solid var(--fill-color);\n",
              "    border-color: transparent;\n",
              "    border-bottom-color: var(--fill-color);\n",
              "    animation:\n",
              "      spin 1s steps(1) infinite;\n",
              "  }\n",
              "\n",
              "  @keyframes spin {\n",
              "    0% {\n",
              "      border-color: transparent;\n",
              "      border-bottom-color: var(--fill-color);\n",
              "      border-left-color: var(--fill-color);\n",
              "    }\n",
              "    20% {\n",
              "      border-color: transparent;\n",
              "      border-left-color: var(--fill-color);\n",
              "      border-top-color: var(--fill-color);\n",
              "    }\n",
              "    30% {\n",
              "      border-color: transparent;\n",
              "      border-left-color: var(--fill-color);\n",
              "      border-top-color: var(--fill-color);\n",
              "      border-right-color: var(--fill-color);\n",
              "    }\n",
              "    40% {\n",
              "      border-color: transparent;\n",
              "      border-right-color: var(--fill-color);\n",
              "      border-top-color: var(--fill-color);\n",
              "    }\n",
              "    60% {\n",
              "      border-color: transparent;\n",
              "      border-right-color: var(--fill-color);\n",
              "    }\n",
              "    80% {\n",
              "      border-color: transparent;\n",
              "      border-right-color: var(--fill-color);\n",
              "      border-bottom-color: var(--fill-color);\n",
              "    }\n",
              "    90% {\n",
              "      border-color: transparent;\n",
              "      border-bottom-color: var(--fill-color);\n",
              "    }\n",
              "  }\n",
              "</style>\n",
              "\n",
              "  <script>\n",
              "    async function quickchart(key) {\n",
              "      const quickchartButtonEl =\n",
              "        document.querySelector('#' + key + ' button');\n",
              "      quickchartButtonEl.disabled = true;  // To prevent multiple clicks.\n",
              "      quickchartButtonEl.classList.add('colab-df-spinner');\n",
              "      try {\n",
              "        const charts = await google.colab.kernel.invokeFunction(\n",
              "            'suggestCharts', [key], {});\n",
              "      } catch (error) {\n",
              "        console.error('Error during call to suggestCharts:', error);\n",
              "      }\n",
              "      quickchartButtonEl.classList.remove('colab-df-spinner');\n",
              "      quickchartButtonEl.classList.add('colab-df-quickchart-complete');\n",
              "    }\n",
              "    (() => {\n",
              "      let quickchartButtonEl =\n",
              "        document.querySelector('#df-8cdf8867-fa58-49bf-8254-f4f7c4c5732a button');\n",
              "      quickchartButtonEl.style.display =\n",
              "        google.colab.kernel.accessAllowed ? 'block' : 'none';\n",
              "    })();\n",
              "  </script>\n",
              "</div>\n",
              "    </div>\n",
              "  </div>\n"
            ]
          },
          "metadata": {},
          "execution_count": 11
        }
      ]
    },
    {
      "cell_type": "code",
      "source": [
        "sns.histplot(data=dados, x='palavras', color=COR)\n",
        "\n",
        "plt.xlabel('Quantidade de palavras')\n",
        "plt.ylabel('Quantidade de notícias');"
      ],
      "metadata": {
        "colab": {
          "base_uri": "https://localhost:8080/",
          "height": 465
        },
        "id": "vOnSf4kXn1jw",
        "outputId": "13cd34b3-4c4f-4625-f45d-db1b6c6f363b"
      },
      "execution_count": 12,
      "outputs": [
        {
          "output_type": "display_data",
          "data": {
            "text/plain": [
              "<Figure size 800x500 with 1 Axes>"
            ],
            "image/png": "[encoded data removed]"
          },
          "metadata": {}
        }
      ]
    },
    {
      "cell_type": "code",
      "source": [
        "# Quantidade máxima de palavras em 99% das notícias.\n",
        "palavras_99 = int(np.percentile(dados['palavras'], 99))"
      ],
      "metadata": {
        "id": "lGUblF_bs4Zh"
      },
      "execution_count": 13,
      "outputs": []
    },
    {
      "cell_type": "code",
      "source": [
        "print(f\"Máximo.: {np.max(dados['palavras'])}\")\n",
        "print(f\"Média..: {np.mean(dados['palavras'])}\")\n",
        "print(f\"99%....: {palavras_99}\")"
      ],
      "metadata": {
        "colab": {
          "base_uri": "https://localhost:8080/"
        },
        "id": "nrM4hzUws4Wp",
        "outputId": "d7e6a935-aee9-4b43-f374-164578f20bfe"
      },
      "execution_count": 14,
      "outputs": [
        {
          "output_type": "stream",
          "name": "stdout",
          "text": [
            "Máximo.: 4229\n",
            "Média..: 256.1611100763643\n",
            "99%....: 1453\n"
          ]
        }
      ]
    },
    {
      "cell_type": "code",
      "source": [
        "sns.histplot(data=dados, x='palavras', color=COR)\n",
        "\n",
        "plt.xlim(0, palavras_99)\n",
        "\n",
        "plt.xlabel('Quantidade de palavras')\n",
        "plt.ylabel('Quantidade de notícias');"
      ],
      "metadata": {
        "colab": {
          "base_uri": "https://localhost:8080/",
          "height": 465
        },
        "id": "ryD8knzYs4Ti",
        "outputId": "3eb92d31-fab2-4262-87e6-1e02941120e9"
      },
      "execution_count": 15,
      "outputs": [
        {
          "output_type": "display_data",
          "data": {
            "text/plain": [
              "<Figure size 800x500 with 1 Axes>"
            ],
            "image/png": "[encoded data removed]"
          },
          "metadata": {}
        }
      ]
    },
    {
      "cell_type": "code",
      "source": [
        "sns.histplot(data=dados, x='palavras', hue='classe')\n",
        "\n",
        "plt.xlim(0, palavras_99)\n",
        "\n",
        "plt.xlabel('Quantidade de palavras')\n",
        "plt.ylabel('Quantidade de notícias');"
      ],
      "metadata": {
        "colab": {
          "base_uri": "https://localhost:8080/",
          "height": 465
        },
        "id": "al8moQAcvUKe",
        "outputId": "187a07c6-ae23-4ba4-ba3d-b6fa0a65273b"
      },
      "execution_count": 16,
      "outputs": [
        {
          "output_type": "display_data",
          "data": {
            "text/plain": [
              "<Figure size 800x500 with 1 Axes>"
            ],
            "image/png": "[encoded data removed]"
          },
          "metadata": {}
        }
      ]
    },
    {
      "cell_type": "code",
      "source": [
        "X = dados['noticias']\n",
        "y = dados['classe']\n",
        "\n",
        "X_train, X_test, y_train, y_test = train_test_split(X, y, test_size=0.2, random_state=SEMENTE)"
      ],
      "metadata": {
        "id": "pzkpp9G6pe37"
      },
      "execution_count": 17,
      "outputs": []
    },
    {
      "cell_type": "code",
      "source": [
        "X_train.shape, X_test.shape, y_train.shape, y_test.shape"
      ],
      "metadata": {
        "id": "jBwZySiCqRRe",
        "colab": {
          "base_uri": "https://localhost:8080/"
        },
        "outputId": "37a75906-11bd-4869-9b5c-1d0c8b0d825d"
      },
      "execution_count": 18,
      "outputs": [
        {
          "output_type": "execute_result",
          "data": {
            "text/plain": [
              "((8590,), (2148,), (8590,), (2148,))"
            ]
          },
          "metadata": {},
          "execution_count": 18
        }
      ]
    },
    {
      "cell_type": "code",
      "source": [
        "X_train.dtype, X_test.dtype, y_train.dtype, y_test.dtype"
      ],
      "metadata": {
        "id": "JYM1fQBJsBT2",
        "colab": {
          "base_uri": "https://localhost:8080/"
        },
        "outputId": "2711e35c-15ec-4d28-f980-386de63e5462"
      },
      "execution_count": 19,
      "outputs": [
        {
          "output_type": "execute_result",
          "data": {
            "text/plain": [
              "(dtype('O'), dtype('O'), dtype('int64'), dtype('int64'))"
            ]
          },
          "metadata": {},
          "execution_count": 19
        }
      ]
    },
    {
      "cell_type": "markdown",
      "source": [
        "### Converter texto em números"
      ],
      "metadata": {
        "id": "XFJvbZGNF1wQ"
      }
    },
    {
      "cell_type": "markdown",
      "source": [
        "#### Vetorização (Vectorization)"
      ],
      "metadata": {
        "id": "MZMY-KhKPbON"
      }
    },
    {
      "cell_type": "code",
      "source": [
        "# vetorizador = TextVectorization(max_tokens=LIMITE_DICIONARIO,               # (Default: None) Máximo de tokens (palavras) no dicionário.\n",
        "#                                 standardize='lower_and_strip_punctuation',  # (Default) Texto em caixa baixa e retira caracteres especiais.\n",
        "#                                 split='whitespace',                         # (Default) Separador de tokens.\n",
        "#                                 ngrams=None,                                # (Default) Tokens por grupo. (None = não agrupar tokens.)\n",
        "#                                 output_mode='int',                          # (Default) Como mapear tokens para números.\n",
        "#                                 output_sequence_length=palavras_99)         # (Default: None) Tamanho do texto, completado ou truncado, se necessário. (Válido apenas para 'int'.)"
      ],
      "metadata": {
        "id": "cK8AkY3m4DYF"
      },
      "execution_count": 20,
      "outputs": []
    },
    {
      "cell_type": "code",
      "source": [
        "# vetorizador.adapt(X_train)"
      ],
      "metadata": {
        "id": "Ak3f6OTu7Dfp"
      },
      "execution_count": 21,
      "outputs": []
    },
    {
      "cell_type": "code",
      "source": [
        "# texto = random.choice(X_train)\n",
        "# print(texto)\n",
        "\n",
        "# vet = vetorizador([texto])"
      ],
      "metadata": {
        "id": "orHNIpsbLafi"
      },
      "execution_count": 22,
      "outputs": []
    },
    {
      "cell_type": "code",
      "source": [
        "# with np.printoptions(threshold=np.inf):\n",
        "#     print(vet)"
      ],
      "metadata": {
        "id": "EFz-nX0wRvxW"
      },
      "execution_count": 23,
      "outputs": []
    },
    {
      "cell_type": "code",
      "source": [
        "# vocabulario = vetorizador.get_vocabulary()"
      ],
      "metadata": {
        "id": "TRo6HuAcMLEf"
      },
      "execution_count": 24,
      "outputs": []
    },
    {
      "cell_type": "code",
      "source": [
        "# [UNK] = Desconhecido, fora do limite do dicionário.\n",
        "# len(vocabulario), vocabulario[:8], vocabulario[-8:]"
      ],
      "metadata": {
        "id": "kUN1qXHXNrY-"
      },
      "execution_count": 25,
      "outputs": []
    },
    {
      "cell_type": "markdown",
      "source": [
        "#### Incorporação (Embedding)"
      ],
      "metadata": {
        "id": "aFWb7WPXOnqn"
      }
    },
    {
      "cell_type": "code",
      "source": [
        "# incorporador = Embedding(input_dim=LIMITE_DICIONARIO,  # Tamanho do vocabulário de entrada.\n",
        "#                          output_dim=128,               # Dimensão do vetor de saída. (Geralmente um múltiplo de 8.)\n",
        "#                          input_length=palavras_99)     # Tamanho do texto de entrada."
      ],
      "metadata": {
        "id": "LhYEdM7FPqW_"
      },
      "execution_count": 26,
      "outputs": []
    },
    {
      "cell_type": "code",
      "source": [
        "# texto = random.choice(X_train)\n",
        "# print(texto)\n",
        "\n",
        "# incorporador(vetorizador([texto]))"
      ],
      "metadata": {
        "id": "3eUep0VlTCSa"
      },
      "execution_count": 27,
      "outputs": []
    }
  ]
}