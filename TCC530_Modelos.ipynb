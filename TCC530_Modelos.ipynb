{
  "nbformat": 4,
  "nbformat_minor": 0,
  "metadata": {
    "colab": {
      "provenance": [],
      "toc_visible": true,
      "gpuType": "T4",
      "authorship_tag": "ABX9TyPf/IBDZeLQOcW/9EgJxxhG",
      "include_colab_link": true
    },
    "kernelspec": {
      "name": "python3",
      "display_name": "Python 3"
    },
    "language_info": {
      "name": "python"
    },
    "accelerator": "GPU"
  },
  "cells": [
    {
      "cell_type": "markdown",
      "metadata": {
        "id": "view-in-github",
        "colab_type": "text"
      },
      "source": [
        "<a href=\"https://colab.research.google.com/github/flohmannjr/TCC530/blob/main/TCC530_Modelos.ipynb\" target=\"_parent\"><img src=\"https://colab.research.google.com/assets/colab-badge.svg\" alt=\"Open In Colab\"/></a>"
      ]
    },
    {
      "cell_type": "markdown",
      "source": [
        "# TCC530 - Modelos"
      ],
      "metadata": {
        "id": "sM5NtvKd2t6r"
      }
    },
    {
      "cell_type": "markdown",
      "source": [
        "## Importações de bibliotecas"
      ],
      "metadata": {
        "id": "WqEilYWShIy9"
      }
    },
    {
      "cell_type": "code",
      "source": [
        "import numpy as np\n",
        "import pandas as pd\n",
        "\n",
        "import matplotlib.pyplot as plt\n",
        "import seaborn as sns\n",
        "\n",
        "import tensorflow as tf\n",
        "import tensorflow_hub as hub\n",
        "\n",
        "from tensorflow.keras import Model\n",
        "from tensorflow.keras.optimizers import Adam\n",
        "\n",
        "from tensorflow.keras.layers import Embedding, TextVectorization\n",
        "from tensorflow.keras.layers import Bidirectional, Concatenate, Conv1D, Dense\n",
        "from tensorflow.keras.layers import Dropout, GlobalMaxPool1D, Input, LSTM\n",
        "\n",
        "from sklearn.feature_extraction.text import TfidfVectorizer\n",
        "from sklearn.naive_bayes import MultinomialNB\n",
        "from sklearn.pipeline import Pipeline\n",
        "\n",
        "from sklearn.metrics import classification_report, ConfusionMatrixDisplay\n",
        "from sklearn.model_selection import train_test_split"
      ],
      "metadata": {
        "id": "MySX__30hTdj"
      },
      "execution_count": 1,
      "outputs": []
    },
    {
      "cell_type": "code",
      "source": [
        "# Necessário para o modelo Transformer\n",
        "!pip install -U \"tensorflow-text==2.13.*\"\n",
        "import tensorflow_text as tf_text"
      ],
      "metadata": {
        "id": "68a-ynv-i2Ct",
        "colab": {
          "base_uri": "https://localhost:8080/"
        },
        "outputId": "e9cefa0f-53cb-4e0f-bcf6-308678bc8ac0"
      },
      "execution_count": 2,
      "outputs": [
        {
          "output_type": "stream",
          "name": "stdout",
          "text": [
            "Collecting tensorflow-text==2.13.*\n",
            "  Downloading tensorflow_text-2.13.0-cp310-cp310-manylinux_2_17_x86_64.manylinux2014_x86_64.whl (6.5 MB)\n",
            "\u001b[2K     \u001b[90m━━━━━━━━━━━━━━━━━━━━━━━━━━━━━━━━━━━━━━━━\u001b[0m \u001b[32m6.5/6.5 MB\u001b[0m \u001b[31m42.5 MB/s\u001b[0m eta \u001b[36m0:00:00\u001b[0m\n",
            "\u001b[?25hRequirement already satisfied: tensorflow-hub>=0.8.0 in /usr/local/lib/python3.10/dist-packages (from tensorflow-text==2.13.*) (0.15.0)\n",
            "Requirement already satisfied: tensorflow<2.14,>=2.13.0 in /usr/local/lib/python3.10/dist-packages (from tensorflow-text==2.13.*) (2.13.0)\n",
            "Requirement already satisfied: absl-py>=1.0.0 in /usr/local/lib/python3.10/dist-packages (from tensorflow<2.14,>=2.13.0->tensorflow-text==2.13.*) (1.4.0)\n",
            "Requirement already satisfied: astunparse>=1.6.0 in /usr/local/lib/python3.10/dist-packages (from tensorflow<2.14,>=2.13.0->tensorflow-text==2.13.*) (1.6.3)\n",
            "Requirement already satisfied: flatbuffers>=23.1.21 in /usr/local/lib/python3.10/dist-packages (from tensorflow<2.14,>=2.13.0->tensorflow-text==2.13.*) (23.5.26)\n",
            "Requirement already satisfied: gast<=0.4.0,>=0.2.1 in /usr/local/lib/python3.10/dist-packages (from tensorflow<2.14,>=2.13.0->tensorflow-text==2.13.*) (0.4.0)\n",
            "Requirement already satisfied: google-pasta>=0.1.1 in /usr/local/lib/python3.10/dist-packages (from tensorflow<2.14,>=2.13.0->tensorflow-text==2.13.*) (0.2.0)\n",
            "Requirement already satisfied: grpcio<2.0,>=1.24.3 in /usr/local/lib/python3.10/dist-packages (from tensorflow<2.14,>=2.13.0->tensorflow-text==2.13.*) (1.59.0)\n",
            "Requirement already satisfied: h5py>=2.9.0 in /usr/local/lib/python3.10/dist-packages (from tensorflow<2.14,>=2.13.0->tensorflow-text==2.13.*) (3.9.0)\n",
            "Requirement already satisfied: keras<2.14,>=2.13.1 in /usr/local/lib/python3.10/dist-packages (from tensorflow<2.14,>=2.13.0->tensorflow-text==2.13.*) (2.13.1)\n",
            "Requirement already satisfied: libclang>=13.0.0 in /usr/local/lib/python3.10/dist-packages (from tensorflow<2.14,>=2.13.0->tensorflow-text==2.13.*) (16.0.6)\n",
            "Requirement already satisfied: numpy<=1.24.3,>=1.22 in /usr/local/lib/python3.10/dist-packages (from tensorflow<2.14,>=2.13.0->tensorflow-text==2.13.*) (1.23.5)\n",
            "Requirement already satisfied: opt-einsum>=2.3.2 in /usr/local/lib/python3.10/dist-packages (from tensorflow<2.14,>=2.13.0->tensorflow-text==2.13.*) (3.3.0)\n",
            "Requirement already satisfied: packaging in /usr/local/lib/python3.10/dist-packages (from tensorflow<2.14,>=2.13.0->tensorflow-text==2.13.*) (23.2)\n",
            "Requirement already satisfied: protobuf!=4.21.0,!=4.21.1,!=4.21.2,!=4.21.3,!=4.21.4,!=4.21.5,<5.0.0dev,>=3.20.3 in /usr/local/lib/python3.10/dist-packages (from tensorflow<2.14,>=2.13.0->tensorflow-text==2.13.*) (3.20.3)\n",
            "Requirement already satisfied: setuptools in /usr/local/lib/python3.10/dist-packages (from tensorflow<2.14,>=2.13.0->tensorflow-text==2.13.*) (67.7.2)\n",
            "Requirement already satisfied: six>=1.12.0 in /usr/local/lib/python3.10/dist-packages (from tensorflow<2.14,>=2.13.0->tensorflow-text==2.13.*) (1.16.0)\n",
            "Requirement already satisfied: tensorboard<2.14,>=2.13 in /usr/local/lib/python3.10/dist-packages (from tensorflow<2.14,>=2.13.0->tensorflow-text==2.13.*) (2.13.0)\n",
            "Requirement already satisfied: tensorflow-estimator<2.14,>=2.13.0 in /usr/local/lib/python3.10/dist-packages (from tensorflow<2.14,>=2.13.0->tensorflow-text==2.13.*) (2.13.0)\n",
            "Requirement already satisfied: termcolor>=1.1.0 in /usr/local/lib/python3.10/dist-packages (from tensorflow<2.14,>=2.13.0->tensorflow-text==2.13.*) (2.3.0)\n",
            "Requirement already satisfied: typing-extensions<4.6.0,>=3.6.6 in /usr/local/lib/python3.10/dist-packages (from tensorflow<2.14,>=2.13.0->tensorflow-text==2.13.*) (4.5.0)\n",
            "Requirement already satisfied: wrapt>=1.11.0 in /usr/local/lib/python3.10/dist-packages (from tensorflow<2.14,>=2.13.0->tensorflow-text==2.13.*) (1.15.0)\n",
            "Requirement already satisfied: tensorflow-io-gcs-filesystem>=0.23.1 in /usr/local/lib/python3.10/dist-packages (from tensorflow<2.14,>=2.13.0->tensorflow-text==2.13.*) (0.34.0)\n",
            "Requirement already satisfied: wheel<1.0,>=0.23.0 in /usr/local/lib/python3.10/dist-packages (from astunparse>=1.6.0->tensorflow<2.14,>=2.13.0->tensorflow-text==2.13.*) (0.41.2)\n",
            "Requirement already satisfied: google-auth<3,>=1.6.3 in /usr/local/lib/python3.10/dist-packages (from tensorboard<2.14,>=2.13->tensorflow<2.14,>=2.13.0->tensorflow-text==2.13.*) (2.17.3)\n",
            "Requirement already satisfied: google-auth-oauthlib<1.1,>=0.5 in /usr/local/lib/python3.10/dist-packages (from tensorboard<2.14,>=2.13->tensorflow<2.14,>=2.13.0->tensorflow-text==2.13.*) (1.0.0)\n",
            "Requirement already satisfied: markdown>=2.6.8 in /usr/local/lib/python3.10/dist-packages (from tensorboard<2.14,>=2.13->tensorflow<2.14,>=2.13.0->tensorflow-text==2.13.*) (3.5)\n",
            "Requirement already satisfied: requests<3,>=2.21.0 in /usr/local/lib/python3.10/dist-packages (from tensorboard<2.14,>=2.13->tensorflow<2.14,>=2.13.0->tensorflow-text==2.13.*) (2.31.0)\n",
            "Requirement already satisfied: tensorboard-data-server<0.8.0,>=0.7.0 in /usr/local/lib/python3.10/dist-packages (from tensorboard<2.14,>=2.13->tensorflow<2.14,>=2.13.0->tensorflow-text==2.13.*) (0.7.1)\n",
            "Requirement already satisfied: werkzeug>=1.0.1 in /usr/local/lib/python3.10/dist-packages (from tensorboard<2.14,>=2.13->tensorflow<2.14,>=2.13.0->tensorflow-text==2.13.*) (3.0.0)\n",
            "Requirement already satisfied: cachetools<6.0,>=2.0.0 in /usr/local/lib/python3.10/dist-packages (from google-auth<3,>=1.6.3->tensorboard<2.14,>=2.13->tensorflow<2.14,>=2.13.0->tensorflow-text==2.13.*) (5.3.1)\n",
            "Requirement already satisfied: pyasn1-modules>=0.2.1 in /usr/local/lib/python3.10/dist-packages (from google-auth<3,>=1.6.3->tensorboard<2.14,>=2.13->tensorflow<2.14,>=2.13.0->tensorflow-text==2.13.*) (0.3.0)\n",
            "Requirement already satisfied: rsa<5,>=3.1.4 in /usr/local/lib/python3.10/dist-packages (from google-auth<3,>=1.6.3->tensorboard<2.14,>=2.13->tensorflow<2.14,>=2.13.0->tensorflow-text==2.13.*) (4.9)\n",
            "Requirement already satisfied: requests-oauthlib>=0.7.0 in /usr/local/lib/python3.10/dist-packages (from google-auth-oauthlib<1.1,>=0.5->tensorboard<2.14,>=2.13->tensorflow<2.14,>=2.13.0->tensorflow-text==2.13.*) (1.3.1)\n",
            "Requirement already satisfied: charset-normalizer<4,>=2 in /usr/local/lib/python3.10/dist-packages (from requests<3,>=2.21.0->tensorboard<2.14,>=2.13->tensorflow<2.14,>=2.13.0->tensorflow-text==2.13.*) (3.3.0)\n",
            "Requirement already satisfied: idna<4,>=2.5 in /usr/local/lib/python3.10/dist-packages (from requests<3,>=2.21.0->tensorboard<2.14,>=2.13->tensorflow<2.14,>=2.13.0->tensorflow-text==2.13.*) (3.4)\n",
            "Requirement already satisfied: urllib3<3,>=1.21.1 in /usr/local/lib/python3.10/dist-packages (from requests<3,>=2.21.0->tensorboard<2.14,>=2.13->tensorflow<2.14,>=2.13.0->tensorflow-text==2.13.*) (2.0.7)\n",
            "Requirement already satisfied: certifi>=2017.4.17 in /usr/local/lib/python3.10/dist-packages (from requests<3,>=2.21.0->tensorboard<2.14,>=2.13->tensorflow<2.14,>=2.13.0->tensorflow-text==2.13.*) (2023.7.22)\n",
            "Requirement already satisfied: MarkupSafe>=2.1.1 in /usr/local/lib/python3.10/dist-packages (from werkzeug>=1.0.1->tensorboard<2.14,>=2.13->tensorflow<2.14,>=2.13.0->tensorflow-text==2.13.*) (2.1.3)\n",
            "Requirement already satisfied: pyasn1<0.6.0,>=0.4.6 in /usr/local/lib/python3.10/dist-packages (from pyasn1-modules>=0.2.1->google-auth<3,>=1.6.3->tensorboard<2.14,>=2.13->tensorflow<2.14,>=2.13.0->tensorflow-text==2.13.*) (0.5.0)\n",
            "Requirement already satisfied: oauthlib>=3.0.0 in /usr/local/lib/python3.10/dist-packages (from requests-oauthlib>=0.7.0->google-auth-oauthlib<1.1,>=0.5->tensorboard<2.14,>=2.13->tensorflow<2.14,>=2.13.0->tensorflow-text==2.13.*) (3.2.2)\n",
            "Installing collected packages: tensorflow-text\n",
            "Successfully installed tensorflow-text-2.13.0\n"
          ]
        }
      ]
    },
    {
      "cell_type": "markdown",
      "source": [
        "## Configurações"
      ],
      "metadata": {
        "id": "aI2iohUhhZST"
      }
    },
    {
      "cell_type": "code",
      "source": [
        "plt.rcParams['figure.figsize'] = [8, 5]\n",
        "plt.rcParams['figure.dpi'] = 100\n",
        "\n",
        "sns.set_style(\"darkgrid\")"
      ],
      "metadata": {
        "id": "Rp5BDfYGhdyK"
      },
      "execution_count": 3,
      "outputs": []
    },
    {
      "cell_type": "markdown",
      "source": [
        "### Constantes"
      ],
      "metadata": {
        "id": "2mYrOLyyo3rE"
      }
    },
    {
      "cell_type": "code",
      "source": [
        "SEMENTE = 42\n",
        "\n",
        "LIMITE_DICIONARIO = 90000\n",
        "\n",
        "MAXIMO_MODELOS = 8\n",
        "\n",
        "ENTRADA_FORMATO = (1,)\n",
        "ENTRADA_TIPO = tf.string\n",
        "\n",
        "ATIVACAO_CNN = 'relu'\n",
        "ATIVACAO_RNN = 'tanh'\n",
        "ATIVACAO_SAIDA = 'sigmoid'\n",
        "\n",
        "ESPACO_SAIDA = 128\n",
        "NUCLEO_CONV = 5\n",
        "NUCLEO_SAIDA = 64\n",
        "PREENCHIMENTO = 'same'\n",
        "\n",
        "ABANDONOS = 0.1\n",
        "\n",
        "PERDA       = 'binary_crossentropy'\n",
        "OTIMIZADOR  = Adam\n",
        "APRENDIZADO = 0.0005\n",
        "METRICAS    = ['accuracy']\n",
        "\n",
        "ITERACOES = 3\n",
        "ITERACOES_MLP = 20"
      ],
      "metadata": {
        "id": "YdFyHpMEo5vV"
      },
      "execution_count": 4,
      "outputs": []
    },
    {
      "cell_type": "markdown",
      "source": [
        "## Dados"
      ],
      "metadata": {
        "id": "rMCA_Vc9hn4L"
      }
    },
    {
      "cell_type": "code",
      "source": [
        "dados = pd.read_csv('https://raw.githubusercontent.com/Edvandro-Nogueira/TCC-Univesp/main/dados_noticias.csv',\n",
        "                    sep=';')"
      ],
      "metadata": {
        "id": "Out5sfUOhsN7"
      },
      "execution_count": 5,
      "outputs": []
    },
    {
      "cell_type": "code",
      "source": [
        "dados = dados[dados['noticias'].notna()]"
      ],
      "metadata": {
        "id": "gxNHPtPltb8_"
      },
      "execution_count": 6,
      "outputs": []
    },
    {
      "cell_type": "code",
      "source": [
        "dados['palavras'] = dados['noticias'].str.split().str.len()"
      ],
      "metadata": {
        "id": "gqqkFfL6zqXh"
      },
      "execution_count": 7,
      "outputs": []
    },
    {
      "cell_type": "code",
      "source": [
        "dados.info()"
      ],
      "metadata": {
        "colab": {
          "base_uri": "https://localhost:8080/"
        },
        "id": "3ocxy4-Kkt6n",
        "outputId": "0c098065-9df4-4e0a-fd31-a39bd4323ee4"
      },
      "execution_count": 8,
      "outputs": [
        {
          "output_type": "stream",
          "name": "stdout",
          "text": [
            "<class 'pandas.core.frame.DataFrame'>\n",
            "Int64Index: 10738 entries, 0 to 10757\n",
            "Data columns (total 3 columns):\n",
            " #   Column    Non-Null Count  Dtype \n",
            "---  ------    --------------  ----- \n",
            " 0   noticias  10738 non-null  object\n",
            " 1   classe    10738 non-null  int64 \n",
            " 2   palavras  10738 non-null  int64 \n",
            "dtypes: int64(2), object(1)\n",
            "memory usage: 335.6+ KB\n"
          ]
        }
      ]
    },
    {
      "cell_type": "code",
      "source": [
        "dados"
      ],
      "metadata": {
        "colab": {
          "base_uri": "https://localhost:8080/",
          "height": 424
        },
        "id": "CQvBmtAkldfJ",
        "outputId": "547547a4-f32c-4503-9c7c-455bb63325ed"
      },
      "execution_count": 9,
      "outputs": [
        {
          "output_type": "execute_result",
          "data": {
            "text/plain": [
              "                                                noticias  classe  palavras\n",
              "0      katia abreu diz vai colocar expulsao moldura n...       0        99\n",
              "1      ray peita bolsonaro conservador fake entrevist...       0       143\n",
              "2      reinaldo azevedo desmascarado policia federal ...       0       153\n",
              "3      relatorio assustador bndes mostra dinheiro pub...       0       339\n",
              "4      radialista americano fala sobre pt vendem ilus...       0        66\n",
              "...                                                  ...     ...       ...\n",
              "10753  Aug 26, 2020 — É falso que neurocientista brit...       0        50\n",
              "10754  19/08/2020 - 17:45 / Atualizado em 19/08/2020 ...       0        59\n",
              "10755  Jun 6, 2020 — No Reino Unido, 80% da população...       0        56\n",
              "10756  Estudo do pesquisador Karl Friston conclui que...       0        14\n",
              "10757  ... estudos sobre o COVID-19 concluiu que a ma...       0        42\n",
              "\n",
              "[10738 rows x 3 columns]"
            ],
            "text/html": [
              "\n",
              "  <div id=\"df-7d708278-5b77-4ac2-85c8-9c648d1478a5\" class=\"colab-df-container\">\n",
              "    <div>\n",
              "<style scoped>\n",
              "    .dataframe tbody tr th:only-of-type {\n",
              "        vertical-align: middle;\n",
              "    }\n",
              "\n",
              "    .dataframe tbody tr th {\n",
              "        vertical-align: top;\n",
              "    }\n",
              "\n",
              "    .dataframe thead th {\n",
              "        text-align: right;\n",
              "    }\n",
              "</style>\n",
              "<table border=\"1\" class=\"dataframe\">\n",
              "  <thead>\n",
              "    <tr style=\"text-align: right;\">\n",
              "      <th></th>\n",
              "      <th>noticias</th>\n",
              "      <th>classe</th>\n",
              "      <th>palavras</th>\n",
              "    </tr>\n",
              "  </thead>\n",
              "  <tbody>\n",
              "    <tr>\n",
              "      <th>0</th>\n",
              "      <td>katia abreu diz vai colocar expulsao moldura n...</td>\n",
              "      <td>0</td>\n",
              "      <td>99</td>\n",
              "    </tr>\n",
              "    <tr>\n",
              "      <th>1</th>\n",
              "      <td>ray peita bolsonaro conservador fake entrevist...</td>\n",
              "      <td>0</td>\n",
              "      <td>143</td>\n",
              "    </tr>\n",
              "    <tr>\n",
              "      <th>2</th>\n",
              "      <td>reinaldo azevedo desmascarado policia federal ...</td>\n",
              "      <td>0</td>\n",
              "      <td>153</td>\n",
              "    </tr>\n",
              "    <tr>\n",
              "      <th>3</th>\n",
              "      <td>relatorio assustador bndes mostra dinheiro pub...</td>\n",
              "      <td>0</td>\n",
              "      <td>339</td>\n",
              "    </tr>\n",
              "    <tr>\n",
              "      <th>4</th>\n",
              "      <td>radialista americano fala sobre pt vendem ilus...</td>\n",
              "      <td>0</td>\n",
              "      <td>66</td>\n",
              "    </tr>\n",
              "    <tr>\n",
              "      <th>...</th>\n",
              "      <td>...</td>\n",
              "      <td>...</td>\n",
              "      <td>...</td>\n",
              "    </tr>\n",
              "    <tr>\n",
              "      <th>10753</th>\n",
              "      <td>Aug 26, 2020 — É falso que neurocientista brit...</td>\n",
              "      <td>0</td>\n",
              "      <td>50</td>\n",
              "    </tr>\n",
              "    <tr>\n",
              "      <th>10754</th>\n",
              "      <td>19/08/2020 - 17:45 / Atualizado em 19/08/2020 ...</td>\n",
              "      <td>0</td>\n",
              "      <td>59</td>\n",
              "    </tr>\n",
              "    <tr>\n",
              "      <th>10755</th>\n",
              "      <td>Jun 6, 2020 — No Reino Unido, 80% da população...</td>\n",
              "      <td>0</td>\n",
              "      <td>56</td>\n",
              "    </tr>\n",
              "    <tr>\n",
              "      <th>10756</th>\n",
              "      <td>Estudo do pesquisador Karl Friston conclui que...</td>\n",
              "      <td>0</td>\n",
              "      <td>14</td>\n",
              "    </tr>\n",
              "    <tr>\n",
              "      <th>10757</th>\n",
              "      <td>... estudos sobre o COVID-19 concluiu que a ma...</td>\n",
              "      <td>0</td>\n",
              "      <td>42</td>\n",
              "    </tr>\n",
              "  </tbody>\n",
              "</table>\n",
              "<p>10738 rows × 3 columns</p>\n",
              "</div>\n",
              "    <div class=\"colab-df-buttons\">\n",
              "\n",
              "  <div class=\"colab-df-container\">\n",
              "    <button class=\"colab-df-convert\" onclick=\"convertToInteractive('df-7d708278-5b77-4ac2-85c8-9c648d1478a5')\"\n",
              "            title=\"Convert this dataframe to an interactive table.\"\n",
              "            style=\"display:none;\">\n",
              "\n",
              "  <svg xmlns=\"http://www.w3.org/2000/svg\" height=\"24px\" viewBox=\"0 -960 960 960\">\n",
              "    <path d=\"M120-120v-720h720v720H120Zm60-500h600v-160H180v160Zm220 220h160v-160H400v160Zm0 220h160v-160H400v160ZM180-400h160v-160H180v160Zm440 0h160v-160H620v160ZM180-180h160v-160H180v160Zm440 0h160v-160H620v160Z\"/>\n",
              "  </svg>\n",
              "    </button>\n",
              "\n",
              "  <style>\n",
              "    .colab-df-container {\n",
              "      display:flex;\n",
              "      gap: 12px;\n",
              "    }\n",
              "\n",
              "    .colab-df-convert {\n",
              "      background-color: #E8F0FE;\n",
              "      border: none;\n",
              "      border-radius: 50%;\n",
              "      cursor: pointer;\n",
              "      display: none;\n",
              "      fill: #1967D2;\n",
              "      height: 32px;\n",
              "      padding: 0 0 0 0;\n",
              "      width: 32px;\n",
              "    }\n",
              "\n",
              "    .colab-df-convert:hover {\n",
              "      background-color: #E2EBFA;\n",
              "      box-shadow: 0px 1px 2px rgba(60, 64, 67, 0.3), 0px 1px 3px 1px rgba(60, 64, 67, 0.15);\n",
              "      fill: #174EA6;\n",
              "    }\n",
              "\n",
              "    .colab-df-buttons div {\n",
              "      margin-bottom: 4px;\n",
              "    }\n",
              "\n",
              "    [theme=dark] .colab-df-convert {\n",
              "      background-color: #3B4455;\n",
              "      fill: #D2E3FC;\n",
              "    }\n",
              "\n",
              "    [theme=dark] .colab-df-convert:hover {\n",
              "      background-color: #434B5C;\n",
              "      box-shadow: 0px 1px 3px 1px rgba(0, 0, 0, 0.15);\n",
              "      filter: drop-shadow(0px 1px 2px rgba(0, 0, 0, 0.3));\n",
              "      fill: #FFFFFF;\n",
              "    }\n",
              "  </style>\n",
              "\n",
              "    <script>\n",
              "      const buttonEl =\n",
              "        document.querySelector('#df-7d708278-5b77-4ac2-85c8-9c648d1478a5 button.colab-df-convert');\n",
              "      buttonEl.style.display =\n",
              "        google.colab.kernel.accessAllowed ? 'block' : 'none';\n",
              "\n",
              "      async function convertToInteractive(key) {\n",
              "        const element = document.querySelector('#df-7d708278-5b77-4ac2-85c8-9c648d1478a5');\n",
              "        const dataTable =\n",
              "          await google.colab.kernel.invokeFunction('convertToInteractive',\n",
              "                                                    [key], {});\n",
              "        if (!dataTable) return;\n",
              "\n",
              "        const docLinkHtml = 'Like what you see? Visit the ' +\n",
              "          '<a target=\"_blank\" href=https://colab.research.google.com/notebooks/data_table.ipynb>data table notebook</a>'\n",
              "          + ' to learn more about interactive tables.';\n",
              "        element.innerHTML = '';\n",
              "        dataTable['output_type'] = 'display_data';\n",
              "        await google.colab.output.renderOutput(dataTable, element);\n",
              "        const docLink = document.createElement('div');\n",
              "        docLink.innerHTML = docLinkHtml;\n",
              "        element.appendChild(docLink);\n",
              "      }\n",
              "    </script>\n",
              "  </div>\n",
              "\n",
              "\n",
              "<div id=\"df-4eae708c-02a0-40e6-8952-b1952dce43b3\">\n",
              "  <button class=\"colab-df-quickchart\" onclick=\"quickchart('df-4eae708c-02a0-40e6-8952-b1952dce43b3')\"\n",
              "            title=\"Suggest charts.\"\n",
              "            style=\"display:none;\">\n",
              "\n",
              "<svg xmlns=\"http://www.w3.org/2000/svg\" height=\"24px\"viewBox=\"0 0 24 24\"\n",
              "     width=\"24px\">\n",
              "    <g>\n",
              "        <path d=\"M19 3H5c-1.1 0-2 .9-2 2v14c0 1.1.9 2 2 2h14c1.1 0 2-.9 2-2V5c0-1.1-.9-2-2-2zM9 17H7v-7h2v7zm4 0h-2V7h2v10zm4 0h-2v-4h2v4z\"/>\n",
              "    </g>\n",
              "</svg>\n",
              "  </button>\n",
              "\n",
              "<style>\n",
              "  .colab-df-quickchart {\n",
              "      --bg-color: #E8F0FE;\n",
              "      --fill-color: #1967D2;\n",
              "      --hover-bg-color: #E2EBFA;\n",
              "      --hover-fill-color: #174EA6;\n",
              "      --disabled-fill-color: #AAA;\n",
              "      --disabled-bg-color: #DDD;\n",
              "  }\n",
              "\n",
              "  [theme=dark] .colab-df-quickchart {\n",
              "      --bg-color: #3B4455;\n",
              "      --fill-color: #D2E3FC;\n",
              "      --hover-bg-color: #434B5C;\n",
              "      --hover-fill-color: #FFFFFF;\n",
              "      --disabled-bg-color: #3B4455;\n",
              "      --disabled-fill-color: #666;\n",
              "  }\n",
              "\n",
              "  .colab-df-quickchart {\n",
              "    background-color: var(--bg-color);\n",
              "    border: none;\n",
              "    border-radius: 50%;\n",
              "    cursor: pointer;\n",
              "    display: none;\n",
              "    fill: var(--fill-color);\n",
              "    height: 32px;\n",
              "    padding: 0;\n",
              "    width: 32px;\n",
              "  }\n",
              "\n",
              "  .colab-df-quickchart:hover {\n",
              "    background-color: var(--hover-bg-color);\n",
              "    box-shadow: 0 1px 2px rgba(60, 64, 67, 0.3), 0 1px 3px 1px rgba(60, 64, 67, 0.15);\n",
              "    fill: var(--button-hover-fill-color);\n",
              "  }\n",
              "\n",
              "  .colab-df-quickchart-complete:disabled,\n",
              "  .colab-df-quickchart-complete:disabled:hover {\n",
              "    background-color: var(--disabled-bg-color);\n",
              "    fill: var(--disabled-fill-color);\n",
              "    box-shadow: none;\n",
              "  }\n",
              "\n",
              "  .colab-df-spinner {\n",
              "    border: 2px solid var(--fill-color);\n",
              "    border-color: transparent;\n",
              "    border-bottom-color: var(--fill-color);\n",
              "    animation:\n",
              "      spin 1s steps(1) infinite;\n",
              "  }\n",
              "\n",
              "  @keyframes spin {\n",
              "    0% {\n",
              "      border-color: transparent;\n",
              "      border-bottom-color: var(--fill-color);\n",
              "      border-left-color: var(--fill-color);\n",
              "    }\n",
              "    20% {\n",
              "      border-color: transparent;\n",
              "      border-left-color: var(--fill-color);\n",
              "      border-top-color: var(--fill-color);\n",
              "    }\n",
              "    30% {\n",
              "      border-color: transparent;\n",
              "      border-left-color: var(--fill-color);\n",
              "      border-top-color: var(--fill-color);\n",
              "      border-right-color: var(--fill-color);\n",
              "    }\n",
              "    40% {\n",
              "      border-color: transparent;\n",
              "      border-right-color: var(--fill-color);\n",
              "      border-top-color: var(--fill-color);\n",
              "    }\n",
              "    60% {\n",
              "      border-color: transparent;\n",
              "      border-right-color: var(--fill-color);\n",
              "    }\n",
              "    80% {\n",
              "      border-color: transparent;\n",
              "      border-right-color: var(--fill-color);\n",
              "      border-bottom-color: var(--fill-color);\n",
              "    }\n",
              "    90% {\n",
              "      border-color: transparent;\n",
              "      border-bottom-color: var(--fill-color);\n",
              "    }\n",
              "  }\n",
              "</style>\n",
              "\n",
              "  <script>\n",
              "    async function quickchart(key) {\n",
              "      const quickchartButtonEl =\n",
              "        document.querySelector('#' + key + ' button');\n",
              "      quickchartButtonEl.disabled = true;  // To prevent multiple clicks.\n",
              "      quickchartButtonEl.classList.add('colab-df-spinner');\n",
              "      try {\n",
              "        const charts = await google.colab.kernel.invokeFunction(\n",
              "            'suggestCharts', [key], {});\n",
              "      } catch (error) {\n",
              "        console.error('Error during call to suggestCharts:', error);\n",
              "      }\n",
              "      quickchartButtonEl.classList.remove('colab-df-spinner');\n",
              "      quickchartButtonEl.classList.add('colab-df-quickchart-complete');\n",
              "    }\n",
              "    (() => {\n",
              "      let quickchartButtonEl =\n",
              "        document.querySelector('#df-4eae708c-02a0-40e6-8952-b1952dce43b3 button');\n",
              "      quickchartButtonEl.style.display =\n",
              "        google.colab.kernel.accessAllowed ? 'block' : 'none';\n",
              "    })();\n",
              "  </script>\n",
              "</div>\n",
              "    </div>\n",
              "  </div>\n"
            ]
          },
          "metadata": {},
          "execution_count": 9
        }
      ]
    },
    {
      "cell_type": "code",
      "source": [
        "dados['classe'].value_counts()"
      ],
      "metadata": {
        "colab": {
          "base_uri": "https://localhost:8080/"
        },
        "id": "pC9WtRCSpJBy",
        "outputId": "6d4c6ac1-ef28-403b-d35f-dc9c94569d8e"
      },
      "execution_count": 10,
      "outputs": [
        {
          "output_type": "execute_result",
          "data": {
            "text/plain": [
              "0    6128\n",
              "1    4610\n",
              "Name: classe, dtype: int64"
            ]
          },
          "metadata": {},
          "execution_count": 10
        }
      ]
    },
    {
      "cell_type": "code",
      "source": [
        "X = dados['noticias']\n",
        "y = dados['classe']\n",
        "\n",
        "X_train_val, X_test, y_train_val, y_test = train_test_split(X, y, test_size=0.1, random_state=SEMENTE, stratify=y)\n",
        "\n",
        "X_train, X_val, y_train, y_val = train_test_split(X_train_val, y_train_val, test_size=0.2, random_state=SEMENTE, stratify=y_train_val)"
      ],
      "metadata": {
        "id": "pzkpp9G6pe37"
      },
      "execution_count": 11,
      "outputs": []
    },
    {
      "cell_type": "markdown",
      "source": [
        "### Converter texto em números"
      ],
      "metadata": {
        "id": "XFJvbZGNF1wQ"
      }
    },
    {
      "cell_type": "code",
      "source": [
        "# Quantidade máxima de palavras em 99% das notícias.\n",
        "palavras_99 = int(np.percentile(dados['palavras'], 99))\n",
        "\n",
        "print(f\"Máximo.: {np.max(dados['palavras'])}\")\n",
        "print(f\"Média..: {np.mean(dados['palavras'])}\")\n",
        "print(f\"99%....: {palavras_99}\")"
      ],
      "metadata": {
        "colab": {
          "base_uri": "https://localhost:8080/"
        },
        "id": "wPDlsCsUzj7h",
        "outputId": "464df3a1-9506-48a8-db18-a70e7b451c0f"
      },
      "execution_count": 12,
      "outputs": [
        {
          "output_type": "stream",
          "name": "stdout",
          "text": [
            "Máximo.: 4229\n",
            "Média..: 256.1611100763643\n",
            "99%....: 1453\n"
          ]
        }
      ]
    },
    {
      "cell_type": "code",
      "source": [
        "tamanho_texto = palavras_99"
      ],
      "metadata": {
        "id": "v6QIJ4SZz4rn"
      },
      "execution_count": 13,
      "outputs": []
    },
    {
      "cell_type": "markdown",
      "source": [
        "#### Vetorização (Vectorization)"
      ],
      "metadata": {
        "id": "MZMY-KhKPbON"
      }
    },
    {
      "cell_type": "code",
      "source": [
        "vetorizador = TextVectorization(max_tokens=LIMITE_DICIONARIO,               # (Default: None) Máximo de tokens (palavras) no dicionário.\n",
        "                                standardize='lower_and_strip_punctuation',  # (Default) Texto em caixa baixa e retira caracteres especiais.\n",
        "                                split='whitespace',                         # (Default) Separador de tokens.\n",
        "                                ngrams=None,                                # (Default) Tokens por grupo. (None = não agrupar tokens.)\n",
        "                                output_mode='int',                          # (Default) Como mapear tokens para números.\n",
        "                                output_sequence_length=tamanho_texto)       # (Default: None) Tamanho do texto, completado ou truncado, se necessário. (Válido apenas para 'int'.)"
      ],
      "metadata": {
        "id": "cK8AkY3m4DYF"
      },
      "execution_count": 14,
      "outputs": []
    },
    {
      "cell_type": "code",
      "source": [
        "vetorizador.adapt(X)"
      ],
      "metadata": {
        "id": "Ak3f6OTu7Dfp"
      },
      "execution_count": 15,
      "outputs": []
    },
    {
      "cell_type": "code",
      "source": [
        "vocabulario = vetorizador.get_vocabulary()"
      ],
      "metadata": {
        "id": "TRo6HuAcMLEf"
      },
      "execution_count": 16,
      "outputs": []
    },
    {
      "cell_type": "code",
      "source": [
        "# [UNK] = Desconhecido, fora do limite do dicionário.\n",
        "# len(vocabulario), vocabulario[:10], vocabulario[-10:]"
      ],
      "metadata": {
        "id": "kUN1qXHXNrY-"
      },
      "execution_count": 17,
      "outputs": []
    },
    {
      "cell_type": "markdown",
      "source": [
        "#### Incorporação (Embedding)"
      ],
      "metadata": {
        "id": "aFWb7WPXOnqn"
      }
    },
    {
      "cell_type": "code",
      "source": [
        "incorporador = Embedding(input_dim=LIMITE_DICIONARIO,  # Tamanho do vocabulário de entrada.\n",
        "                         output_dim=128,               # Dimensão do vetor de saída. (Geralmente um múltiplo de 8.)\n",
        "                         input_length=tamanho_texto)   # Tamanho do texto de entrada."
      ],
      "metadata": {
        "id": "LhYEdM7FPqW_"
      },
      "execution_count": 18,
      "outputs": []
    },
    {
      "cell_type": "markdown",
      "source": [
        "## Funções"
      ],
      "metadata": {
        "id": "b7nnAvmThjIz"
      }
    },
    {
      "cell_type": "code",
      "source": [
        "def build_classifier_model(tfhub_handle_encoder, tfhub_handle_preprocess, modelo_nome):\n",
        "    text_input = Input(shape=(), dtype=tf.string, name='text')\n",
        "    preprocessing_layer = hub.KerasLayer(tfhub_handle_preprocess, name='preprocessing')\n",
        "    encoder_inputs = preprocessing_layer(text_input)\n",
        "    encoder = hub.KerasLayer(tfhub_handle_encoder, trainable=True, name='BERT_encoder')\n",
        "    outputs = encoder(encoder_inputs)\n",
        "    net = outputs['pooled_output']\n",
        "    net = Dropout(0.1)(net)\n",
        "    net = Dense(1, activation='sigmoid', name='classifier')(net)\n",
        "    return Model(text_input, net, name=modelos_nome[modelo_numero])\n",
        "\n",
        "def grafico_historico_por_iteracao(historico):\n",
        "\n",
        "    for chave in historico.history.keys():\n",
        "        sns.lineplot(data=historico.history[chave], label=chave)\n",
        "\n",
        "    plt.title('Histórico por iteração')\n",
        "    plt.xlabel('Iteração')\n",
        "    plt.ylabel('')\n",
        "\n",
        "    plt.legend(frameon=True, facecolor='white')\n",
        "    plt.show()\n",
        "\n",
        "def avaliar_modelo(validacao, previsao, rotulos=None, cmap='summer_r'):\n",
        "    print(classification_report(validacao, previsao, target_names=rotulos))\n",
        "\n",
        "    ConfusionMatrixDisplay.from_predictions(validacao, previsao, display_labels=rotulos, cmap=cmap)\n",
        "    plt.grid(False)\n",
        "\n",
        "    relatorio = classification_report(validacao, previsao, target_names=rotulos, output_dict=True)\n",
        "\n",
        "    return {'acurácia': relatorio['accuracy'],\n",
        "            'precisão': relatorio['weighted avg']['precision'],\n",
        "            'revocação': relatorio['weighted avg']['recall'],\n",
        "            'pontuação-f1': relatorio['weighted avg']['f1-score']}\n",
        "\n",
        "def dados_modelo(indice):\n",
        "    avaliacoes[indice] = modelos[indice].evaluate(X_val, y_val)\n",
        "    probabilidades[indice] = modelos[indice].predict(X_val)\n",
        "    previsoes[indice] = tf.squeeze(tf.round(probabilidades[indice]))\n",
        "    relatorios[indice] = avaliar_modelo(y_val, previsoes[indice])\n",
        "\n",
        "def teste_modelo(indice):\n",
        "    avaliacoes[indice] = modelos[indice].evaluate(X_test, y_test)\n",
        "    probabilidades[indice] = modelos[indice].predict(X_test)\n",
        "    previsoes[indice] = tf.squeeze(tf.round(probabilidades[indice]))\n",
        "    relatorios[indice] = avaliar_modelo(y_test, previsoes[indice])"
      ],
      "metadata": {
        "id": "iF2u_9W53ElZ"
      },
      "execution_count": 19,
      "outputs": []
    },
    {
      "cell_type": "markdown",
      "source": [
        "## Modelos"
      ],
      "metadata": {
        "id": "mTCYJ9qh6mwM"
      }
    },
    {
      "cell_type": "code",
      "source": [
        "modelos_nome = [None] * MAXIMO_MODELOS\n",
        "\n",
        "modelos = [None] * MAXIMO_MODELOS\n",
        "\n",
        "avaliacoes     = [None] * MAXIMO_MODELOS\n",
        "probabilidades = [None] * MAXIMO_MODELOS\n",
        "previsoes      = [None] * MAXIMO_MODELOS\n",
        "relatorios     = [None] * MAXIMO_MODELOS\n",
        "\n",
        "historicos = [None] * MAXIMO_MODELOS"
      ],
      "metadata": {
        "id": "4IKLqWHk6oTZ"
      },
      "execution_count": 20,
      "outputs": []
    },
    {
      "cell_type": "markdown",
      "source": [
        "### Modelo 0: Naive Bayes com codificador TF-IDF (baseline)"
      ],
      "metadata": {
        "id": "CwCPrDtF-xiP"
      }
    },
    {
      "cell_type": "code",
      "source": [
        "%%time\n",
        "\n",
        "modelo_numero = 0\n",
        "\n",
        "modelos_nome[modelo_numero] = 'TF-IDF'\n",
        "\n",
        "modelos[modelo_numero] = Pipeline([('tdidf', TfidfVectorizer()),\n",
        "                                   ('clf', MultinomialNB())]) # clf = classifier\n",
        "\n",
        "modelos[modelo_numero].fit(X_train, y_train)"
      ],
      "metadata": {
        "colab": {
          "base_uri": "https://localhost:8080/",
          "height": 161
        },
        "id": "IsdpXM36-2pj",
        "outputId": "f4e84f9e-53e8-472a-f2f2-85c2b4ed2e0c"
      },
      "execution_count": 21,
      "outputs": [
        {
          "output_type": "stream",
          "name": "stdout",
          "text": [
            "CPU times: user 1.73 s, sys: 20.6 ms, total: 1.75 s\n",
            "Wall time: 1.85 s\n"
          ]
        },
        {
          "output_type": "execute_result",
          "data": {
            "text/plain": [
              "Pipeline(steps=[('tdidf', TfidfVectorizer()), ('clf', MultinomialNB())])"
            ],
            "text/html": [
              "<style>#sk-container-id-1 {color: black;background-color: white;}#sk-container-id-1 pre{padding: 0;}#sk-container-id-1 div.sk-toggleable {background-color: white;}#sk-container-id-1 label.sk-toggleable__label {cursor: pointer;display: block;width: 100%;margin-bottom: 0;padding: 0.3em;box-sizing: border-box;text-align: center;}#sk-container-id-1 label.sk-toggleable__label-arrow:before {content: \"▸\";float: left;margin-right: 0.25em;color: #696969;}#sk-container-id-1 label.sk-toggleable__label-arrow:hover:before {color: black;}#sk-container-id-1 div.sk-estimator:hover label.sk-toggleable__label-arrow:before {color: black;}#sk-container-id-1 div.sk-toggleable__content {max-height: 0;max-width: 0;overflow: hidden;text-align: left;background-color: #f0f8ff;}#sk-container-id-1 div.sk-toggleable__content pre {margin: 0.2em;color: black;border-radius: 0.25em;background-color: #f0f8ff;}#sk-container-id-1 input.sk-toggleable__control:checked~div.sk-toggleable__content {max-height: 200px;max-width: 100%;overflow: auto;}#sk-container-id-1 input.sk-toggleable__control:checked~label.sk-toggleable__label-arrow:before {content: \"▾\";}#sk-container-id-1 div.sk-estimator input.sk-toggleable__control:checked~label.sk-toggleable__label {background-color: #d4ebff;}#sk-container-id-1 div.sk-label input.sk-toggleable__control:checked~label.sk-toggleable__label {background-color: #d4ebff;}#sk-container-id-1 input.sk-hidden--visually {border: 0;clip: rect(1px 1px 1px 1px);clip: rect(1px, 1px, 1px, 1px);height: 1px;margin: -1px;overflow: hidden;padding: 0;position: absolute;width: 1px;}#sk-container-id-1 div.sk-estimator {font-family: monospace;background-color: #f0f8ff;border: 1px dotted black;border-radius: 0.25em;box-sizing: border-box;margin-bottom: 0.5em;}#sk-container-id-1 div.sk-estimator:hover {background-color: #d4ebff;}#sk-container-id-1 div.sk-parallel-item::after {content: \"\";width: 100%;border-bottom: 1px solid gray;flex-grow: 1;}#sk-container-id-1 div.sk-label:hover label.sk-toggleable__label {background-color: #d4ebff;}#sk-container-id-1 div.sk-serial::before {content: \"\";position: absolute;border-left: 1px solid gray;box-sizing: border-box;top: 0;bottom: 0;left: 50%;z-index: 0;}#sk-container-id-1 div.sk-serial {display: flex;flex-direction: column;align-items: center;background-color: white;padding-right: 0.2em;padding-left: 0.2em;position: relative;}#sk-container-id-1 div.sk-item {position: relative;z-index: 1;}#sk-container-id-1 div.sk-parallel {display: flex;align-items: stretch;justify-content: center;background-color: white;position: relative;}#sk-container-id-1 div.sk-item::before, #sk-container-id-1 div.sk-parallel-item::before {content: \"\";position: absolute;border-left: 1px solid gray;box-sizing: border-box;top: 0;bottom: 0;left: 50%;z-index: -1;}#sk-container-id-1 div.sk-parallel-item {display: flex;flex-direction: column;z-index: 1;position: relative;background-color: white;}#sk-container-id-1 div.sk-parallel-item:first-child::after {align-self: flex-end;width: 50%;}#sk-container-id-1 div.sk-parallel-item:last-child::after {align-self: flex-start;width: 50%;}#sk-container-id-1 div.sk-parallel-item:only-child::after {width: 0;}#sk-container-id-1 div.sk-dashed-wrapped {border: 1px dashed gray;margin: 0 0.4em 0.5em 0.4em;box-sizing: border-box;padding-bottom: 0.4em;background-color: white;}#sk-container-id-1 div.sk-label label {font-family: monospace;font-weight: bold;display: inline-block;line-height: 1.2em;}#sk-container-id-1 div.sk-label-container {text-align: center;}#sk-container-id-1 div.sk-container {/* jupyter's `normalize.less` sets `[hidden] { display: none; }` but bootstrap.min.css set `[hidden] { display: none !important; }` so we also need the `!important` here to be able to override the default hidden behavior on the sphinx rendered scikit-learn.org. See: https://github.com/scikit-learn/scikit-learn/issues/21755 */display: inline-block !important;position: relative;}#sk-container-id-1 div.sk-text-repr-fallback {display: none;}</style><div id=\"sk-container-id-1\" class=\"sk-top-container\"><div class=\"sk-text-repr-fallback\"><pre>Pipeline(steps=[(&#x27;tdidf&#x27;, TfidfVectorizer()), (&#x27;clf&#x27;, MultinomialNB())])</pre><b>In a Jupyter environment, please rerun this cell to show the HTML representation or trust the notebook. <br />On GitHub, the HTML representation is unable to render, please try loading this page with nbviewer.org.</b></div><div class=\"sk-container\" hidden><div class=\"sk-item sk-dashed-wrapped\"><div class=\"sk-label-container\"><div class=\"sk-label sk-toggleable\"><input class=\"sk-toggleable__control sk-hidden--visually\" id=\"sk-estimator-id-1\" type=\"checkbox\" ><label for=\"sk-estimator-id-1\" class=\"sk-toggleable__label sk-toggleable__label-arrow\">Pipeline</label><div class=\"sk-toggleable__content\"><pre>Pipeline(steps=[(&#x27;tdidf&#x27;, TfidfVectorizer()), (&#x27;clf&#x27;, MultinomialNB())])</pre></div></div></div><div class=\"sk-serial\"><div class=\"sk-item\"><div class=\"sk-estimator sk-toggleable\"><input class=\"sk-toggleable__control sk-hidden--visually\" id=\"sk-estimator-id-2\" type=\"checkbox\" ><label for=\"sk-estimator-id-2\" class=\"sk-toggleable__label sk-toggleable__label-arrow\">TfidfVectorizer</label><div class=\"sk-toggleable__content\"><pre>TfidfVectorizer()</pre></div></div></div><div class=\"sk-item\"><div class=\"sk-estimator sk-toggleable\"><input class=\"sk-toggleable__control sk-hidden--visually\" id=\"sk-estimator-id-3\" type=\"checkbox\" ><label for=\"sk-estimator-id-3\" class=\"sk-toggleable__label sk-toggleable__label-arrow\">MultinomialNB</label><div class=\"sk-toggleable__content\"><pre>MultinomialNB()</pre></div></div></div></div></div></div></div>"
            ]
          },
          "metadata": {},
          "execution_count": 21
        }
      ]
    },
    {
      "cell_type": "code",
      "source": [
        "previsoes[modelo_numero] = modelos[modelo_numero].predict(X_val)"
      ],
      "metadata": {
        "id": "k6SE2imuPkjT"
      },
      "execution_count": 22,
      "outputs": []
    },
    {
      "cell_type": "code",
      "source": [
        "relatorios[modelo_numero] = avaliar_modelo(y_val, previsoes[modelo_numero])"
      ],
      "metadata": {
        "colab": {
          "base_uri": "https://localhost:8080/",
          "height": 621
        },
        "id": "HWjqL6NYPuWL",
        "outputId": "fe9da5e7-02b5-4d2a-fd23-e6599f2696e1"
      },
      "execution_count": 23,
      "outputs": [
        {
          "output_type": "stream",
          "name": "stdout",
          "text": [
            "              precision    recall  f1-score   support\n",
            "\n",
            "           0       0.79      0.60      0.68      1103\n",
            "           1       0.60      0.79      0.68       830\n",
            "\n",
            "    accuracy                           0.68      1933\n",
            "   macro avg       0.69      0.69      0.68      1933\n",
            "weighted avg       0.71      0.68      0.68      1933\n",
            "\n"
          ]
        },
        {
          "output_type": "display_data",
          "data": {
            "text/plain": [
              "<Figure size 800x500 with 2 Axes>"
            ],
            "image/png": "[encoded data removed]"
          },
          "metadata": {}
        }
      ]
    },
    {
      "cell_type": "code",
      "source": [
        "relatorios[modelo_numero]"
      ],
      "metadata": {
        "colab": {
          "base_uri": "https://localhost:8080/"
        },
        "id": "WGwVb_YwIhgA",
        "outputId": "6b74cce7-1a22-41fb-e9de-3117e05fe680"
      },
      "execution_count": 24,
      "outputs": [
        {
          "output_type": "execute_result",
          "data": {
            "text/plain": [
              "{'acurácia': 0.6818416968442835,\n",
              " 'precisão': 0.7076652728288632,\n",
              " 'revocação': 0.6818416968442835,\n",
              " 'pontuação-f1': 0.6821083937915633}"
            ]
          },
          "metadata": {},
          "execution_count": 24
        }
      ]
    },
    {
      "cell_type": "markdown",
      "source": [
        "### Camadas iniciais padronizadas"
      ],
      "metadata": {
        "id": "GCbmaFSrpFje"
      }
    },
    {
      "cell_type": "code",
      "source": [
        "%%time\n",
        "\n",
        "entradas = Input(shape=ENTRADA_FORMATO, dtype=ENTRADA_TIPO, name='camada_entrada')\n",
        "\n",
        "camadas_iniciais = vetorizador(entradas)\n",
        "camadas_iniciais = incorporador(camadas_iniciais)"
      ],
      "metadata": {
        "colab": {
          "base_uri": "https://localhost:8080/"
        },
        "id": "uL52BE2JpJXI",
        "outputId": "1e3bb51a-b323-42fc-bf58-00cf04dd8691"
      },
      "execution_count": 25,
      "outputs": [
        {
          "output_type": "stream",
          "name": "stdout",
          "text": [
            "CPU times: user 70.5 ms, sys: 3 ms, total: 73.5 ms\n",
            "Wall time: 102 ms\n"
          ]
        }
      ]
    },
    {
      "cell_type": "markdown",
      "source": [
        "### Modelo 1: MLP"
      ],
      "metadata": {
        "id": "src09mbeuhsw"
      }
    },
    {
      "cell_type": "code",
      "source": [
        "%%time\n",
        "\n",
        "modelo_numero = 1\n",
        "\n",
        "modelos_nome[modelo_numero] = 'MLP'\n",
        "\n",
        "camadas = GlobalMaxPool1D(name='agrupamento_maximo_global')(camadas_iniciais)\n",
        "\n",
        "saidas = Dense(1, activation=ATIVACAO_SAIDA, name='camada_saida')(camadas)\n",
        "\n",
        "modelos[modelo_numero] = Model(inputs=entradas, outputs=saidas, name=modelos_nome[modelo_numero])\n",
        "\n",
        "modelos[modelo_numero].compile(loss=PERDA,\n",
        "                               optimizer=OTIMIZADOR(learning_rate=APRENDIZADO),\n",
        "                               metrics=METRICAS)\n",
        "\n",
        "historicos[modelo_numero] = modelos[modelo_numero].fit(x=X_train,\n",
        "                                                       y=y_train,\n",
        "                                                       batch_size=NUCLEO_SAIDA,\n",
        "                                                       epochs=ITERACOES_MLP,\n",
        "                                                       validation_data=(X_val, y_val),\n",
        "                                                       verbose=1)"
      ],
      "metadata": {
        "colab": {
          "base_uri": "https://localhost:8080/"
        },
        "id": "clIH5flW_uUO",
        "outputId": "f78d1ae0-a5c6-40e2-9c64-a8526536187f"
      },
      "execution_count": 26,
      "outputs": [
        {
          "output_type": "stream",
          "name": "stdout",
          "text": [
            "Epoch 1/20\n",
            "121/121 [==============================] - 40s 257ms/step - loss: 0.6674 - accuracy: 0.5944 - val_loss: 0.6416 - val_accuracy: 0.7600\n",
            "Epoch 2/20\n",
            "121/121 [==============================] - 24s 199ms/step - loss: 0.6024 - accuracy: 0.8600 - val_loss: 0.5673 - val_accuracy: 0.8681\n",
            "Epoch 3/20\n",
            "121/121 [==============================] - 23s 191ms/step - loss: 0.5134 - accuracy: 0.8717 - val_loss: 0.4876 - val_accuracy: 0.8634\n",
            "Epoch 4/20\n",
            "121/121 [==============================] - 24s 200ms/step - loss: 0.4279 - accuracy: 0.8757 - val_loss: 0.4236 - val_accuracy: 0.8660\n",
            "Epoch 5/20\n",
            "121/121 [==============================] - 24s 195ms/step - loss: 0.3577 - accuracy: 0.8798 - val_loss: 0.3750 - val_accuracy: 0.8686\n",
            "Epoch 6/20\n",
            "121/121 [==============================] - 21s 175ms/step - loss: 0.3015 - accuracy: 0.8889 - val_loss: 0.3396 - val_accuracy: 0.8733\n",
            "Epoch 7/20\n",
            "121/121 [==============================] - 21s 173ms/step - loss: 0.2557 - accuracy: 0.9069 - val_loss: 0.3126 - val_accuracy: 0.8820\n",
            "Epoch 8/20\n",
            "121/121 [==============================] - 19s 156ms/step - loss: 0.2168 - accuracy: 0.9289 - val_loss: 0.2914 - val_accuracy: 0.8883\n",
            "Epoch 9/20\n",
            "121/121 [==============================] - 19s 154ms/step - loss: 0.1834 - accuracy: 0.9501 - val_loss: 0.2743 - val_accuracy: 0.8924\n",
            "Epoch 10/20\n",
            "121/121 [==============================] - 19s 154ms/step - loss: 0.1554 - accuracy: 0.9651 - val_loss: 0.2608 - val_accuracy: 0.8960\n",
            "Epoch 11/20\n",
            "121/121 [==============================] - 17s 144ms/step - loss: 0.1323 - accuracy: 0.9730 - val_loss: 0.2503 - val_accuracy: 0.8986\n",
            "Epoch 12/20\n",
            "121/121 [==============================] - 18s 151ms/step - loss: 0.1131 - accuracy: 0.9790 - val_loss: 0.2423 - val_accuracy: 0.9017\n",
            "Epoch 13/20\n",
            "121/121 [==============================] - 14s 112ms/step - loss: 0.0974 - accuracy: 0.9836 - val_loss: 0.2357 - val_accuracy: 0.9058\n",
            "Epoch 14/20\n",
            "121/121 [==============================] - 14s 116ms/step - loss: 0.0842 - accuracy: 0.9869 - val_loss: 0.2309 - val_accuracy: 0.9064\n",
            "Epoch 15/20\n",
            "121/121 [==============================] - 14s 119ms/step - loss: 0.0733 - accuracy: 0.9887 - val_loss: 0.2270 - val_accuracy: 0.9048\n",
            "Epoch 16/20\n",
            "121/121 [==============================] - 13s 110ms/step - loss: 0.0641 - accuracy: 0.9903 - val_loss: 0.2237 - val_accuracy: 0.9084\n",
            "Epoch 17/20\n",
            "121/121 [==============================] - 13s 106ms/step - loss: 0.0564 - accuracy: 0.9912 - val_loss: 0.2217 - val_accuracy: 0.9089\n",
            "Epoch 18/20\n",
            "121/121 [==============================] - 13s 106ms/step - loss: 0.0499 - accuracy: 0.9922 - val_loss: 0.2202 - val_accuracy: 0.9105\n",
            "Epoch 19/20\n",
            "121/121 [==============================] - 12s 98ms/step - loss: 0.0443 - accuracy: 0.9928 - val_loss: 0.2190 - val_accuracy: 0.9126\n",
            "Epoch 20/20\n",
            "121/121 [==============================] - 12s 104ms/step - loss: 0.0394 - accuracy: 0.9934 - val_loss: 0.2180 - val_accuracy: 0.9115\n",
            "CPU times: user 4min 32s, sys: 5.48 s, total: 4min 37s\n",
            "Wall time: 6min 23s\n"
          ]
        }
      ]
    },
    {
      "cell_type": "code",
      "source": [
        "grafico_historico_por_iteracao(historicos[modelo_numero])"
      ],
      "metadata": {
        "colab": {
          "base_uri": "https://localhost:8080/",
          "height": 488
        },
        "id": "wnxjZyqDE2EZ",
        "outputId": "1affedeb-6b84-4791-8a31-bcbc4bdb3f63"
      },
      "execution_count": 27,
      "outputs": [
        {
          "output_type": "display_data",
          "data": {
            "text/plain": [
              "<Figure size 800x500 with 1 Axes>"
            ],
            "image/png": "[encoded data removed]"
          },
          "metadata": {}
        }
      ]
    },
    {
      "cell_type": "code",
      "source": [
        "dados_modelo(modelo_numero)"
      ],
      "metadata": {
        "colab": {
          "base_uri": "https://localhost:8080/",
          "height": 656
        },
        "id": "itV7bhSHE7Ki",
        "outputId": "09bf432b-0dfb-4c73-cee2-f590c6f3dd28"
      },
      "execution_count": 28,
      "outputs": [
        {
          "output_type": "stream",
          "name": "stdout",
          "text": [
            "61/61 [==============================] - 0s 5ms/step - loss: 0.2180 - accuracy: 0.9115\n",
            "61/61 [==============================] - 0s 4ms/step\n",
            "              precision    recall  f1-score   support\n",
            "\n",
            "           0       0.90      0.95      0.92      1103\n",
            "           1       0.93      0.85      0.89       830\n",
            "\n",
            "    accuracy                           0.91      1933\n",
            "   macro avg       0.92      0.90      0.91      1933\n",
            "weighted avg       0.91      0.91      0.91      1933\n",
            "\n"
          ]
        },
        {
          "output_type": "display_data",
          "data": {
            "text/plain": [
              "<Figure size 800x500 with 2 Axes>"
            ],
            "image/png": "[encoded data removed]"
          },
          "metadata": {}
        }
      ]
    },
    {
      "cell_type": "code",
      "source": [
        "relatorios[modelo_numero]"
      ],
      "metadata": {
        "colab": {
          "base_uri": "https://localhost:8080/"
        },
        "id": "U6eelfBGFaWM",
        "outputId": "a4b49d39-a0c7-45bf-b4fc-1a40bacd2bc7"
      },
      "execution_count": 29,
      "outputs": [
        {
          "output_type": "execute_result",
          "data": {
            "text/plain": [
              "{'acurácia': 0.9115364718054837,\n",
              " 'precisão': 0.9129024885437211,\n",
              " 'revocação': 0.9115364718054837,\n",
              " 'pontuação-f1': 0.9109393071160351}"
            ]
          },
          "metadata": {},
          "execution_count": 29
        }
      ]
    },
    {
      "cell_type": "markdown",
      "source": [
        "### Modelo 2: CNN"
      ],
      "metadata": {
        "id": "pZrwPL5Jf_Bz"
      }
    },
    {
      "cell_type": "code",
      "source": [
        "%%time\n",
        "\n",
        "modelo_numero = 2\n",
        "\n",
        "modelos_nome[modelo_numero] = 'RNC'\n",
        "\n",
        "camadas = Conv1D(filters=ESPACO_SAIDA,\n",
        "                 kernel_size=NUCLEO_CONV,\n",
        "                 activation=ATIVACAO_CNN,\n",
        "                 padding=PREENCHIMENTO,\n",
        "                 name='camada_convulacional')(camadas_iniciais)\n",
        "\n",
        "camadas = GlobalMaxPool1D(name='agrupamento_maximo_global')(camadas)\n",
        "\n",
        "saidas = Dense(1, activation=ATIVACAO_SAIDA, name='camada_saida')(camadas)\n",
        "\n",
        "modelos[modelo_numero] = Model(inputs=entradas, outputs=saidas, name=modelos_nome[modelo_numero])\n",
        "\n",
        "modelos[modelo_numero].compile(loss=PERDA,\n",
        "                               optimizer=OTIMIZADOR(learning_rate=APRENDIZADO),\n",
        "                               metrics=METRICAS)\n",
        "\n",
        "historicos[modelo_numero] = modelos[modelo_numero].fit(x=X_train,\n",
        "                                                       y=y_train,\n",
        "                                                       batch_size=NUCLEO_SAIDA,\n",
        "                                                       epochs=ITERACOES,\n",
        "                                                       validation_data=(X_val, y_val),\n",
        "                                                       verbose=1)"
      ],
      "metadata": {
        "colab": {
          "base_uri": "https://localhost:8080/"
        },
        "id": "ip6n1hcEOGkM",
        "outputId": "c04abf6b-ad2d-4dd8-b0f8-baab8d2a83b8"
      },
      "execution_count": 30,
      "outputs": [
        {
          "output_type": "stream",
          "name": "stdout",
          "text": [
            "Epoch 1/3\n",
            "121/121 [==============================] - 30s 198ms/step - loss: 0.5416 - accuracy: 0.7773 - val_loss: 0.4276 - val_accuracy: 0.8551\n",
            "Epoch 2/3\n",
            "121/121 [==============================] - 21s 172ms/step - loss: 0.2523 - accuracy: 0.9243 - val_loss: 0.2995 - val_accuracy: 0.8815\n",
            "Epoch 3/3\n",
            "121/121 [==============================] - 22s 182ms/step - loss: 0.1053 - accuracy: 0.9744 - val_loss: 0.2774 - val_accuracy: 0.8852\n",
            "CPU times: user 58.7 s, sys: 1.46 s, total: 1min\n",
            "Wall time: 1min 13s\n"
          ]
        }
      ]
    },
    {
      "cell_type": "code",
      "source": [
        "grafico_historico_por_iteracao(historicos[modelo_numero])"
      ],
      "metadata": {
        "colab": {
          "base_uri": "https://localhost:8080/",
          "height": 488
        },
        "id": "z3ORUytGtL2y",
        "outputId": "a080fe4d-93cd-4a76-c19b-321fcccb211d"
      },
      "execution_count": 31,
      "outputs": [
        {
          "output_type": "display_data",
          "data": {
            "text/plain": [
              "<Figure size 800x500 with 1 Axes>"
            ],
            "image/png": "[encoded data removed]"
          },
          "metadata": {}
        }
      ]
    },
    {
      "cell_type": "code",
      "source": [
        "dados_modelo(modelo_numero)"
      ],
      "metadata": {
        "colab": {
          "base_uri": "https://localhost:8080/",
          "height": 656
        },
        "id": "ZZGmU5JetL2y",
        "outputId": "914b815c-e933-4202-ae96-94ab5d7101d0"
      },
      "execution_count": 32,
      "outputs": [
        {
          "output_type": "stream",
          "name": "stdout",
          "text": [
            "61/61 [==============================] - 1s 7ms/step - loss: 0.2774 - accuracy: 0.8852\n",
            "61/61 [==============================] - 0s 5ms/step\n",
            "              precision    recall  f1-score   support\n",
            "\n",
            "           0       0.91      0.89      0.90      1103\n",
            "           1       0.86      0.88      0.87       830\n",
            "\n",
            "    accuracy                           0.89      1933\n",
            "   macro avg       0.88      0.88      0.88      1933\n",
            "weighted avg       0.89      0.89      0.89      1933\n",
            "\n"
          ]
        },
        {
          "output_type": "display_data",
          "data": {
            "text/plain": [
              "<Figure size 800x500 with 2 Axes>"
            ],
            "image/png": "[encoded data removed]"
          },
          "metadata": {}
        }
      ]
    },
    {
      "cell_type": "code",
      "source": [
        "relatorios[modelo_numero]"
      ],
      "metadata": {
        "colab": {
          "base_uri": "https://localhost:8080/"
        },
        "id": "p0DyUTG0tL2y",
        "outputId": "64f91d50-b9a8-4e61-ebea-6eb0547891e9"
      },
      "execution_count": 33,
      "outputs": [
        {
          "output_type": "execute_result",
          "data": {
            "text/plain": [
              "{'acurácia': 0.8851526125193999,\n",
              " 'precisão': 0.8857294785852748,\n",
              " 'revocação': 0.8851526125193999,\n",
              " 'pontuação-f1': 0.8853252515136385}"
            ]
          },
          "metadata": {},
          "execution_count": 33
        }
      ]
    },
    {
      "cell_type": "markdown",
      "source": [
        "### Modelo 3: DCNN"
      ],
      "metadata": {
        "id": "GqvjyYECCF8v"
      }
    },
    {
      "cell_type": "code",
      "source": [
        "%%time\n",
        "\n",
        "modelo_numero = 3\n",
        "\n",
        "modelos_nome[modelo_numero] = 'CFN-AI'\n",
        "\n",
        "# Bigram\n",
        "\n",
        "bigram = Conv1D(filters=ESPACO_SAIDA,\n",
        "                kernel_size=2,\n",
        "                activation=ATIVACAO_CNN,\n",
        "                padding=PREENCHIMENTO,\n",
        "                name='camada_bigram')(camadas_iniciais)\n",
        "\n",
        "bigram = GlobalMaxPool1D(name='agrupamento_maximo_bigram')(bigram)\n",
        "\n",
        "# Trigram\n",
        "\n",
        "trigram = Conv1D(filters=ESPACO_SAIDA,\n",
        "                 kernel_size=3,\n",
        "                 activation=ATIVACAO_CNN,\n",
        "                 padding=PREENCHIMENTO,\n",
        "                 name='camada_trigram')(camadas_iniciais)\n",
        "\n",
        "trigram = GlobalMaxPool1D(name='agrupamento_maximo_trigram')(trigram)\n",
        "\n",
        "# Fourgram\n",
        "\n",
        "fourgram = Conv1D(filters=ESPACO_SAIDA,\n",
        "                  kernel_size=4,\n",
        "                  activation=ATIVACAO_CNN,\n",
        "                  padding=PREENCHIMENTO,\n",
        "                  name='camada_fourgram')(camadas_iniciais)\n",
        "\n",
        "fourgram = GlobalMaxPool1D(name='agrupamento_maximo_fourgram')(fourgram)\n",
        "\n",
        "# Concatenação dos ngrams\n",
        "\n",
        "# camadas = tf.concat([bigram, trigram, fourgram], axis=-1)\n",
        "camadas = Concatenate(name=\"camada_concatenacao\")([bigram, trigram, fourgram])\n",
        "\n",
        "# Camada densa\n",
        "\n",
        "camadas = Dense(units=512, activation=ATIVACAO_CNN, name='camada_densa')(camadas)\n",
        "\n",
        "# Camada de abandono\n",
        "\n",
        "camadas = Dropout(rate=ABANDONOS, name='camada_abandono')(camadas)\n",
        "\n",
        "# Camada de saída\n",
        "\n",
        "saidas = Dense(units=1, activation=ATIVACAO_SAIDA, name='camada_saida')(camadas)\n",
        "\n",
        "modelos[modelo_numero] = Model(inputs=entradas, outputs=saidas, name=modelos_nome[modelo_numero])\n",
        "\n",
        "modelos[modelo_numero].compile(loss=PERDA,\n",
        "                               optimizer=OTIMIZADOR(learning_rate=APRENDIZADO),\n",
        "                               metrics=METRICAS)\n",
        "\n",
        "historicos[modelo_numero] = modelos[modelo_numero].fit(x=X_train,\n",
        "                                                       y=y_train,\n",
        "                                                       batch_size=NUCLEO_SAIDA,\n",
        "                                                       epochs=ITERACOES,\n",
        "                                                       validation_data=(X_val, y_val),\n",
        "                                                       verbose=1)"
      ],
      "metadata": {
        "colab": {
          "base_uri": "https://localhost:8080/"
        },
        "outputId": "284ae1e4-877f-426d-9731-fc79ce9fb092",
        "id": "5kBHK37gCF8w"
      },
      "execution_count": 34,
      "outputs": [
        {
          "output_type": "stream",
          "name": "stdout",
          "text": [
            "Epoch 1/3\n",
            "121/121 [==============================] - 28s 207ms/step - loss: 0.1764 - accuracy: 0.9393 - val_loss: 0.3394 - val_accuracy: 0.8846\n",
            "Epoch 2/3\n",
            "121/121 [==============================] - 24s 198ms/step - loss: 0.0234 - accuracy: 0.9915 - val_loss: 0.3775 - val_accuracy: 0.8888\n",
            "Epoch 3/3\n",
            "121/121 [==============================] - 21s 176ms/step - loss: 0.0076 - accuracy: 0.9973 - val_loss: 0.4436 - val_accuracy: 0.8831\n",
            "CPU times: user 1min 1s, sys: 1.12 s, total: 1min 2s\n",
            "Wall time: 1min 13s\n"
          ]
        }
      ]
    },
    {
      "cell_type": "code",
      "source": [
        "grafico_historico_por_iteracao(historicos[modelo_numero])"
      ],
      "metadata": {
        "colab": {
          "base_uri": "https://localhost:8080/",
          "height": 488
        },
        "outputId": "da8be47f-48e6-48ec-c4e0-0b6d0b19951d",
        "id": "nUAhjw-VCF8w"
      },
      "execution_count": 35,
      "outputs": [
        {
          "output_type": "display_data",
          "data": {
            "text/plain": [
              "<Figure size 800x500 with 1 Axes>"
            ],
            "image/png": "[encoded data removed]"
          },
          "metadata": {}
        }
      ]
    },
    {
      "cell_type": "code",
      "source": [
        "dados_modelo(modelo_numero)"
      ],
      "metadata": {
        "colab": {
          "base_uri": "https://localhost:8080/",
          "height": 656
        },
        "outputId": "2a03eaba-a3db-4c3e-ae80-399165a49f49",
        "id": "X0Q_X6iQCF8x"
      },
      "execution_count": 36,
      "outputs": [
        {
          "output_type": "stream",
          "name": "stdout",
          "text": [
            "61/61 [==============================] - 1s 12ms/step - loss: 0.4436 - accuracy: 0.8831\n",
            "61/61 [==============================] - 1s 10ms/step\n",
            "              precision    recall  f1-score   support\n",
            "\n",
            "           0       0.93      0.86      0.89      1103\n",
            "           1       0.83      0.91      0.87       830\n",
            "\n",
            "    accuracy                           0.88      1933\n",
            "   macro avg       0.88      0.89      0.88      1933\n",
            "weighted avg       0.89      0.88      0.88      1933\n",
            "\n"
          ]
        },
        {
          "output_type": "display_data",
          "data": {
            "text/plain": [
              "<Figure size 800x500 with 2 Axes>"
            ],
            "image/png": "[encoded data removed]"
          },
          "metadata": {}
        }
      ]
    },
    {
      "cell_type": "code",
      "source": [
        "relatorios[modelo_numero]"
      ],
      "metadata": {
        "colab": {
          "base_uri": "https://localhost:8080/"
        },
        "outputId": "a47031dd-b0fe-43d7-eb53-e328c742b8a8",
        "id": "AI7PeZJRCF8x"
      },
      "execution_count": 37,
      "outputs": [
        {
          "output_type": "execute_result",
          "data": {
            "text/plain": [
              "{'acurácia': 0.8830832902224521,\n",
              " 'precisão': 0.8869250125247139,\n",
              " 'revocação': 0.8830832902224521,\n",
              " 'pontuação-f1': 0.8835641123031095}"
            ]
          },
          "metadata": {},
          "execution_count": 37
        }
      ]
    },
    {
      "cell_type": "markdown",
      "source": [
        "### Modelo 4: RNN (LSTM Bidirecional)"
      ],
      "metadata": {
        "id": "0_oIztLzYGf0"
      }
    },
    {
      "cell_type": "code",
      "source": [
        "%%time\n",
        "\n",
        "modelo_numero = 4\n",
        "\n",
        "modelos_nome[modelo_numero] = 'RNR'\n",
        "\n",
        "camadas = Bidirectional(layer=LSTM(units=ESPACO_SAIDA, activation=ATIVACAO_RNN))(camadas_iniciais)\n",
        "\n",
        "saidas = Dense(1, activation=ATIVACAO_SAIDA, name='camada_saida')(camadas)\n",
        "\n",
        "modelos[modelo_numero] = Model(inputs=entradas, outputs=saidas, name=modelos_nome[modelo_numero])\n",
        "\n",
        "modelos[modelo_numero].compile(loss=PERDA,\n",
        "                               optimizer=OTIMIZADOR(learning_rate=APRENDIZADO),\n",
        "                               metrics=METRICAS)\n",
        "\n",
        "historicos[modelo_numero] = modelos[modelo_numero].fit(x=X_train,\n",
        "                                                       y=y_train,\n",
        "                                                       batch_size=NUCLEO_SAIDA,\n",
        "                                                       epochs=ITERACOES,\n",
        "                                                       validation_data=(X_val, y_val),\n",
        "                                                       verbose=1)"
      ],
      "metadata": {
        "colab": {
          "base_uri": "https://localhost:8080/"
        },
        "id": "coxtdI9FbWBb",
        "outputId": "8bc25e47-5f5a-403a-933a-ab2c5527538f"
      },
      "execution_count": 38,
      "outputs": [
        {
          "output_type": "stream",
          "name": "stdout",
          "text": [
            "Epoch 1/3\n",
            "121/121 [==============================] - 40s 296ms/step - loss: 0.3790 - accuracy: 0.8322 - val_loss: 0.2775 - val_accuracy: 0.8945\n",
            "Epoch 2/3\n",
            "121/121 [==============================] - 34s 282ms/step - loss: 0.1237 - accuracy: 0.9629 - val_loss: 0.3376 - val_accuracy: 0.8536\n",
            "Epoch 3/3\n",
            "121/121 [==============================] - 32s 267ms/step - loss: 0.0506 - accuracy: 0.9859 - val_loss: 0.3028 - val_accuracy: 0.9017\n",
            "CPU times: user 1min 33s, sys: 3.48 s, total: 1min 36s\n",
            "Wall time: 2min 25s\n"
          ]
        }
      ]
    },
    {
      "cell_type": "code",
      "source": [
        "grafico_historico_por_iteracao(historicos[modelo_numero])"
      ],
      "metadata": {
        "colab": {
          "base_uri": "https://localhost:8080/",
          "height": 488
        },
        "id": "PphAeJOKtKgG",
        "outputId": "ab2f43d5-3bd7-454b-988e-f541a3e666fb"
      },
      "execution_count": 39,
      "outputs": [
        {
          "output_type": "display_data",
          "data": {
            "text/plain": [
              "<Figure size 800x500 with 1 Axes>"
            ],
            "image/png": "[encoded data removed]"
          },
          "metadata": {}
        }
      ]
    },
    {
      "cell_type": "code",
      "source": [
        "dados_modelo(modelo_numero)"
      ],
      "metadata": {
        "colab": {
          "base_uri": "https://localhost:8080/",
          "height": 656
        },
        "id": "tr7TILHitKgG",
        "outputId": "d1d251b6-1eee-4f36-e7ef-c740026ac50d"
      },
      "execution_count": 40,
      "outputs": [
        {
          "output_type": "stream",
          "name": "stdout",
          "text": [
            "61/61 [==============================] - 2s 40ms/step - loss: 0.3028 - accuracy: 0.9017\n",
            "61/61 [==============================] - 3s 34ms/step\n",
            "              precision    recall  f1-score   support\n",
            "\n",
            "           0       0.92      0.90      0.91      1103\n",
            "           1       0.88      0.90      0.89       830\n",
            "\n",
            "    accuracy                           0.90      1933\n",
            "   macro avg       0.90      0.90      0.90      1933\n",
            "weighted avg       0.90      0.90      0.90      1933\n",
            "\n"
          ]
        },
        {
          "output_type": "display_data",
          "data": {
            "text/plain": [
              "<Figure size 800x500 with 2 Axes>"
            ],
            "image/png": "[encoded data removed]"
          },
          "metadata": {}
        }
      ]
    },
    {
      "cell_type": "code",
      "source": [
        "relatorios[modelo_numero]"
      ],
      "metadata": {
        "colab": {
          "base_uri": "https://localhost:8080/"
        },
        "id": "SEfecIaptKgG",
        "outputId": "de0fef69-fadb-457a-e3bf-3dd2a132c36c"
      },
      "execution_count": 41,
      "outputs": [
        {
          "output_type": "execute_result",
          "data": {
            "text/plain": [
              "{'acurácia': 0.9017071908949819,\n",
              " 'precisão': 0.9022387796105856,\n",
              " 'revocação': 0.9017071908949819,\n",
              " 'pontuação-f1': 0.9018549449891501}"
            ]
          },
          "metadata": {},
          "execution_count": 41
        }
      ]
    },
    {
      "cell_type": "markdown",
      "source": [
        "### Modelo 5: Transformer"
      ],
      "metadata": {
        "id": "34WRe5bsfBtQ"
      }
    },
    {
      "cell_type": "code",
      "source": [
        "%%time\n",
        "\n",
        "modelo_numero = 5\n",
        "\n",
        "modelos_nome[modelo_numero] = 'Transformer'\n",
        "\n",
        "tfhub_handle_preprocess = 'https://tfhub.dev/tensorflow/bert_en_uncased_preprocess/3'\n",
        "tfhub_handle_encoder    = 'https://tfhub.dev/tensorflow/small_bert/bert_en_uncased_L-4_H-128_A-2/2'\n",
        "\n",
        "modelos[modelo_numero] = build_classifier_model(tfhub_handle_encoder, tfhub_handle_preprocess, modelos_nome[modelo_numero])\n",
        "\n",
        "modelos[modelo_numero].compile(loss=PERDA,\n",
        "                               optimizer=OTIMIZADOR(learning_rate=APRENDIZADO),\n",
        "                               metrics=METRICAS)\n",
        "\n",
        "historicos[modelo_numero] = modelos[modelo_numero].fit(x=X_train,\n",
        "                                                       y=y_train,\n",
        "                                                       batch_size=NUCLEO_SAIDA,\n",
        "                                                       epochs=ITERACOES,\n",
        "                                                       validation_data=(X_val, y_val),\n",
        "                                                       verbose=1)"
      ],
      "metadata": {
        "colab": {
          "base_uri": "https://localhost:8080/"
        },
        "outputId": "e6f8ba2e-7d88-4772-c436-0c5d21048ba2",
        "id": "Bm_Gr9SRfBtQ"
      },
      "execution_count": 42,
      "outputs": [
        {
          "output_type": "stream",
          "name": "stdout",
          "text": [
            "Epoch 1/3\n",
            "121/121 [==============================] - 80s 541ms/step - loss: 0.6021 - accuracy: 0.6774 - val_loss: 0.4991 - val_accuracy: 0.7584\n",
            "Epoch 2/3\n",
            "121/121 [==============================] - 59s 490ms/step - loss: 0.4352 - accuracy: 0.7968 - val_loss: 0.4157 - val_accuracy: 0.8081\n",
            "Epoch 3/3\n",
            "121/121 [==============================] - 55s 456ms/step - loss: 0.3054 - accuracy: 0.8600 - val_loss: 0.4494 - val_accuracy: 0.8050\n",
            "CPU times: user 3min 32s, sys: 19.4 s, total: 3min 51s\n",
            "Wall time: 3min 41s\n"
          ]
        }
      ]
    },
    {
      "cell_type": "code",
      "source": [
        "grafico_historico_por_iteracao(historicos[modelo_numero])"
      ],
      "metadata": {
        "colab": {
          "base_uri": "https://localhost:8080/",
          "height": 488
        },
        "outputId": "24999371-5246-436d-ff3f-9ec33dc57d97",
        "id": "d6Ub1y0HfBtR"
      },
      "execution_count": 43,
      "outputs": [
        {
          "output_type": "display_data",
          "data": {
            "text/plain": [
              "<Figure size 800x500 with 1 Axes>"
            ],
            "image/png": "[encoded data removed]"
          },
          "metadata": {}
        }
      ]
    },
    {
      "cell_type": "code",
      "source": [
        "dados_modelo(modelo_numero)"
      ],
      "metadata": {
        "colab": {
          "base_uri": "https://localhost:8080/",
          "height": 656
        },
        "outputId": "a91e7a3e-7476-44e7-d2ed-bb3093daf173",
        "id": "fLEng35yfBtR"
      },
      "execution_count": 44,
      "outputs": [
        {
          "output_type": "stream",
          "name": "stdout",
          "text": [
            "61/61 [==============================] - 7s 117ms/step - loss: 0.4494 - accuracy: 0.8050\n",
            "61/61 [==============================] - 8s 125ms/step\n",
            "              precision    recall  f1-score   support\n",
            "\n",
            "           0       0.84      0.81      0.83      1103\n",
            "           1       0.76      0.80      0.78       830\n",
            "\n",
            "    accuracy                           0.80      1933\n",
            "   macro avg       0.80      0.80      0.80      1933\n",
            "weighted avg       0.81      0.80      0.81      1933\n",
            "\n"
          ]
        },
        {
          "output_type": "display_data",
          "data": {
            "text/plain": [
              "<Figure size 800x500 with 2 Axes>"
            ],
            "image/png": "[encoded data removed]"
          },
          "metadata": {}
        }
      ]
    },
    {
      "cell_type": "code",
      "source": [
        "relatorios[modelo_numero]"
      ],
      "metadata": {
        "colab": {
          "base_uri": "https://localhost:8080/"
        },
        "outputId": "31592a4c-ed07-4925-eecc-a6e14e37c4c0",
        "id": "gKIoD0mWfBtR"
      },
      "execution_count": 45,
      "outputs": [
        {
          "output_type": "execute_result",
          "data": {
            "text/plain": [
              "{'acurácia': 0.8049663735126746,\n",
              " 'precisão': 0.8064838836951992,\n",
              " 'revocação': 0.8049663735126746,\n",
              " 'pontuação-f1': 0.8054290546866735}"
            ]
          },
          "metadata": {},
          "execution_count": 45
        }
      ]
    },
    {
      "cell_type": "markdown",
      "source": [
        "### Modelo 6: fakeDETECTOR"
      ],
      "metadata": {
        "id": "_g1nwalqpXXq"
      }
    },
    {
      "cell_type": "code",
      "source": [
        "%%time\n",
        "\n",
        "modelo_numero = 6\n",
        "\n",
        "modelos_nome[modelo_numero] = 'fakeD'\n",
        "\n",
        "camadas = Conv1D(filters=ESPACO_SAIDA,\n",
        "                 kernel_size=NUCLEO_CONV,\n",
        "                 activation=ATIVACAO_CNN,\n",
        "                 padding=PREENCHIMENTO,\n",
        "                 name='camada_convulacional')(camadas_iniciais)\n",
        "\n",
        "camadas = GlobalMaxPool1D(name='agrupamento_maximo_global')(camadas)\n",
        "\n",
        "camadas = Dense(ESPACO_SAIDA, activation=ATIVACAO_CNN, name='camada_densa')(camadas)\n",
        "\n",
        "saidas = Dense(1, activation=ATIVACAO_SAIDA, name='camada_saida')(camadas)\n",
        "\n",
        "modelos[modelo_numero] = Model(inputs=entradas, outputs=saidas, name=modelos_nome[modelo_numero])\n",
        "\n",
        "modelos[modelo_numero].compile(loss=PERDA,\n",
        "                               optimizer=OTIMIZADOR(learning_rate=APRENDIZADO),\n",
        "                               metrics=METRICAS)\n",
        "\n",
        "historicos[modelo_numero] = modelos[modelo_numero].fit(x=X_train,\n",
        "                                                       y=y_train,\n",
        "                                                       batch_size=NUCLEO_SAIDA,\n",
        "                                                       epochs=ITERACOES,\n",
        "                                                       validation_data=(X_val, y_val),\n",
        "                                                       verbose=1)"
      ],
      "metadata": {
        "colab": {
          "base_uri": "https://localhost:8080/"
        },
        "outputId": "ffb2171e-8ac3-43d3-980d-1235038d2f9a",
        "id": "6Oo0rmXqpXXq"
      },
      "execution_count": 46,
      "outputs": [
        {
          "output_type": "stream",
          "name": "stdout",
          "text": [
            "Epoch 1/3\n",
            "121/121 [==============================] - 24s 187ms/step - loss: 0.1967 - accuracy: 0.9455 - val_loss: 0.3248 - val_accuracy: 0.8903\n",
            "Epoch 2/3\n",
            "121/121 [==============================] - 21s 175ms/step - loss: 0.0176 - accuracy: 0.9948 - val_loss: 0.3665 - val_accuracy: 0.8893\n",
            "Epoch 3/3\n",
            "121/121 [==============================] - 21s 176ms/step - loss: 0.0068 - accuracy: 0.9969 - val_loss: 0.4130 - val_accuracy: 0.8836\n",
            "CPU times: user 57.7 s, sys: 947 ms, total: 58.7 s\n",
            "Wall time: 1min 22s\n"
          ]
        }
      ]
    },
    {
      "cell_type": "code",
      "source": [
        "# grafico_historico_por_iteracao(historicos[modelo_numero])"
      ],
      "metadata": {
        "id": "zh7wmJVqpXXq"
      },
      "execution_count": 47,
      "outputs": []
    },
    {
      "cell_type": "code",
      "source": [
        "dados_modelo(modelo_numero)"
      ],
      "metadata": {
        "colab": {
          "base_uri": "https://localhost:8080/",
          "height": 656
        },
        "outputId": "b2fc0017-d615-4112-974a-0b0cded3249b",
        "id": "pAfh9ECtpXXr"
      },
      "execution_count": 48,
      "outputs": [
        {
          "output_type": "stream",
          "name": "stdout",
          "text": [
            "61/61 [==============================] - 1s 9ms/step - loss: 0.4130 - accuracy: 0.8836\n",
            "61/61 [==============================] - 0s 6ms/step\n",
            "              precision    recall  f1-score   support\n",
            "\n",
            "           0       0.91      0.88      0.90      1103\n",
            "           1       0.85      0.89      0.87       830\n",
            "\n",
            "    accuracy                           0.88      1933\n",
            "   macro avg       0.88      0.88      0.88      1933\n",
            "weighted avg       0.88      0.88      0.88      1933\n",
            "\n"
          ]
        },
        {
          "output_type": "display_data",
          "data": {
            "text/plain": [
              "<Figure size 800x500 with 2 Axes>"
            ],
            "image/png": "[encoded data removed]"
          },
          "metadata": {}
        }
      ]
    },
    {
      "cell_type": "code",
      "source": [
        "relatorios[modelo_numero]"
      ],
      "metadata": {
        "colab": {
          "base_uri": "https://localhost:8080/"
        },
        "outputId": "a7c03a0f-6fdd-476a-9ab0-ea320fae4434",
        "id": "7PP2GZq2pXXr"
      },
      "execution_count": 49,
      "outputs": [
        {
          "output_type": "execute_result",
          "data": {
            "text/plain": [
              "{'acurácia': 0.8836006207966891,\n",
              " 'precisão': 0.8848049032250851,\n",
              " 'revocação': 0.8836006207966891,\n",
              " 'pontuação-f1': 0.8838767567758663}"
            ]
          },
          "metadata": {},
          "execution_count": 49
        }
      ]
    },
    {
      "cell_type": "markdown",
      "source": [
        "### Modelo 7: fakeDETECTOR HDF5"
      ],
      "metadata": {
        "id": "Xm5FFUmp6aQq"
      }
    },
    {
      "cell_type": "code",
      "source": [
        "%%time\n",
        "\n",
        "modelo_numero = 7\n",
        "\n",
        "modelos_nome[modelo_numero] = 'fakeD-H5'\n",
        "\n",
        "modelos[modelo_numero] = tf.keras.models.load_model('fakeDETECTOR_HDF5.h5')"
      ],
      "metadata": {
        "colab": {
          "base_uri": "https://localhost:8080/"
        },
        "outputId": "4518d27f-315e-4045-d222-1acdc8dbc36b",
        "id": "NPI-82hI6aQr"
      },
      "execution_count": 50,
      "outputs": [
        {
          "output_type": "stream",
          "name": "stdout",
          "text": [
            "CPU times: user 309 ms, sys: 454 ms, total: 762 ms\n",
            "Wall time: 757 ms\n"
          ]
        }
      ]
    },
    {
      "cell_type": "code",
      "source": [
        "# grafico_historico_por_iteracao(historicos[modelo_numero])"
      ],
      "metadata": {
        "id": "0hHvnQxR6aQr"
      },
      "execution_count": 51,
      "outputs": []
    },
    {
      "cell_type": "code",
      "source": [
        "modelos[6].summary()"
      ],
      "metadata": {
        "colab": {
          "base_uri": "https://localhost:8080/"
        },
        "id": "Iodr-gEDOEGf",
        "outputId": "99091ce3-0eb5-49d7-b6a2-d62d0109f9a1"
      },
      "execution_count": 59,
      "outputs": [
        {
          "output_type": "stream",
          "name": "stdout",
          "text": [
            "Model: \"fakeD\"\n",
            "_________________________________________________________________\n",
            " Layer (type)                Output Shape              Param #   \n",
            "=================================================================\n",
            " camada_entrada (InputLayer  [(None, 1)]               0         \n",
            " )                                                               \n",
            "                                                                 \n",
            " text_vectorization (TextVe  (None, 1453)              0         \n",
            " ctorization)                                                    \n",
            "                                                                 \n",
            " embedding (Embedding)       (None, 1453, 128)         11520000  \n",
            "                                                                 \n",
            " camada_convulacional (Conv  (None, 1453, 128)         82048     \n",
            " 1D)                                                             \n",
            "                                                                 \n",
            " agrupamento_maximo_global   (None, 128)               0         \n",
            " (GlobalMaxPooling1D)                                            \n",
            "                                                                 \n",
            " camada_densa (Dense)        (None, 128)               16512     \n",
            "                                                                 \n",
            " camada_saida (Dense)        (None, 1)                 129       \n",
            "                                                                 \n",
            "=================================================================\n",
            "Total params: 11618689 (44.32 MB)\n",
            "Trainable params: 11618689 (44.32 MB)\n",
            "Non-trainable params: 0 (0.00 Byte)\n",
            "_________________________________________________________________\n"
          ]
        }
      ]
    },
    {
      "cell_type": "code",
      "source": [
        "modelos[7].summary()"
      ],
      "metadata": {
        "colab": {
          "base_uri": "https://localhost:8080/"
        },
        "id": "XpPdFt4EN7aE",
        "outputId": "1039d867-2e93-4e3a-9d4d-ae3292a54543"
      },
      "execution_count": 58,
      "outputs": [
        {
          "output_type": "stream",
          "name": "stdout",
          "text": [
            "Model: \"sequential\"\n",
            "_________________________________________________________________\n",
            " Layer (type)                Output Shape              Param #   \n",
            "=================================================================\n",
            " embedding (Embedding)       (None, 1000, 200)         14709200  \n",
            "                                                                 \n",
            " conv1d (Conv1D)             (None, 996, 256)          256256    \n",
            "                                                                 \n",
            " global_max_pooling1d (Glob  (None, 256)               0         \n",
            " alMaxPooling1D)                                                 \n",
            "                                                                 \n",
            " dense (Dense)               (None, 256)               65792     \n",
            "                                                                 \n",
            " dense_1 (Dense)             (None, 1)                 257       \n",
            "                                                                 \n",
            "=================================================================\n",
            "Total params: 15031505 (57.34 MB)\n",
            "Trainable params: 15031505 (57.34 MB)\n",
            "Non-trainable params: 0 (0.00 Byte)\n",
            "_________________________________________________________________\n"
          ]
        }
      ]
    },
    {
      "cell_type": "code",
      "source": [
        "modelos[7].evaluate(X_val, y_val)"
      ],
      "metadata": {
        "colab": {
          "base_uri": "https://localhost:8080/",
          "height": 651
        },
        "id": "E_dKGLneNZfT",
        "outputId": "19750f8f-be9d-4783-e4c7-39c0d30c7ce5"
      },
      "execution_count": 57,
      "outputs": [
        {
          "output_type": "error",
          "ename": "ValueError",
          "evalue": "ignored",
          "traceback": [
            "\u001b[0;31m---------------------------------------------------------------------------\u001b[0m",
            "\u001b[0;31mValueError\u001b[0m                                Traceback (most recent call last)",
            "\u001b[0;32m<ipython-input-57-a63e5b364378>\u001b[0m in \u001b[0;36m<cell line: 1>\u001b[0;34m()\u001b[0m\n\u001b[0;32m----> 1\u001b[0;31m \u001b[0mmodelos\u001b[0m\u001b[0;34m[\u001b[0m\u001b[0;36m7\u001b[0m\u001b[0;34m]\u001b[0m\u001b[0;34m.\u001b[0m\u001b[0mevaluate\u001b[0m\u001b[0;34m(\u001b[0m\u001b[0mX_val\u001b[0m\u001b[0;34m,\u001b[0m \u001b[0my_val\u001b[0m\u001b[0;34m)\u001b[0m\u001b[0;34m\u001b[0m\u001b[0;34m\u001b[0m\u001b[0m\n\u001b[0m",
            "\u001b[0;32m/usr/local/lib/python3.10/dist-packages/keras/src/utils/traceback_utils.py\u001b[0m in \u001b[0;36merror_handler\u001b[0;34m(*args, **kwargs)\u001b[0m\n\u001b[1;32m     68\u001b[0m             \u001b[0;31m# To get the full stack trace, call:\u001b[0m\u001b[0;34m\u001b[0m\u001b[0;34m\u001b[0m\u001b[0m\n\u001b[1;32m     69\u001b[0m             \u001b[0;31m# `tf.debugging.disable_traceback_filtering()`\u001b[0m\u001b[0;34m\u001b[0m\u001b[0;34m\u001b[0m\u001b[0m\n\u001b[0;32m---> 70\u001b[0;31m             \u001b[0;32mraise\u001b[0m \u001b[0me\u001b[0m\u001b[0;34m.\u001b[0m\u001b[0mwith_traceback\u001b[0m\u001b[0;34m(\u001b[0m\u001b[0mfiltered_tb\u001b[0m\u001b[0;34m)\u001b[0m \u001b[0;32mfrom\u001b[0m \u001b[0;32mNone\u001b[0m\u001b[0;34m\u001b[0m\u001b[0;34m\u001b[0m\u001b[0m\n\u001b[0m\u001b[1;32m     71\u001b[0m         \u001b[0;32mfinally\u001b[0m\u001b[0;34m:\u001b[0m\u001b[0;34m\u001b[0m\u001b[0;34m\u001b[0m\u001b[0m\n\u001b[1;32m     72\u001b[0m             \u001b[0;32mdel\u001b[0m \u001b[0mfiltered_tb\u001b[0m\u001b[0;34m\u001b[0m\u001b[0;34m\u001b[0m\u001b[0m\n",
            "\u001b[0;32m/usr/local/lib/python3.10/dist-packages/keras/src/engine/training.py\u001b[0m in \u001b[0;36mtf__test_function\u001b[0;34m(iterator)\u001b[0m\n\u001b[1;32m     13\u001b[0m                 \u001b[0;32mtry\u001b[0m\u001b[0;34m:\u001b[0m\u001b[0;34m\u001b[0m\u001b[0;34m\u001b[0m\u001b[0m\n\u001b[1;32m     14\u001b[0m                     \u001b[0mdo_return\u001b[0m \u001b[0;34m=\u001b[0m \u001b[0;32mTrue\u001b[0m\u001b[0;34m\u001b[0m\u001b[0;34m\u001b[0m\u001b[0m\n\u001b[0;32m---> 15\u001b[0;31m                     \u001b[0mretval_\u001b[0m \u001b[0;34m=\u001b[0m \u001b[0mag__\u001b[0m\u001b[0;34m.\u001b[0m\u001b[0mconverted_call\u001b[0m\u001b[0;34m(\u001b[0m\u001b[0mag__\u001b[0m\u001b[0;34m.\u001b[0m\u001b[0mld\u001b[0m\u001b[0;34m(\u001b[0m\u001b[0mstep_function\u001b[0m\u001b[0;34m)\u001b[0m\u001b[0;34m,\u001b[0m \u001b[0;34m(\u001b[0m\u001b[0mag__\u001b[0m\u001b[0;34m.\u001b[0m\u001b[0mld\u001b[0m\u001b[0;34m(\u001b[0m\u001b[0mself\u001b[0m\u001b[0;34m)\u001b[0m\u001b[0;34m,\u001b[0m \u001b[0mag__\u001b[0m\u001b[0;34m.\u001b[0m\u001b[0mld\u001b[0m\u001b[0;34m(\u001b[0m\u001b[0miterator\u001b[0m\u001b[0;34m)\u001b[0m\u001b[0;34m)\u001b[0m\u001b[0;34m,\u001b[0m \u001b[0;32mNone\u001b[0m\u001b[0;34m,\u001b[0m \u001b[0mfscope\u001b[0m\u001b[0;34m)\u001b[0m\u001b[0;34m\u001b[0m\u001b[0;34m\u001b[0m\u001b[0m\n\u001b[0m\u001b[1;32m     16\u001b[0m                 \u001b[0;32mexcept\u001b[0m\u001b[0;34m:\u001b[0m\u001b[0;34m\u001b[0m\u001b[0;34m\u001b[0m\u001b[0m\n\u001b[1;32m     17\u001b[0m                     \u001b[0mdo_return\u001b[0m \u001b[0;34m=\u001b[0m \u001b[0;32mFalse\u001b[0m\u001b[0;34m\u001b[0m\u001b[0;34m\u001b[0m\u001b[0m\n",
            "\u001b[0;31mValueError\u001b[0m: in user code:\n\n    File \"/usr/local/lib/python3.10/dist-packages/keras/src/engine/training.py\", line 1972, in test_function  *\n        return step_function(self, iterator)\n    File \"/usr/local/lib/python3.10/dist-packages/keras/src/engine/training.py\", line 1956, in step_function  **\n        outputs = model.distribute_strategy.run(run_step, args=(data,))\n    File \"/usr/local/lib/python3.10/dist-packages/keras/src/engine/training.py\", line 1944, in run_step  **\n        outputs = model.test_step(data)\n    File \"/usr/local/lib/python3.10/dist-packages/keras/src/engine/training.py\", line 1850, in test_step\n        y_pred = self(x, training=False)\n    File \"/usr/local/lib/python3.10/dist-packages/keras/src/utils/traceback_utils.py\", line 70, in error_handler\n        raise e.with_traceback(filtered_tb) from None\n\n    ValueError: Exception encountered when calling layer 'conv1d' (type Conv1D).\n    \n    Negative dimension size caused by subtracting 5 from 1 for '{{node sequential/conv1d/Conv1D}} = Conv2D[T=DT_FLOAT, data_format=\"NHWC\", dilations=[1, 1, 1, 1], explicit_paddings=[], padding=\"VALID\", strides=[1, 1, 1, 1], use_cudnn_on_gpu=true](sequential/conv1d/Conv1D/ExpandDims, sequential/conv1d/Conv1D/ExpandDims_1)' with input shapes: [?,1,1,200], [1,5,200,256].\n    \n    Call arguments received by layer 'conv1d' (type Conv1D):\n      • inputs=tf.Tensor(shape=(None, 1, 200), dtype=float32)\n"
          ]
        }
      ]
    },
    {
      "cell_type": "code",
      "source": [],
      "metadata": {
        "id": "go-CJNFpNgqi"
      },
      "execution_count": null,
      "outputs": []
    },
    {
      "cell_type": "code",
      "source": [
        "dados_modelo(modelo_numero)"
      ],
      "metadata": {
        "id": "CuVjAnag6aQr"
      },
      "execution_count": null,
      "outputs": []
    },
    {
      "cell_type": "code",
      "source": [
        "relatorios[modelo_numero]"
      ],
      "metadata": {
        "id": "VD7aBKyW6aQr"
      },
      "execution_count": null,
      "outputs": []
    },
    {
      "cell_type": "markdown",
      "source": [
        "## Comparar modelos"
      ],
      "metadata": {
        "id": "n7n2p3ZBPuKA"
      }
    },
    {
      "cell_type": "code",
      "source": [
        "comparacao = pd.DataFrame([r for r in relatorios if r is not None])\n",
        "comparacao = comparacao.reset_index().melt(id_vars='index').rename(columns=str.title)"
      ],
      "metadata": {
        "id": "EE4iA_hhRdx3"
      },
      "execution_count": null,
      "outputs": []
    },
    {
      "cell_type": "code",
      "source": [
        "sns.barplot(data=comparacao, x='Index', y='Value', hue='Variable', palette='summer_r')\n",
        "\n",
        "plt.ylim(0.0, 1.0)\n",
        "\n",
        "# plt.title('Medidas de avaliação dos modelos - Dados de validação')\n",
        "plt.xlabel('Modelos')\n",
        "plt.ylabel('Valor')\n",
        "\n",
        "plt.xticks(ticks=np.arange(len(modelos_nome)), labels=modelos_nome)\n",
        "plt.yticks(ticks=np.arange(0.0, 1.01, 0.1))\n",
        "\n",
        "plt.legend(loc=(1.03, 0.76));"
      ],
      "metadata": {
        "id": "XweHcfObUtPn"
      },
      "execution_count": null,
      "outputs": []
    },
    {
      "cell_type": "markdown",
      "source": [
        "## Teste modelos"
      ],
      "metadata": {
        "id": "RNX2atvAH511"
      }
    },
    {
      "cell_type": "code",
      "source": [
        "# avaliacoes     = [None] * MAXIMO_MODELOS\n",
        "# probabilidades = [None] * MAXIMO_MODELOS\n",
        "# previsoes      = [None] * MAXIMO_MODELOS\n",
        "# relatorios     = [None] * MAXIMO_MODELOS"
      ],
      "metadata": {
        "id": "SrxHVYaZHqro"
      },
      "execution_count": null,
      "outputs": []
    },
    {
      "cell_type": "code",
      "source": [
        "# for modelo_numero, modelo in enumerate(modelos):\n",
        "#     teste_modelo(modelo_numero)\n",
        "#     print(relatorios[modelo_numero])"
      ],
      "metadata": {
        "id": "m4vKU70fGZNr"
      },
      "execution_count": null,
      "outputs": []
    },
    {
      "cell_type": "code",
      "source": [
        "# comparacao = pd.DataFrame([r for r in relatorios if r is not None])\n",
        "# comparacao = comparacao.reset_index().melt(id_vars='index').rename(columns=str.title)"
      ],
      "metadata": {
        "id": "CPw8U0FVHYSE"
      },
      "execution_count": null,
      "outputs": []
    },
    {
      "cell_type": "code",
      "source": [
        "# sns.barplot(data=comparacao, x='Index', y='Value', hue='Variable', palette='summer_r')\n",
        "\n",
        "# plt.ylim(0.0, 1.0)\n",
        "\n",
        "# # plt.title('Medidas de avaliação dos modelos - Dados de teste')\n",
        "# plt.xlabel('Modelos')\n",
        "# plt.ylabel('Valor')\n",
        "\n",
        "# plt.xticks(ticks=np.arange(len(modelos_nome)), labels=modelos_nome)\n",
        "# plt.yticks(ticks=np.arange(0.0, 1.01, 0.1))\n",
        "\n",
        "# plt.legend(loc=(1.03, 0.76));"
      ],
      "metadata": {
        "id": "dMQby2JLHYSF"
      },
      "execution_count": null,
      "outputs": []
    },
    {
      "cell_type": "code",
      "source": [],
      "metadata": {
        "id": "hKedlIeBHZLC"
      },
      "execution_count": null,
      "outputs": []
    }
  ]
}