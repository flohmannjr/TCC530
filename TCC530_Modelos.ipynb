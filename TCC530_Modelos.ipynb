{
  "nbformat": 4,
  "nbformat_minor": 0,
  "metadata": {
    "colab": {
      "provenance": [],
      "toc_visible": true,
      "gpuType": "T4",
      "authorship_tag": "ABX9TyMLbxFMuDzq0Jrey3+NmQcn",
      "include_colab_link": true
    },
    "kernelspec": {
      "name": "python3",
      "display_name": "Python 3"
    },
    "language_info": {
      "name": "python"
    },
    "accelerator": "GPU"
  },
  "cells": [
    {
      "cell_type": "markdown",
      "metadata": {
        "id": "view-in-github",
        "colab_type": "text"
      },
      "source": [
        "<a href=\"https://colab.research.google.com/github/flohmannjr/TCC530/blob/main/TCC530_Modelos.ipynb\" target=\"_parent\"><img src=\"https://colab.research.google.com/assets/colab-badge.svg\" alt=\"Open In Colab\"/></a>"
      ]
    },
    {
      "cell_type": "markdown",
      "source": [
        "# TCC530 - Modelos"
      ],
      "metadata": {
        "id": "sM5NtvKd2t6r"
      }
    },
    {
      "cell_type": "markdown",
      "source": [
        "## Importações de bibliotecas"
      ],
      "metadata": {
        "id": "WqEilYWShIy9"
      }
    },
    {
      "cell_type": "code",
      "source": [
        "import numpy as np\n",
        "import pandas as pd\n",
        "\n",
        "import matplotlib.pyplot as plt\n",
        "import seaborn as sns\n",
        "\n",
        "import os, random\n",
        "\n",
        "import tensorflow as tf\n",
        "\n",
        "from tensorflow.keras import Model, Sequential\n",
        "from tensorflow.keras.optimizers import Adam\n",
        "\n",
        "from tensorflow.keras.layers import Embedding, TextVectorization\n",
        "from tensorflow.keras.layers import Dense, Dropout, GlobalMaxPool1D, Input\n",
        "from tensorflow.keras.layers import Bidirectional, Conv1D, GRU, LSTM\n",
        "\n",
        "from sklearn.feature_extraction.text import TfidfVectorizer\n",
        "from sklearn.naive_bayes import MultinomialNB\n",
        "from sklearn.pipeline import Pipeline\n",
        "\n",
        "from sklearn.metrics import classification_report, ConfusionMatrixDisplay\n",
        "from sklearn.model_selection import train_test_split"
      ],
      "metadata": {
        "id": "MySX__30hTdj"
      },
      "execution_count": 1,
      "outputs": []
    },
    {
      "cell_type": "markdown",
      "source": [
        "## Configurações"
      ],
      "metadata": {
        "id": "aI2iohUhhZST"
      }
    },
    {
      "cell_type": "code",
      "source": [
        "plt.rcParams['figure.figsize'] = [8, 5]\n",
        "plt.rcParams['figure.dpi'] = 100\n",
        "\n",
        "sns.set_style(\"darkgrid\")"
      ],
      "metadata": {
        "id": "Rp5BDfYGhdyK"
      },
      "execution_count": 2,
      "outputs": []
    },
    {
      "cell_type": "markdown",
      "source": [
        "### Constantes"
      ],
      "metadata": {
        "id": "2mYrOLyyo3rE"
      }
    },
    {
      "cell_type": "code",
      "source": [
        "SEMENTE = 2008193\n",
        "\n",
        "LIMITE_DICIONARIO = 80000\n",
        "\n",
        "MAXIMO_MODELOS = 20\n",
        "\n",
        "ENTRADA_FORMATO = (1,)\n",
        "ENTRADA_TIPO = tf.string\n",
        "\n",
        "ATIVACAO_CNN = 'relu'\n",
        "ATIVACAO_RNN = 'tanh'\n",
        "ATIVACAO_SAIDA = 'sigmoid'\n",
        "\n",
        "FILTROS = 32\n",
        "NUCLEO_TAMANHO = 64\n",
        "PREENCHIMENTO = 'same'\n",
        "\n",
        "NEURONIOS_DENSO = 128\n",
        "ABANDONOS = 0.1\n",
        "\n",
        "PERDA = 'binary_crossentropy'\n",
        "APRENDIZADO = 0.001\n",
        "METRICAS = ['accuracy']\n",
        "\n",
        "ITERACOES = 5"
      ],
      "metadata": {
        "id": "YdFyHpMEo5vV"
      },
      "execution_count": 3,
      "outputs": []
    },
    {
      "cell_type": "markdown",
      "source": [
        "## Dados\n",
        "\n",
        "Fake.Br Corpus https://github.com/roneysco/Fake.br-Corpus"
      ],
      "metadata": {
        "id": "rMCA_Vc9hn4L"
      }
    },
    {
      "cell_type": "code",
      "source": [
        "dados = pd.read_csv('https://raw.githubusercontent.com/roneysco/Fake.br-Corpus/master/preprocessed/pre-processed.csv',\n",
        "                    index_col=['index'])"
      ],
      "metadata": {
        "id": "Out5sfUOhsN7"
      },
      "execution_count": 4,
      "outputs": []
    },
    {
      "cell_type": "code",
      "source": [
        "dados['label'].replace({'fake': 0, 'true': 1}, inplace=True)"
      ],
      "metadata": {
        "id": "gxNHPtPltb8_"
      },
      "execution_count": 5,
      "outputs": []
    },
    {
      "cell_type": "code",
      "source": [
        "dados.info()"
      ],
      "metadata": {
        "colab": {
          "base_uri": "https://localhost:8080/"
        },
        "id": "3ocxy4-Kkt6n",
        "outputId": "ae95e512-7b18-4030-d775-4da9a7f9c440"
      },
      "execution_count": 6,
      "outputs": [
        {
          "output_type": "stream",
          "name": "stdout",
          "text": [
            "<class 'pandas.core.frame.DataFrame'>\n",
            "Int64Index: 7200 entries, 0 to 7199\n",
            "Data columns (total 2 columns):\n",
            " #   Column             Non-Null Count  Dtype \n",
            "---  ------             --------------  ----- \n",
            " 0   label              7200 non-null   int64 \n",
            " 1   preprocessed_news  7200 non-null   object\n",
            "dtypes: int64(1), object(1)\n",
            "memory usage: 168.8+ KB\n"
          ]
        }
      ]
    },
    {
      "cell_type": "code",
      "source": [
        "dados"
      ],
      "metadata": {
        "colab": {
          "base_uri": "https://localhost:8080/",
          "height": 455
        },
        "id": "CQvBmtAkldfJ",
        "outputId": "1977b0cf-1ffb-483a-b057-8209b8645316"
      },
      "execution_count": 7,
      "outputs": [
        {
          "output_type": "execute_result",
          "data": {
            "text/plain": [
              "       label                                  preprocessed_news\n",
              "index                                                          \n",
              "0          0  katia abreu diz vai colocar expulsao moldura n...\n",
              "1          0  ray peita bolsonaro conservador fake entrevist...\n",
              "2          0  reinaldo azevedo desmascarado policia federal ...\n",
              "3          0  relatorio assustador bndes mostra dinheiro pub...\n",
              "4          0  radialista americano fala sobre pt vendem ilus...\n",
              "...      ...                                                ...\n",
              "7195       1  jornal britanico acao contra lula lava jato se...\n",
              "7196       1  temer diz acionou pf cade investigar aumentos ...\n",
              "7197       1  obstaculos politicos temer especialistas ouvid...\n",
              "7198       1  setembro boa noite aqui estao principais notic...\n",
              "7199       1  envolvo politica diz brasileiro preso venezuel...\n",
              "\n",
              "[7200 rows x 2 columns]"
            ],
            "text/html": [
              "\n",
              "\n",
              "  <div id=\"df-602b03a8-28d9-409b-b0fb-43584530c245\">\n",
              "    <div class=\"colab-df-container\">\n",
              "      <div>\n",
              "<style scoped>\n",
              "    .dataframe tbody tr th:only-of-type {\n",
              "        vertical-align: middle;\n",
              "    }\n",
              "\n",
              "    .dataframe tbody tr th {\n",
              "        vertical-align: top;\n",
              "    }\n",
              "\n",
              "    .dataframe thead th {\n",
              "        text-align: right;\n",
              "    }\n",
              "</style>\n",
              "<table border=\"1\" class=\"dataframe\">\n",
              "  <thead>\n",
              "    <tr style=\"text-align: right;\">\n",
              "      <th></th>\n",
              "      <th>label</th>\n",
              "      <th>preprocessed_news</th>\n",
              "    </tr>\n",
              "    <tr>\n",
              "      <th>index</th>\n",
              "      <th></th>\n",
              "      <th></th>\n",
              "    </tr>\n",
              "  </thead>\n",
              "  <tbody>\n",
              "    <tr>\n",
              "      <th>0</th>\n",
              "      <td>0</td>\n",
              "      <td>katia abreu diz vai colocar expulsao moldura n...</td>\n",
              "    </tr>\n",
              "    <tr>\n",
              "      <th>1</th>\n",
              "      <td>0</td>\n",
              "      <td>ray peita bolsonaro conservador fake entrevist...</td>\n",
              "    </tr>\n",
              "    <tr>\n",
              "      <th>2</th>\n",
              "      <td>0</td>\n",
              "      <td>reinaldo azevedo desmascarado policia federal ...</td>\n",
              "    </tr>\n",
              "    <tr>\n",
              "      <th>3</th>\n",
              "      <td>0</td>\n",
              "      <td>relatorio assustador bndes mostra dinheiro pub...</td>\n",
              "    </tr>\n",
              "    <tr>\n",
              "      <th>4</th>\n",
              "      <td>0</td>\n",
              "      <td>radialista americano fala sobre pt vendem ilus...</td>\n",
              "    </tr>\n",
              "    <tr>\n",
              "      <th>...</th>\n",
              "      <td>...</td>\n",
              "      <td>...</td>\n",
              "    </tr>\n",
              "    <tr>\n",
              "      <th>7195</th>\n",
              "      <td>1</td>\n",
              "      <td>jornal britanico acao contra lula lava jato se...</td>\n",
              "    </tr>\n",
              "    <tr>\n",
              "      <th>7196</th>\n",
              "      <td>1</td>\n",
              "      <td>temer diz acionou pf cade investigar aumentos ...</td>\n",
              "    </tr>\n",
              "    <tr>\n",
              "      <th>7197</th>\n",
              "      <td>1</td>\n",
              "      <td>obstaculos politicos temer especialistas ouvid...</td>\n",
              "    </tr>\n",
              "    <tr>\n",
              "      <th>7198</th>\n",
              "      <td>1</td>\n",
              "      <td>setembro boa noite aqui estao principais notic...</td>\n",
              "    </tr>\n",
              "    <tr>\n",
              "      <th>7199</th>\n",
              "      <td>1</td>\n",
              "      <td>envolvo politica diz brasileiro preso venezuel...</td>\n",
              "    </tr>\n",
              "  </tbody>\n",
              "</table>\n",
              "<p>7200 rows × 2 columns</p>\n",
              "</div>\n",
              "      <button class=\"colab-df-convert\" onclick=\"convertToInteractive('df-602b03a8-28d9-409b-b0fb-43584530c245')\"\n",
              "              title=\"Convert this dataframe to an interactive table.\"\n",
              "              style=\"display:none;\">\n",
              "\n",
              "  <svg xmlns=\"http://www.w3.org/2000/svg\" height=\"24px\"viewBox=\"0 0 24 24\"\n",
              "       width=\"24px\">\n",
              "    <path d=\"M0 0h24v24H0V0z\" fill=\"none\"/>\n",
              "    <path d=\"M18.56 5.44l.94 2.06.94-2.06 2.06-.94-2.06-.94-.94-2.06-.94 2.06-2.06.94zm-11 1L8.5 8.5l.94-2.06 2.06-.94-2.06-.94L8.5 2.5l-.94 2.06-2.06.94zm10 10l.94 2.06.94-2.06 2.06-.94-2.06-.94-.94-2.06-.94 2.06-2.06.94z\"/><path d=\"M17.41 7.96l-1.37-1.37c-.4-.4-.92-.59-1.43-.59-.52 0-1.04.2-1.43.59L10.3 9.45l-7.72 7.72c-.78.78-.78 2.05 0 2.83L4 21.41c.39.39.9.59 1.41.59.51 0 1.02-.2 1.41-.59l7.78-7.78 2.81-2.81c.8-.78.8-2.07 0-2.86zM5.41 20L4 18.59l7.72-7.72 1.47 1.35L5.41 20z\"/>\n",
              "  </svg>\n",
              "      </button>\n",
              "\n",
              "\n",
              "\n",
              "    <div id=\"df-633b7058-f16a-48df-a5ab-d718f123eb65\">\n",
              "      <button class=\"colab-df-quickchart\" onclick=\"quickchart('df-633b7058-f16a-48df-a5ab-d718f123eb65')\"\n",
              "              title=\"Suggest charts.\"\n",
              "              style=\"display:none;\">\n",
              "\n",
              "<svg xmlns=\"http://www.w3.org/2000/svg\" height=\"24px\"viewBox=\"0 0 24 24\"\n",
              "     width=\"24px\">\n",
              "    <g>\n",
              "        <path d=\"M19 3H5c-1.1 0-2 .9-2 2v14c0 1.1.9 2 2 2h14c1.1 0 2-.9 2-2V5c0-1.1-.9-2-2-2zM9 17H7v-7h2v7zm4 0h-2V7h2v10zm4 0h-2v-4h2v4z\"/>\n",
              "    </g>\n",
              "</svg>\n",
              "      </button>\n",
              "    </div>\n",
              "\n",
              "<style>\n",
              "  .colab-df-quickchart {\n",
              "    background-color: #E8F0FE;\n",
              "    border: none;\n",
              "    border-radius: 50%;\n",
              "    cursor: pointer;\n",
              "    display: none;\n",
              "    fill: #1967D2;\n",
              "    height: 32px;\n",
              "    padding: 0 0 0 0;\n",
              "    width: 32px;\n",
              "  }\n",
              "\n",
              "  .colab-df-quickchart:hover {\n",
              "    background-color: #E2EBFA;\n",
              "    box-shadow: 0px 1px 2px rgba(60, 64, 67, 0.3), 0px 1px 3px 1px rgba(60, 64, 67, 0.15);\n",
              "    fill: #174EA6;\n",
              "  }\n",
              "\n",
              "  [theme=dark] .colab-df-quickchart {\n",
              "    background-color: #3B4455;\n",
              "    fill: #D2E3FC;\n",
              "  }\n",
              "\n",
              "  [theme=dark] .colab-df-quickchart:hover {\n",
              "    background-color: #434B5C;\n",
              "    box-shadow: 0px 1px 3px 1px rgba(0, 0, 0, 0.15);\n",
              "    filter: drop-shadow(0px 1px 2px rgba(0, 0, 0, 0.3));\n",
              "    fill: #FFFFFF;\n",
              "  }\n",
              "</style>\n",
              "\n",
              "    <script>\n",
              "      async function quickchart(key) {\n",
              "        const containerElement = document.querySelector('#' + key);\n",
              "        const charts = await google.colab.kernel.invokeFunction(\n",
              "            'suggestCharts', [key], {});\n",
              "      }\n",
              "    </script>\n",
              "\n",
              "      <script>\n",
              "\n",
              "function displayQuickchartButton(domScope) {\n",
              "  let quickchartButtonEl =\n",
              "    domScope.querySelector('#df-633b7058-f16a-48df-a5ab-d718f123eb65 button.colab-df-quickchart');\n",
              "  quickchartButtonEl.style.display =\n",
              "    google.colab.kernel.accessAllowed ? 'block' : 'none';\n",
              "}\n",
              "\n",
              "        displayQuickchartButton(document);\n",
              "      </script>\n",
              "      <style>\n",
              "    .colab-df-container {\n",
              "      display:flex;\n",
              "      flex-wrap:wrap;\n",
              "      gap: 12px;\n",
              "    }\n",
              "\n",
              "    .colab-df-convert {\n",
              "      background-color: #E8F0FE;\n",
              "      border: none;\n",
              "      border-radius: 50%;\n",
              "      cursor: pointer;\n",
              "      display: none;\n",
              "      fill: #1967D2;\n",
              "      height: 32px;\n",
              "      padding: 0 0 0 0;\n",
              "      width: 32px;\n",
              "    }\n",
              "\n",
              "    .colab-df-convert:hover {\n",
              "      background-color: #E2EBFA;\n",
              "      box-shadow: 0px 1px 2px rgba(60, 64, 67, 0.3), 0px 1px 3px 1px rgba(60, 64, 67, 0.15);\n",
              "      fill: #174EA6;\n",
              "    }\n",
              "\n",
              "    [theme=dark] .colab-df-convert {\n",
              "      background-color: #3B4455;\n",
              "      fill: #D2E3FC;\n",
              "    }\n",
              "\n",
              "    [theme=dark] .colab-df-convert:hover {\n",
              "      background-color: #434B5C;\n",
              "      box-shadow: 0px 1px 3px 1px rgba(0, 0, 0, 0.15);\n",
              "      filter: drop-shadow(0px 1px 2px rgba(0, 0, 0, 0.3));\n",
              "      fill: #FFFFFF;\n",
              "    }\n",
              "  </style>\n",
              "\n",
              "      <script>\n",
              "        const buttonEl =\n",
              "          document.querySelector('#df-602b03a8-28d9-409b-b0fb-43584530c245 button.colab-df-convert');\n",
              "        buttonEl.style.display =\n",
              "          google.colab.kernel.accessAllowed ? 'block' : 'none';\n",
              "\n",
              "        async function convertToInteractive(key) {\n",
              "          const element = document.querySelector('#df-602b03a8-28d9-409b-b0fb-43584530c245');\n",
              "          const dataTable =\n",
              "            await google.colab.kernel.invokeFunction('convertToInteractive',\n",
              "                                                     [key], {});\n",
              "          if (!dataTable) return;\n",
              "\n",
              "          const docLinkHtml = 'Like what you see? Visit the ' +\n",
              "            '<a target=\"_blank\" href=https://colab.research.google.com/notebooks/data_table.ipynb>data table notebook</a>'\n",
              "            + ' to learn more about interactive tables.';\n",
              "          element.innerHTML = '';\n",
              "          dataTable['output_type'] = 'display_data';\n",
              "          await google.colab.output.renderOutput(dataTable, element);\n",
              "          const docLink = document.createElement('div');\n",
              "          docLink.innerHTML = docLinkHtml;\n",
              "          element.appendChild(docLink);\n",
              "        }\n",
              "      </script>\n",
              "    </div>\n",
              "  </div>\n"
            ]
          },
          "metadata": {},
          "execution_count": 7
        }
      ]
    },
    {
      "cell_type": "code",
      "source": [
        "dados['label'].value_counts()"
      ],
      "metadata": {
        "colab": {
          "base_uri": "https://localhost:8080/"
        },
        "id": "pC9WtRCSpJBy",
        "outputId": "fe35b2c6-4b4f-40a2-f813-01a236195351"
      },
      "execution_count": 8,
      "outputs": [
        {
          "output_type": "execute_result",
          "data": {
            "text/plain": [
              "0    3600\n",
              "1    3600\n",
              "Name: label, dtype: int64"
            ]
          },
          "metadata": {},
          "execution_count": 8
        }
      ]
    },
    {
      "cell_type": "code",
      "source": [
        "X = dados['preprocessed_news']\n",
        "y = dados['label']\n",
        "\n",
        "X_train, X_test, y_train, y_test = train_test_split(X, y, test_size=0.2, random_state=SEMENTE)"
      ],
      "metadata": {
        "id": "pzkpp9G6pe37"
      },
      "execution_count": 9,
      "outputs": []
    },
    {
      "cell_type": "code",
      "source": [
        "X_train.shape, X_test.shape, y_train.shape, y_test.shape"
      ],
      "metadata": {
        "colab": {
          "base_uri": "https://localhost:8080/"
        },
        "id": "jBwZySiCqRRe",
        "outputId": "2dfcfbd1-50e2-423d-8113-2979a95181ad"
      },
      "execution_count": 10,
      "outputs": [
        {
          "output_type": "execute_result",
          "data": {
            "text/plain": [
              "((5760,), (1440,), (5760,), (1440,))"
            ]
          },
          "metadata": {},
          "execution_count": 10
        }
      ]
    },
    {
      "cell_type": "code",
      "source": [
        "X_train.dtype, X_test.dtype, y_train.dtype, y_test.dtype"
      ],
      "metadata": {
        "colab": {
          "base_uri": "https://localhost:8080/"
        },
        "id": "JYM1fQBJsBT2",
        "outputId": "b84bf35b-3f72-4713-bee3-7c262ec4287f"
      },
      "execution_count": 11,
      "outputs": [
        {
          "output_type": "execute_result",
          "data": {
            "text/plain": [
              "(dtype('O'), dtype('O'), dtype('int64'), dtype('int64'))"
            ]
          },
          "metadata": {},
          "execution_count": 11
        }
      ]
    },
    {
      "cell_type": "markdown",
      "source": [
        "### Converter texto em números"
      ],
      "metadata": {
        "id": "XFJvbZGNF1wQ"
      }
    },
    {
      "cell_type": "code",
      "source": [
        "# media_palavras_por_texto = round(sum([len(texto.split()) for texto in X_train]) / len(X_train))\n",
        "maximo_palavras_por_texto = max([len(texto.split()) for texto in X_train])\n",
        "\n",
        "# tamanho_texto = media_palavras_por_texto\n",
        "tamanho_texto = maximo_palavras_por_texto"
      ],
      "metadata": {
        "id": "eEeIqaudihRy"
      },
      "execution_count": 12,
      "outputs": []
    },
    {
      "cell_type": "markdown",
      "source": [
        "#### Vetorização (Vectorization)"
      ],
      "metadata": {
        "id": "MZMY-KhKPbON"
      }
    },
    {
      "cell_type": "code",
      "source": [
        "vetorizador = TextVectorization(max_tokens=LIMITE_DICIONARIO,               # (Default: None) Máximo de tokens (palavras) no dicionário.\n",
        "                                standardize='lower_and_strip_punctuation',  # (Default) Texto em caixa baixa e retira caracteres especiais.\n",
        "                                split='whitespace',                         # (Default) Separador de tokens.\n",
        "                                ngrams=None,                                # (Default) Tokens por grupo. (None = não agrupar tokens.)\n",
        "                                output_mode='int',                          # (Default) Como mapear tokens para números.\n",
        "                                output_sequence_length=tamanho_texto)       # (Default: None) Tamanho do texto, completado ou truncado, se necessário. (Válido apenas para 'int'.)"
      ],
      "metadata": {
        "id": "cK8AkY3m4DYF"
      },
      "execution_count": 13,
      "outputs": []
    },
    {
      "cell_type": "code",
      "source": [
        "vetorizador.adapt(X_train)"
      ],
      "metadata": {
        "id": "Ak3f6OTu7Dfp"
      },
      "execution_count": 14,
      "outputs": []
    },
    {
      "cell_type": "code",
      "source": [
        "texto = random.choice(X_train)\n",
        "print(texto)\n",
        "\n",
        "vetorizador([texto])"
      ],
      "metadata": {
        "colab": {
          "base_uri": "https://localhost:8080/"
        },
        "id": "orHNIpsbLafi",
        "outputId": "19790083-f606-4bec-9939-b10e59b4e4b7"
      },
      "execution_count": 15,
      "outputs": [
        {
          "output_type": "stream",
          "name": "stdout",
          "text": [
            "aliados pt dizem dilma votos suficientes senado retomar poder coluna esplanada jornalista leandro mazzini informou lula diz votos suficientes barrar impeachment dilma senado acordo publicacao deixou brasilia fim semana acompanhado senador roberto requiao apos jantar senadores aliados jantar fracasso poucos senadores compareceram sobrou marmitex lula insiste dizer apoio suficiente dilma volte assumir poder fundo lixando dilma quer carginho foro livrar justica primeira instancia assim ocorreu votacao impeachment camara deputados petista pode estar blefando novamente mentindo sobre numeros alias mentir sobre numeros especialidade lula lado oposto senado calcula presidente interino michel temer votos manter dilma afastada planalto\n"
          ]
        },
        {
          "output_type": "execute_result",
          "data": {
            "text/plain": [
              "<tf.Tensor: shape=(1, 4229), dtype=int64, numpy=array([[903,  73, 637, ...,   0,   0,   0]])>"
            ]
          },
          "metadata": {},
          "execution_count": 15
        }
      ]
    },
    {
      "cell_type": "code",
      "source": [
        "vocabulario = vetorizador.get_vocabulary()"
      ],
      "metadata": {
        "id": "TRo6HuAcMLEf"
      },
      "execution_count": 16,
      "outputs": []
    },
    {
      "cell_type": "code",
      "source": [
        "# [UNK] = Desconhecido, fora do limite do dicionário.\n",
        "len(vocabulario), vocabulario[:5], vocabulario[-5:]"
      ],
      "metadata": {
        "colab": {
          "base_uri": "https://localhost:8080/"
        },
        "id": "kUN1qXHXNrY-",
        "outputId": "524a8680-8c66-4c4b-8b93-98ed6579b102"
      },
      "execution_count": 17,
      "outputs": [
        {
          "output_type": "execute_result",
          "data": {
            "text/plain": [
              "(73258,\n",
              " ['', '[UNK]', 'nao', 'lula', 'ser'],\n",
              " ['aapesar', 'aachen', 'aace', 'aabertura', 'aabb'])"
            ]
          },
          "metadata": {},
          "execution_count": 17
        }
      ]
    },
    {
      "cell_type": "markdown",
      "source": [
        "#### Incorporação (Embedding)"
      ],
      "metadata": {
        "id": "aFWb7WPXOnqn"
      }
    },
    {
      "cell_type": "code",
      "source": [
        "incorporador = Embedding(input_dim=LIMITE_DICIONARIO,  # Tamanho do vocabulário de entrada.\n",
        "                         output_dim=128,               # Dimensão do vetor de saída. (Geralmente um múltiplo de 8.)\n",
        "                         input_length=tamanho_texto)   # Tamanho do texto de entrada."
      ],
      "metadata": {
        "id": "LhYEdM7FPqW_"
      },
      "execution_count": 18,
      "outputs": []
    },
    {
      "cell_type": "code",
      "source": [
        "texto = random.choice(X_train)\n",
        "print(texto)\n",
        "\n",
        "incorporador(vetorizador([texto]))"
      ],
      "metadata": {
        "colab": {
          "base_uri": "https://localhost:8080/"
        },
        "id": "3eUep0VlTCSa",
        "outputId": "96e42093-f38b-4417-ebc5-11427ab148ec"
      },
      "execution_count": 19,
      "outputs": [
        {
          "output_type": "stream",
          "name": "stdout",
          "text": [
            "luiz fux decisao alerj soltar deputados promiscua vulgar certamente sera revista stf entrevista exclusiva bbc brasil ministro tambem defendeu candidatura joaquim barbosa presidencia perguntado sobre lula reiterou candidato condenacao segundo grau nao deve concorrer lamentavel vulgar promiscua assim ministro supremo tribunal federal luiz fux classifica decisao assembleia legislativa rio janeiro soltar deputados estaduais pmdb jorge picciani presidente alerj paulo melo edson albertassi suspeitos formar organizacao criminosa desviar recursos publicos presos determinacao tribunal regional federal regiao prisao revogada sexta decisao maioria deputados estaduais rj entrevista exclusiva bbc brasil fux destaca alerj nao poderia ter decidido sobre prisoes ter consultado judiciario afirmou categoricamente soltura deputados estaduais assembleias certamente sera revista supremo alem rio janeiro assembleias rio grande norte mato grosso usaram decisao stf dar senado palavra final sobre suspensao mandato senador aecio neves embasar soltura deputados estaduais fux inglaterra simposio sobre arbitragem universidade oxford antes evento visitou sede bbc londres conceder entrevista assista integra entrevista video sera presidente tribunal superior eleitoral tse tera tarefa conduzir eleicao presidencial momento crise politica polarizacao conversa bbc brasil ministro elogiou enfaticamente possibilidade stf joaquim barbosa candidatar presidente ano vem figura sociedade admira muitissimo entendo grande nome nesse momento brasil precisa repercussao internacional dirigente exemplo moralidade probidade sabera montar equipe altura proprio conhecimento medida excelente presidente supremo tribunal federal fux tambem defendeu flexibilizar foro privilegiado julgamento caso sera retomado ainda semana corte reiterou referencia lula qualquer candidato condenacao segundo grau deve ser impedido concorrer cargo eletivo base lei ficha limpa brasil nao aceita candidato ficha suja afirmou lula ja condenacao primeiro grau ha duvidas sobre poderia candidatar presidencia amparado eventual decisao liminar provisoria caso condenado tambem segunda instancia bbc brasil rio janeiro vive situacao extremamente dificil policia federal diz havia organizacao criminosa legislativo executivo tribunal contas desviar recursos publicos senhor ve decisao alerj derrubar prisao presidente assembleia deputados luiz fux entendo decisao lamentavel decorrente interpretacao incorreta feita razao decisao supremo tribunal federal dar senado poder rever medidas cautelares contra aecio neves apertada maioria portanto entendo tese dessa decisao vai voltar plenario basearam nessa decisao entender deputados estaduais mesmas imunidades congressistas federais entretanto caso federal provocacao judiciario assembleias estaduais estao utilizando maneira vulgar promiscua decisao supremo provocacao relacao judiciario decisao lamentavel desprestigia poder judiciario gera sensacao impunidade certamente sera revista supremo tribunal federal bbc brasil entao nao direito rever decisao tribunal regional federal fux modo ver deveria ter havido provocacao previa poder judiciario ministerio publico inclusive ja ingressou acao anular deliberacao assembleia rio janeiro bbc decisoes senado alerj nao dao impressao judiciario poder fraco legislativo pode tudo constituicao estabelece ate denuncia competencia poder judiciario entao poder judiciario nao precisaria autorizacao nenhuma congresso assembleias determinar medidas cautelares modo ver decisao supremo incorreta restou proferida maioria essencia decisao incorreta bbc brasil senhor vai ser presidente tse eleicao ate agora cenario incerto deputado jair bolsonaro despontando candidato lula querendo concorrer risco condenacao segunda instancia psdb candidato definido muitos investigados senhor ve momento opcoes estao surgindo fux entendo eleicoes razao candidaturas postas semelhanca outras eleicoes serao questionadas quer porque candidatos problemas judiciais quer porque partidos veio beligerante tentar inserir candidatos excluir demais brasil sistema eleitoral rigido concerne candidatura regras especificas elegibilidade momento registro capital candidato mostrar ficha limpa brasil nao aceita candidatos ficha suja nao so internamente tambem nao dar mau exemplo cenario internacional bbc brasil entao lula condenacao segundo grau haveria algum argumento juridico permitir concorra fux qualquer presidente qualquer candidatavel qualquer concorrente condenacao segunda instancia recai lei ficha limpa lei instrumentos eventualmente podem ser utilizados liminares suspendendo efeito inelegibilidade vai ser analisado cada caso concreto bbc brasil outro fenomeno sociedade brasileira rejeicao politica partidos tradicionais nesse contexto possiveis candidaturas pessoas nunca experiencia politica comecam aparecer apresentador luciano huck tribunal joaquim barbosa sao exemplos opiniao sobre ascensao nomes bagagem politica fux entendo sociedade sente interior falta representatividade adequada sorte modo ver havera modificacao cenario politico outro lado figura emblematica represente etica moralidade probidade hoje escolha preferida eleitor entretanto pessoas nao governam sozinhas pessoas precisam grandes equipes verificando candidatos denominados outsiders apresentado equipes eficientes ja funcionaram governos anteriores muita qualidade muita eficiencia bbc brasil especificamente falando joaquim barbosa senhor acha chance senhor acha juizes politica fux primeiro lugar ate forca ideologia repugnantes governo juizes ate porque juizes nao podem ter filiacao partidaria ministro joaquim barbosa nao juiz figura sociedade admira muitissimo entendo grande nome nesse momento brasil precisa repercussao internacional dirigente exemplo moralidade probidade sabera montar equipe altura proprio conhecimento medida excelente presidente supremo tribunal federal goza confianca legitima povo grandes companheiros podem formar belissima equipe administrar brasil entendo ate basta ministro joaquim barbosa lancar porque varias personalidades qualidade tecnica administrar brasil vao apresentar oferecer servicos prol brasil bbc brasil independentemente resultado eleitoral claro brasil vive clima divisao grande existe grupo pede claramente volta ditadura militar ha riscos retrocessos democracia fux acho democracia brasil hoje absolutamente sedimentada nao ha possibilidade reversao figura candidato bolsonaro significa reacao ambiente politico nocivo assistindo nao significa necessariamente vamos proceder regressao estado democratico direito alcancamos vier vai ter adaptar novos principios ideario bbc brasil lula bolsonaro ja estao claramente campanha lula comecou fazer caravanas bolsonaro divulgou videos senhor acha desse clima campanha antecipada fux legislacao relacao propaganda flexibilizada exige caracterizar propaganda antecipada pedido explicito voto realmente absurdo tse nao vai apreciar questoes propaganda estritamente apegada letra lei verificarmos propaganda antecipada apesar qualquer dissimulacao vamos punir conforme lei autoriza tse nao vai ser leniente qualquer ilicito eleitoral bbc primeira instancia reus lava jato condenados ate agora supremo ritmo diferente ate agora nao condenacao discrepancia nao ideia reu beneficia minimo ganha tempo julgado supremo ha diferenca importante varas primeira instancia so fazem sao varas especializadas crimes organizacoes criminosas supremo jurisdicao sobre todo territorio nacional julgamentos causas ha questoes familia direito penal direito civil supremo mil processos julgar vara crime organizado profere sentencas mes maximo cada ministro proferir minimo mil decisoes mes qualquer maneira razao competencia supremo inclusive vai ser revista relacao foro privilegiado posso assegurar nenhum desses casos lava jato prescrevera bbc brasil momento rever foro privilegiado fux momento rever foro privilegiado porque processos sobem descem conforme cargo exercido acusado entao comete infracao comum torna deputado processo sobe perde mandato processo desce volta concorrer processo sobe sobe desce acaba gerando prescricao sensacao impunidade regra constitucional certamente sera interpretada ja quase maioria votos sentido so ficam supremo casos daqueles candidatos exercicio mandato cujo delito sido praticado durante mandato bbc brasil ultimos anos questoes sensiveis contexto brasileiro aborto fetos anencefalos casamento homoafetivo decididas supremo nao congresso alias sido assim varios paises america latina chegado tambem momento stf dar palavra final sobre descriminalizacao aborto fux impressao algumas questoes sao judicializadas porque parlamento nao quer pagar preco social tomar decisao adequada verdade lugar proprio decidir sobre descriminalizacao aborto parlamento nao supremo tribunal federal parlamento expertise solucao supremo principalmente porque ha desacordo moral razoavel sociedade representa sociedade hoje ambito poderes legislativo casa povo bbc brasil gente ve congresso movimento oposto discussao projeto proibir aborto todos casos colocando constituicao vida deve ser protegida desde concepcao fazer dissonancia fux entendo problema saude publica sociedade decidir meio representantes agora judiciario pode vir ser provocado sobre questao entao momento oportuno vou manifestar bbc legalizacao consumo comercio drogas senhor posicao sobre fux questao supremo prestes decidir ja sombra materia vai ser chancelada supremo menos descriminalizacao uso maconha supremo vai chancelar questao comercializacao tambem importante porque segundo cientistas politicos sociologos afirmam golpe certeiro contra trafico tragedias sociedade enquanto debatendo descriminalizacao uso posteriormente vamos debater possibilidade comercio regular droga assim acontece uruguai outros paises bbc brasil governo fez mudancas regras trabalhistas propoe reforma previdencia enquanto alguns juizes recebem supersalarios ha gama penduricalhos remuneracao judiciario nao deveria dar contribruicao esforco ajuste fiscal fux acho judiciario dar cota sacrificio nesse momento presente momento cnj conselho nacional justica fazendo afericao desses supersalarios impor cortes ressalvando hipoteses propria lei organica magistratura estabelece indenizacao juiza gestante ter direito servidoras publicas gestantes juizes receber mesma coisa servidores juizes ferias exemplo judiciario nao pode ser exemplo desigualem relacao servidores publicos porque juizes tambem prestam servicos bbc brasil penduricalhos acabam engordando salarios fux penduricalhos sao absolutamente inaceitaveis vai chegar momento cnj vai cortar totalmente penduricalhos vezes sao transmitidos penduricalhos indenizacoes juizes fazem jus ha bastante tempo sao pagas parceladamente bbc brasil juizes so falam autos hoje entanto pessoas sabem supremo sao ministros ha transmissao tempo real julgamentos lado ha transparencia outro lado magistrados estao submetidos pressoes eventualmente prejudica isencao decisoes fux brasil unico pais tv justica nenhum pais mundo transmite julgamento agora supremo decide questoes subjetivas sao processos pessoas fisicas juridicas decide questoes objetivas envolvem questoes morais razoes publicas descriminalizacao drogas aborto judiciario deve ouvir populacao nessas questoes nao pode ser dissonante daquilo povo espera bbc brasil divisao supremo recentemente ministros luis roberto barroso gilmar mendes episodios nao prejudicam imagem supremo ideal corte sempre dialogar antes iniciar julgamento supremo composto homens vem diferentes lugares brasil formacoes ideologicas diferentes divisao ideologica julgamentos demonstra cada pretende fazer entende melhor desavencas sao naturais debaixo toga bate coracao homem cada sensacoes motivacoes bbc brasil senhor ve modo divergencias estao sendo manifestadas forma agressiva inclusive ministros questionando etica moral colegas\n"
          ]
        },
        {
          "output_type": "execute_result",
          "data": {
            "text/plain": [
              "<tf.Tensor: shape=(1, 4229, 128), dtype=float32, numpy=\n",
              "array([[[-0.03684732,  0.04135654, -0.00758588, ..., -0.00584275,\n",
              "         -0.00530457,  0.03908917],\n",
              "        [ 0.04011988, -0.04461941,  0.00848202, ..., -0.01348932,\n",
              "          0.01206582,  0.02791141],\n",
              "        [-0.00603864, -0.01655811,  0.02500397, ..., -0.00442842,\n",
              "         -0.01402735, -0.03863328],\n",
              "        ...,\n",
              "        [ 0.02284677,  0.03437961,  0.00976177, ..., -0.00103981,\n",
              "          0.04044895, -0.02518202],\n",
              "        [ 0.02284677,  0.03437961,  0.00976177, ..., -0.00103981,\n",
              "          0.04044895, -0.02518202],\n",
              "        [ 0.02284677,  0.03437961,  0.00976177, ..., -0.00103981,\n",
              "          0.04044895, -0.02518202]]], dtype=float32)>"
            ]
          },
          "metadata": {},
          "execution_count": 19
        }
      ]
    },
    {
      "cell_type": "markdown",
      "source": [
        "## Funções"
      ],
      "metadata": {
        "id": "b7nnAvmThjIz"
      }
    },
    {
      "cell_type": "code",
      "source": [
        "def grafico_historico_por_iteracao(historico):\n",
        "\n",
        "    for chave in historico.history.keys():\n",
        "        sns.lineplot(data=historico.history[chave], label=chave)\n",
        "\n",
        "    plt.title('Histórico por iteração')\n",
        "    plt.xlabel('Iteração')\n",
        "    plt.ylabel('')\n",
        "\n",
        "    plt.legend(frameon=True, facecolor='white')\n",
        "    plt.show()\n",
        "\n",
        "def avaliar_modelo(validacao, previsao, rotulos=None, cmap='summer_r'):\n",
        "    print(classification_report(validacao, previsao, target_names=rotulos))\n",
        "\n",
        "    ConfusionMatrixDisplay.from_predictions(validacao, previsao, display_labels=rotulos, xticks_rotation='vertical', cmap=cmap)\n",
        "    plt.grid(False)\n",
        "\n",
        "    relatorio = classification_report(validacao, previsao, target_names=rotulos, output_dict=True)\n",
        "\n",
        "    return {'acuracia': relatorio['accuracy'],\n",
        "            'precisao': relatorio['weighted avg']['precision'],\n",
        "            'revocacao': relatorio['weighted avg']['recall'],\n",
        "            'pontuacao-f1': relatorio['weighted avg']['f1-score']}\n",
        "\n",
        "def dados_modelo(indice):\n",
        "    avaliacoes[indice] = modelos[indice].evaluate(X_test, y_test)\n",
        "    probabilidades[indice] = modelos[indice].predict(X_test)\n",
        "    previsoes[indice] = tf.squeeze(tf.round(probabilidades[indice]))\n",
        "    relatorios[indice] = avaliar_modelo(y_test, previsoes[indice])"
      ],
      "metadata": {
        "id": "iF2u_9W53ElZ"
      },
      "execution_count": 20,
      "outputs": []
    },
    {
      "cell_type": "markdown",
      "source": [
        "## Modelos"
      ],
      "metadata": {
        "id": "mTCYJ9qh6mwM"
      }
    },
    {
      "cell_type": "code",
      "source": [
        "modelos = [None] * MAXIMO_MODELOS\n",
        "\n",
        "avaliacoes     = [None] * MAXIMO_MODELOS\n",
        "probabilidades = [None] * MAXIMO_MODELOS\n",
        "previsoes      = [None] * MAXIMO_MODELOS\n",
        "relatorios     = [None] * MAXIMO_MODELOS\n",
        "\n",
        "historicos = [None] * MAXIMO_MODELOS\n",
        "\n",
        "modelo_numero = 0"
      ],
      "metadata": {
        "id": "4IKLqWHk6oTZ"
      },
      "execution_count": 21,
      "outputs": []
    },
    {
      "cell_type": "markdown",
      "source": [
        "### Modelo 0: Naive Bayes com codificador TF-IDF (baseline)"
      ],
      "metadata": {
        "id": "CwCPrDtF-xiP"
      }
    },
    {
      "cell_type": "code",
      "source": [
        "modelo_nome = f'modelo_{modelo_numero}_naive_bayes'\n",
        "\n",
        "modelos[modelo_numero] = Pipeline([('tdidf', TfidfVectorizer()),\n",
        "                                   ('clf', MultinomialNB())]) # clf = classifier\n",
        "\n",
        "modelos[modelo_numero].fit(X_train, y_train)"
      ],
      "metadata": {
        "colab": {
          "base_uri": "https://localhost:8080/",
          "height": 126
        },
        "id": "IsdpXM36-2pj",
        "outputId": "8ade3f28-e690-4999-f274-4cd4cbb6eb69"
      },
      "execution_count": 22,
      "outputs": [
        {
          "output_type": "execute_result",
          "data": {
            "text/plain": [
              "Pipeline(steps=[('tdidf', TfidfVectorizer()), ('clf', MultinomialNB())])"
            ],
            "text/html": [
              "<style>#sk-container-id-1 {color: black;background-color: white;}#sk-container-id-1 pre{padding: 0;}#sk-container-id-1 div.sk-toggleable {background-color: white;}#sk-container-id-1 label.sk-toggleable__label {cursor: pointer;display: block;width: 100%;margin-bottom: 0;padding: 0.3em;box-sizing: border-box;text-align: center;}#sk-container-id-1 label.sk-toggleable__label-arrow:before {content: \"▸\";float: left;margin-right: 0.25em;color: #696969;}#sk-container-id-1 label.sk-toggleable__label-arrow:hover:before {color: black;}#sk-container-id-1 div.sk-estimator:hover label.sk-toggleable__label-arrow:before {color: black;}#sk-container-id-1 div.sk-toggleable__content {max-height: 0;max-width: 0;overflow: hidden;text-align: left;background-color: #f0f8ff;}#sk-container-id-1 div.sk-toggleable__content pre {margin: 0.2em;color: black;border-radius: 0.25em;background-color: #f0f8ff;}#sk-container-id-1 input.sk-toggleable__control:checked~div.sk-toggleable__content {max-height: 200px;max-width: 100%;overflow: auto;}#sk-container-id-1 input.sk-toggleable__control:checked~label.sk-toggleable__label-arrow:before {content: \"▾\";}#sk-container-id-1 div.sk-estimator input.sk-toggleable__control:checked~label.sk-toggleable__label {background-color: #d4ebff;}#sk-container-id-1 div.sk-label input.sk-toggleable__control:checked~label.sk-toggleable__label {background-color: #d4ebff;}#sk-container-id-1 input.sk-hidden--visually {border: 0;clip: rect(1px 1px 1px 1px);clip: rect(1px, 1px, 1px, 1px);height: 1px;margin: -1px;overflow: hidden;padding: 0;position: absolute;width: 1px;}#sk-container-id-1 div.sk-estimator {font-family: monospace;background-color: #f0f8ff;border: 1px dotted black;border-radius: 0.25em;box-sizing: border-box;margin-bottom: 0.5em;}#sk-container-id-1 div.sk-estimator:hover {background-color: #d4ebff;}#sk-container-id-1 div.sk-parallel-item::after {content: \"\";width: 100%;border-bottom: 1px solid gray;flex-grow: 1;}#sk-container-id-1 div.sk-label:hover label.sk-toggleable__label {background-color: #d4ebff;}#sk-container-id-1 div.sk-serial::before {content: \"\";position: absolute;border-left: 1px solid gray;box-sizing: border-box;top: 0;bottom: 0;left: 50%;z-index: 0;}#sk-container-id-1 div.sk-serial {display: flex;flex-direction: column;align-items: center;background-color: white;padding-right: 0.2em;padding-left: 0.2em;position: relative;}#sk-container-id-1 div.sk-item {position: relative;z-index: 1;}#sk-container-id-1 div.sk-parallel {display: flex;align-items: stretch;justify-content: center;background-color: white;position: relative;}#sk-container-id-1 div.sk-item::before, #sk-container-id-1 div.sk-parallel-item::before {content: \"\";position: absolute;border-left: 1px solid gray;box-sizing: border-box;top: 0;bottom: 0;left: 50%;z-index: -1;}#sk-container-id-1 div.sk-parallel-item {display: flex;flex-direction: column;z-index: 1;position: relative;background-color: white;}#sk-container-id-1 div.sk-parallel-item:first-child::after {align-self: flex-end;width: 50%;}#sk-container-id-1 div.sk-parallel-item:last-child::after {align-self: flex-start;width: 50%;}#sk-container-id-1 div.sk-parallel-item:only-child::after {width: 0;}#sk-container-id-1 div.sk-dashed-wrapped {border: 1px dashed gray;margin: 0 0.4em 0.5em 0.4em;box-sizing: border-box;padding-bottom: 0.4em;background-color: white;}#sk-container-id-1 div.sk-label label {font-family: monospace;font-weight: bold;display: inline-block;line-height: 1.2em;}#sk-container-id-1 div.sk-label-container {text-align: center;}#sk-container-id-1 div.sk-container {/* jupyter's `normalize.less` sets `[hidden] { display: none; }` but bootstrap.min.css set `[hidden] { display: none !important; }` so we also need the `!important` here to be able to override the default hidden behavior on the sphinx rendered scikit-learn.org. See: https://github.com/scikit-learn/scikit-learn/issues/21755 */display: inline-block !important;position: relative;}#sk-container-id-1 div.sk-text-repr-fallback {display: none;}</style><div id=\"sk-container-id-1\" class=\"sk-top-container\"><div class=\"sk-text-repr-fallback\"><pre>Pipeline(steps=[(&#x27;tdidf&#x27;, TfidfVectorizer()), (&#x27;clf&#x27;, MultinomialNB())])</pre><b>In a Jupyter environment, please rerun this cell to show the HTML representation or trust the notebook. <br />On GitHub, the HTML representation is unable to render, please try loading this page with nbviewer.org.</b></div><div class=\"sk-container\" hidden><div class=\"sk-item sk-dashed-wrapped\"><div class=\"sk-label-container\"><div class=\"sk-label sk-toggleable\"><input class=\"sk-toggleable__control sk-hidden--visually\" id=\"sk-estimator-id-1\" type=\"checkbox\" ><label for=\"sk-estimator-id-1\" class=\"sk-toggleable__label sk-toggleable__label-arrow\">Pipeline</label><div class=\"sk-toggleable__content\"><pre>Pipeline(steps=[(&#x27;tdidf&#x27;, TfidfVectorizer()), (&#x27;clf&#x27;, MultinomialNB())])</pre></div></div></div><div class=\"sk-serial\"><div class=\"sk-item\"><div class=\"sk-estimator sk-toggleable\"><input class=\"sk-toggleable__control sk-hidden--visually\" id=\"sk-estimator-id-2\" type=\"checkbox\" ><label for=\"sk-estimator-id-2\" class=\"sk-toggleable__label sk-toggleable__label-arrow\">TfidfVectorizer</label><div class=\"sk-toggleable__content\"><pre>TfidfVectorizer()</pre></div></div></div><div class=\"sk-item\"><div class=\"sk-estimator sk-toggleable\"><input class=\"sk-toggleable__control sk-hidden--visually\" id=\"sk-estimator-id-3\" type=\"checkbox\" ><label for=\"sk-estimator-id-3\" class=\"sk-toggleable__label sk-toggleable__label-arrow\">MultinomialNB</label><div class=\"sk-toggleable__content\"><pre>MultinomialNB()</pre></div></div></div></div></div></div></div>"
            ]
          },
          "metadata": {},
          "execution_count": 22
        }
      ]
    },
    {
      "cell_type": "code",
      "source": [
        "previsoes[modelo_numero] = modelos[modelo_numero].predict(X_test)"
      ],
      "metadata": {
        "id": "k6SE2imuPkjT"
      },
      "execution_count": 23,
      "outputs": []
    },
    {
      "cell_type": "code",
      "source": [
        "relatorios[modelo_numero] = avaliar_modelo(y_test, previsoes[modelo_numero])"
      ],
      "metadata": {
        "colab": {
          "base_uri": "https://localhost:8080/",
          "height": 616
        },
        "id": "HWjqL6NYPuWL",
        "outputId": "417f4f87-de9c-4c96-baae-d2422f6c9d16"
      },
      "execution_count": 24,
      "outputs": [
        {
          "output_type": "stream",
          "name": "stdout",
          "text": [
            "              precision    recall  f1-score   support\n",
            "\n",
            "           0       0.99      0.22      0.36       741\n",
            "           1       0.55      1.00      0.71       699\n",
            "\n",
            "    accuracy                           0.60      1440\n",
            "   macro avg       0.77      0.61      0.53      1440\n",
            "weighted avg       0.77      0.60      0.53      1440\n",
            "\n"
          ]
        },
        {
          "output_type": "display_data",
          "data": {
            "text/plain": [
              "<Figure size 800x500 with 2 Axes>"
            ],
            "image/png": "[encoded data removed]"
          },
          "metadata": {}
        }
      ]
    },
    {
      "cell_type": "code",
      "source": [
        "relatorios[modelo_numero]"
      ],
      "metadata": {
        "colab": {
          "base_uri": "https://localhost:8080/"
        },
        "id": "WGwVb_YwIhgA",
        "outputId": "65ccba11-abe5-487e-b073-ad086ab0f662"
      },
      "execution_count": 25,
      "outputs": [
        {
          "output_type": "execute_result",
          "data": {
            "text/plain": [
              "{'acuracia': 0.5972222222222222,\n",
              " 'precisao': 0.7737070707070706,\n",
              " 'revocacao': 0.5972222222222222,\n",
              " 'pontuacao-f1': 0.5279508332382786}"
            ]
          },
          "metadata": {},
          "execution_count": 25
        }
      ]
    },
    {
      "cell_type": "markdown",
      "source": [
        "### Modelo 1: Denso"
      ],
      "metadata": {
        "id": "src09mbeuhsw"
      }
    },
    {
      "cell_type": "code",
      "source": [
        "modelo_numero += 1\n",
        "\n",
        "modelo_nome = f'modelo_{modelo_numero}_denso'\n",
        "\n",
        "entradas = Input(shape=ENTRADA_FORMATO, dtype=ENTRADA_TIPO, name='camada_entrada')\n",
        "\n",
        "camadas = vetorizador(entradas)\n",
        "camadas = incorporador(camadas)\n",
        "camadas = GlobalMaxPool1D(name='agrupamento_maximo_global')(camadas)\n",
        "\n",
        "saidas = Dense(1, activation=ATIVACAO_SAIDA, name='camada_saida')(camadas)\n",
        "\n",
        "modelos[modelo_numero] = Model(inputs=entradas, outputs=saidas, name=modelo_nome)\n",
        "\n",
        "modelos[modelo_numero].compile(loss=PERDA,\n",
        "                               optimizer=Adam(learning_rate=APRENDIZADO),\n",
        "                               metrics=METRICAS)\n",
        "\n",
        "historicos[modelo_numero] = modelos[1].fit(x=X_train,\n",
        "                                           y=y_train,\n",
        "                                           batch_size=NUCLEO_TAMANHO,\n",
        "                                           epochs=ITERACOES,\n",
        "                                           validation_data=(X_test, y_test),\n",
        "                                           verbose=1)"
      ],
      "metadata": {
        "colab": {
          "base_uri": "https://localhost:8080/"
        },
        "id": "clIH5flW_uUO",
        "outputId": "4e861f87-0901-4106-81ab-42ef75a853c7"
      },
      "execution_count": 28,
      "outputs": [
        {
          "output_type": "stream",
          "name": "stdout",
          "text": [
            "Epoch 1/5\n",
            "90/90 [==============================] - 25s 256ms/step - loss: 0.5991 - accuracy: 0.6276 - val_loss: 0.5229 - val_accuracy: 0.8542\n",
            "Epoch 2/5\n",
            "90/90 [==============================] - 20s 226ms/step - loss: 0.4246 - accuracy: 0.9391 - val_loss: 0.3705 - val_accuracy: 0.9521\n",
            "Epoch 3/5\n",
            "90/90 [==============================] - 20s 218ms/step - loss: 0.2881 - accuracy: 0.9602 - val_loss: 0.2648 - val_accuracy: 0.9549\n",
            "Epoch 4/5\n",
            "90/90 [==============================] - 25s 280ms/step - loss: 0.2007 - accuracy: 0.9661 - val_loss: 0.2038 - val_accuracy: 0.9556\n",
            "Epoch 5/5\n",
            "90/90 [==============================] - 27s 297ms/step - loss: 0.1499 - accuracy: 0.9693 - val_loss: 0.1704 - val_accuracy: 0.9597\n"
          ]
        }
      ]
    },
    {
      "cell_type": "code",
      "source": [
        "grafico_historico_por_iteracao(historicos[modelo_numero])"
      ],
      "metadata": {
        "colab": {
          "base_uri": "https://localhost:8080/",
          "height": 488
        },
        "id": "wnxjZyqDE2EZ",
        "outputId": "018445f9-c6f3-4c49-d6c8-f90fad732f08"
      },
      "execution_count": 29,
      "outputs": [
        {
          "output_type": "display_data",
          "data": {
            "text/plain": [
              "<Figure size 800x500 with 1 Axes>"
            ],
            "image/png": "[encoded data removed]"
          },
          "metadata": {}
        }
      ]
    },
    {
      "cell_type": "code",
      "source": [
        "dados_modelo(modelo_numero)"
      ],
      "metadata": {
        "colab": {
          "base_uri": "https://localhost:8080/",
          "height": 651
        },
        "id": "itV7bhSHE7Ki",
        "outputId": "648dfd96-dd8e-4c93-f82b-0990d314cc00"
      },
      "execution_count": 30,
      "outputs": [
        {
          "output_type": "stream",
          "name": "stdout",
          "text": [
            "45/45 [==============================] - 0s 8ms/step - loss: 0.1704 - accuracy: 0.9597\n",
            "45/45 [==============================] - 0s 7ms/step\n",
            "              precision    recall  f1-score   support\n",
            "\n",
            "           0       0.96      0.96      0.96       741\n",
            "           1       0.96      0.95      0.96       699\n",
            "\n",
            "    accuracy                           0.96      1440\n",
            "   macro avg       0.96      0.96      0.96      1440\n",
            "weighted avg       0.96      0.96      0.96      1440\n",
            "\n"
          ]
        },
        {
          "output_type": "display_data",
          "data": {
            "text/plain": [
              "<Figure size 800x500 with 2 Axes>"
            ],
            "image/png": "[encoded data removed]"
          },
          "metadata": {}
        }
      ]
    },
    {
      "cell_type": "code",
      "source": [
        "relatorios[modelo_numero]"
      ],
      "metadata": {
        "colab": {
          "base_uri": "https://localhost:8080/"
        },
        "id": "U6eelfBGFaWM",
        "outputId": "7292b7b4-49e5-4897-f740-2ea86bdc5431"
      },
      "execution_count": 31,
      "outputs": [
        {
          "output_type": "execute_result",
          "data": {
            "text/plain": [
              "{'acuracia': 0.9597222222222223,\n",
              " 'precisao': 0.9597443888106539,\n",
              " 'revocacao': 0.9597222222222223,\n",
              " 'pontuacao-f1': 0.9597166218637992}"
            ]
          },
          "metadata": {},
          "execution_count": 31
        }
      ]
    },
    {
      "cell_type": "markdown",
      "source": [
        "## Comparar modelos"
      ],
      "metadata": {
        "id": "n7n2p3ZBPuKA"
      }
    },
    {
      "cell_type": "code",
      "source": [
        "comparacao = pd.DataFrame([r for r in relatorios if r is not None])\n",
        "comparacao = comparacao.reset_index().melt(id_vars='index').rename(columns=str.title)"
      ],
      "metadata": {
        "id": "EE4iA_hhRdx3"
      },
      "execution_count": 34,
      "outputs": []
    },
    {
      "cell_type": "code",
      "source": [
        "sns.barplot(data=comparacao, x='Index', y='Value', hue='Variable', palette='summer_r')\n",
        "\n",
        "plt.ylim(0.75, 1.0)\n",
        "\n",
        "plt.title('Medidas de avaliação dos modelos')\n",
        "plt.xlabel('Modelos')\n",
        "plt.ylabel('Valor')\n",
        "\n",
        "plt.legend(loc=(1.03, 0.76));"
      ],
      "metadata": {
        "colab": {
          "base_uri": "https://localhost:8080/",
          "height": 487
        },
        "id": "XweHcfObUtPn",
        "outputId": "1197fc2e-2283-4807-afab-1c1386c4ee44"
      },
      "execution_count": 36,
      "outputs": [
        {
          "output_type": "display_data",
          "data": {
            "text/plain": [
              "<Figure size 800x500 with 1 Axes>"
            ],
            "image/png": "[encoded data removed]"
          },
          "metadata": {}
        }
      ]
    },
    {
      "cell_type": "code",
      "source": [],
      "metadata": {
        "id": "-M_3H_VvR0vT"
      },
      "execution_count": null,
      "outputs": []
    }
  ]
}