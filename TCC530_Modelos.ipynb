{
  "nbformat": 4,
  "nbformat_minor": 0,
  "metadata": {
    "colab": {
      "provenance": [],
      "toc_visible": true,
      "gpuType": "T4",
      "authorship_tag": "ABX9TyOgW+tc2YmMLsbvzxEWUcef",
      "include_colab_link": true
    },
    "kernelspec": {
      "name": "python3",
      "display_name": "Python 3"
    },
    "language_info": {
      "name": "python"
    },
    "accelerator": "GPU"
  },
  "cells": [
    {
      "cell_type": "markdown",
      "metadata": {
        "id": "view-in-github",
        "colab_type": "text"
      },
      "source": [
        "<a href=\"https://colab.research.google.com/github/flohmannjr/TCC530/blob/main/TCC530_Modelos.ipynb\" target=\"_parent\"><img src=\"https://colab.research.google.com/assets/colab-badge.svg\" alt=\"Open In Colab\"/></a>"
      ]
    },
    {
      "cell_type": "markdown",
      "source": [
        "# TCC530 - Modelos"
      ],
      "metadata": {
        "id": "sM5NtvKd2t6r"
      }
    },
    {
      "cell_type": "markdown",
      "source": [
        "## Importações de bibliotecas"
      ],
      "metadata": {
        "id": "WqEilYWShIy9"
      }
    },
    {
      "cell_type": "code",
      "source": [
        "import numpy as np\n",
        "import pandas as pd\n",
        "\n",
        "import matplotlib.pyplot as plt\n",
        "import seaborn as sns\n",
        "\n",
        "import tensorflow as tf\n",
        "import tensorflow_hub as hub\n",
        "\n",
        "from tensorflow.keras import Model, Sequential\n",
        "from tensorflow.keras.optimizers import Adam\n",
        "\n",
        "from tensorflow.keras.layers import Embedding, TextVectorization\n",
        "from tensorflow.keras.layers import Bidirectional, Concatenate, Conv1D, Dense\n",
        "from tensorflow.keras.layers import Dropout, GlobalMaxPool1D, Input, LSTM\n",
        "\n",
        "from tensorflow.keras.preprocessing.text import Tokenizer\n",
        "from tensorflow.keras.preprocessing.sequence import pad_sequences\n",
        "\n",
        "from sklearn.feature_extraction.text import TfidfVectorizer\n",
        "from sklearn.naive_bayes import MultinomialNB\n",
        "from sklearn.pipeline import Pipeline\n",
        "\n",
        "from sklearn.metrics import classification_report, ConfusionMatrixDisplay\n",
        "from sklearn.model_selection import train_test_split"
      ],
      "metadata": {
        "id": "MySX__30hTdj"
      },
      "execution_count": 1,
      "outputs": []
    },
    {
      "cell_type": "code",
      "source": [
        "# Necessário para o modelo Transformer\n",
        "!pip install -U \"tensorflow-text==2.14.*\"\n",
        "import tensorflow_text as tf_text"
      ],
      "metadata": {
        "id": "68a-ynv-i2Ct",
        "colab": {
          "base_uri": "https://localhost:8080/"
        },
        "outputId": "79574534-4e9e-49f5-dad9-5c7e043386a2"
      },
      "execution_count": 2,
      "outputs": [
        {
          "output_type": "stream",
          "name": "stdout",
          "text": [
            "Requirement already satisfied: tensorflow-text==2.14.* in /usr/local/lib/python3.10/dist-packages (2.14.0)\n",
            "Requirement already satisfied: tensorflow-hub>=0.13.0 in /usr/local/lib/python3.10/dist-packages (from tensorflow-text==2.14.*) (0.15.0)\n",
            "Requirement already satisfied: tensorflow<2.15,>=2.14.0 in /usr/local/lib/python3.10/dist-packages (from tensorflow-text==2.14.*) (2.14.0)\n",
            "Requirement already satisfied: absl-py>=1.0.0 in /usr/local/lib/python3.10/dist-packages (from tensorflow<2.15,>=2.14.0->tensorflow-text==2.14.*) (1.4.0)\n",
            "Requirement already satisfied: astunparse>=1.6.0 in /usr/local/lib/python3.10/dist-packages (from tensorflow<2.15,>=2.14.0->tensorflow-text==2.14.*) (1.6.3)\n",
            "Requirement already satisfied: flatbuffers>=23.5.26 in /usr/local/lib/python3.10/dist-packages (from tensorflow<2.15,>=2.14.0->tensorflow-text==2.14.*) (23.5.26)\n",
            "Requirement already satisfied: gast!=0.5.0,!=0.5.1,!=0.5.2,>=0.2.1 in /usr/local/lib/python3.10/dist-packages (from tensorflow<2.15,>=2.14.0->tensorflow-text==2.14.*) (0.5.4)\n",
            "Requirement already satisfied: google-pasta>=0.1.1 in /usr/local/lib/python3.10/dist-packages (from tensorflow<2.15,>=2.14.0->tensorflow-text==2.14.*) (0.2.0)\n",
            "Requirement already satisfied: h5py>=2.9.0 in /usr/local/lib/python3.10/dist-packages (from tensorflow<2.15,>=2.14.0->tensorflow-text==2.14.*) (3.9.0)\n",
            "Requirement already satisfied: libclang>=13.0.0 in /usr/local/lib/python3.10/dist-packages (from tensorflow<2.15,>=2.14.0->tensorflow-text==2.14.*) (16.0.6)\n",
            "Requirement already satisfied: ml-dtypes==0.2.0 in /usr/local/lib/python3.10/dist-packages (from tensorflow<2.15,>=2.14.0->tensorflow-text==2.14.*) (0.2.0)\n",
            "Requirement already satisfied: numpy>=1.23.5 in /usr/local/lib/python3.10/dist-packages (from tensorflow<2.15,>=2.14.0->tensorflow-text==2.14.*) (1.23.5)\n",
            "Requirement already satisfied: opt-einsum>=2.3.2 in /usr/local/lib/python3.10/dist-packages (from tensorflow<2.15,>=2.14.0->tensorflow-text==2.14.*) (3.3.0)\n",
            "Requirement already satisfied: packaging in /usr/local/lib/python3.10/dist-packages (from tensorflow<2.15,>=2.14.0->tensorflow-text==2.14.*) (23.2)\n",
            "Requirement already satisfied: protobuf!=4.21.0,!=4.21.1,!=4.21.2,!=4.21.3,!=4.21.4,!=4.21.5,<5.0.0dev,>=3.20.3 in /usr/local/lib/python3.10/dist-packages (from tensorflow<2.15,>=2.14.0->tensorflow-text==2.14.*) (3.20.3)\n",
            "Requirement already satisfied: setuptools in /usr/local/lib/python3.10/dist-packages (from tensorflow<2.15,>=2.14.0->tensorflow-text==2.14.*) (67.7.2)\n",
            "Requirement already satisfied: six>=1.12.0 in /usr/local/lib/python3.10/dist-packages (from tensorflow<2.15,>=2.14.0->tensorflow-text==2.14.*) (1.16.0)\n",
            "Requirement already satisfied: termcolor>=1.1.0 in /usr/local/lib/python3.10/dist-packages (from tensorflow<2.15,>=2.14.0->tensorflow-text==2.14.*) (2.3.0)\n",
            "Requirement already satisfied: typing-extensions>=3.6.6 in /usr/local/lib/python3.10/dist-packages (from tensorflow<2.15,>=2.14.0->tensorflow-text==2.14.*) (4.5.0)\n",
            "Requirement already satisfied: wrapt<1.15,>=1.11.0 in /usr/local/lib/python3.10/dist-packages (from tensorflow<2.15,>=2.14.0->tensorflow-text==2.14.*) (1.14.1)\n",
            "Requirement already satisfied: tensorflow-io-gcs-filesystem>=0.23.1 in /usr/local/lib/python3.10/dist-packages (from tensorflow<2.15,>=2.14.0->tensorflow-text==2.14.*) (0.34.0)\n",
            "Requirement already satisfied: grpcio<2.0,>=1.24.3 in /usr/local/lib/python3.10/dist-packages (from tensorflow<2.15,>=2.14.0->tensorflow-text==2.14.*) (1.59.0)\n",
            "Requirement already satisfied: tensorboard<2.15,>=2.14 in /usr/local/lib/python3.10/dist-packages (from tensorflow<2.15,>=2.14.0->tensorflow-text==2.14.*) (2.14.1)\n",
            "Requirement already satisfied: tensorflow-estimator<2.15,>=2.14.0 in /usr/local/lib/python3.10/dist-packages (from tensorflow<2.15,>=2.14.0->tensorflow-text==2.14.*) (2.14.0)\n",
            "Requirement already satisfied: keras<2.15,>=2.14.0 in /usr/local/lib/python3.10/dist-packages (from tensorflow<2.15,>=2.14.0->tensorflow-text==2.14.*) (2.14.0)\n",
            "Requirement already satisfied: wheel<1.0,>=0.23.0 in /usr/local/lib/python3.10/dist-packages (from astunparse>=1.6.0->tensorflow<2.15,>=2.14.0->tensorflow-text==2.14.*) (0.41.2)\n",
            "Requirement already satisfied: google-auth<3,>=1.6.3 in /usr/local/lib/python3.10/dist-packages (from tensorboard<2.15,>=2.14->tensorflow<2.15,>=2.14.0->tensorflow-text==2.14.*) (2.17.3)\n",
            "Requirement already satisfied: google-auth-oauthlib<1.1,>=0.5 in /usr/local/lib/python3.10/dist-packages (from tensorboard<2.15,>=2.14->tensorflow<2.15,>=2.14.0->tensorflow-text==2.14.*) (1.0.0)\n",
            "Requirement already satisfied: markdown>=2.6.8 in /usr/local/lib/python3.10/dist-packages (from tensorboard<2.15,>=2.14->tensorflow<2.15,>=2.14.0->tensorflow-text==2.14.*) (3.5)\n",
            "Requirement already satisfied: requests<3,>=2.21.0 in /usr/local/lib/python3.10/dist-packages (from tensorboard<2.15,>=2.14->tensorflow<2.15,>=2.14.0->tensorflow-text==2.14.*) (2.31.0)\n",
            "Requirement already satisfied: tensorboard-data-server<0.8.0,>=0.7.0 in /usr/local/lib/python3.10/dist-packages (from tensorboard<2.15,>=2.14->tensorflow<2.15,>=2.14.0->tensorflow-text==2.14.*) (0.7.2)\n",
            "Requirement already satisfied: werkzeug>=1.0.1 in /usr/local/lib/python3.10/dist-packages (from tensorboard<2.15,>=2.14->tensorflow<2.15,>=2.14.0->tensorflow-text==2.14.*) (3.0.1)\n",
            "Requirement already satisfied: cachetools<6.0,>=2.0.0 in /usr/local/lib/python3.10/dist-packages (from google-auth<3,>=1.6.3->tensorboard<2.15,>=2.14->tensorflow<2.15,>=2.14.0->tensorflow-text==2.14.*) (5.3.2)\n",
            "Requirement already satisfied: pyasn1-modules>=0.2.1 in /usr/local/lib/python3.10/dist-packages (from google-auth<3,>=1.6.3->tensorboard<2.15,>=2.14->tensorflow<2.15,>=2.14.0->tensorflow-text==2.14.*) (0.3.0)\n",
            "Requirement already satisfied: rsa<5,>=3.1.4 in /usr/local/lib/python3.10/dist-packages (from google-auth<3,>=1.6.3->tensorboard<2.15,>=2.14->tensorflow<2.15,>=2.14.0->tensorflow-text==2.14.*) (4.9)\n",
            "Requirement already satisfied: requests-oauthlib>=0.7.0 in /usr/local/lib/python3.10/dist-packages (from google-auth-oauthlib<1.1,>=0.5->tensorboard<2.15,>=2.14->tensorflow<2.15,>=2.14.0->tensorflow-text==2.14.*) (1.3.1)\n",
            "Requirement already satisfied: charset-normalizer<4,>=2 in /usr/local/lib/python3.10/dist-packages (from requests<3,>=2.21.0->tensorboard<2.15,>=2.14->tensorflow<2.15,>=2.14.0->tensorflow-text==2.14.*) (3.3.1)\n",
            "Requirement already satisfied: idna<4,>=2.5 in /usr/local/lib/python3.10/dist-packages (from requests<3,>=2.21.0->tensorboard<2.15,>=2.14->tensorflow<2.15,>=2.14.0->tensorflow-text==2.14.*) (3.4)\n",
            "Requirement already satisfied: urllib3<3,>=1.21.1 in /usr/local/lib/python3.10/dist-packages (from requests<3,>=2.21.0->tensorboard<2.15,>=2.14->tensorflow<2.15,>=2.14.0->tensorflow-text==2.14.*) (2.0.7)\n",
            "Requirement already satisfied: certifi>=2017.4.17 in /usr/local/lib/python3.10/dist-packages (from requests<3,>=2.21.0->tensorboard<2.15,>=2.14->tensorflow<2.15,>=2.14.0->tensorflow-text==2.14.*) (2023.7.22)\n",
            "Requirement already satisfied: MarkupSafe>=2.1.1 in /usr/local/lib/python3.10/dist-packages (from werkzeug>=1.0.1->tensorboard<2.15,>=2.14->tensorflow<2.15,>=2.14.0->tensorflow-text==2.14.*) (2.1.3)\n",
            "Requirement already satisfied: pyasn1<0.6.0,>=0.4.6 in /usr/local/lib/python3.10/dist-packages (from pyasn1-modules>=0.2.1->google-auth<3,>=1.6.3->tensorboard<2.15,>=2.14->tensorflow<2.15,>=2.14.0->tensorflow-text==2.14.*) (0.5.0)\n",
            "Requirement already satisfied: oauthlib>=3.0.0 in /usr/local/lib/python3.10/dist-packages (from requests-oauthlib>=0.7.0->google-auth-oauthlib<1.1,>=0.5->tensorboard<2.15,>=2.14->tensorflow<2.15,>=2.14.0->tensorflow-text==2.14.*) (3.2.2)\n"
          ]
        }
      ]
    },
    {
      "cell_type": "markdown",
      "source": [
        "## Configurações"
      ],
      "metadata": {
        "id": "aI2iohUhhZST"
      }
    },
    {
      "cell_type": "code",
      "source": [
        "# plt.rcParams['figure.figsize'] = [8, 5]\n",
        "plt.rcParams['figure.figsize'] = [3, 2]\n",
        "plt.rcParams['figure.dpi'] = 100\n",
        "\n",
        "sns.set_style(\"darkgrid\")"
      ],
      "metadata": {
        "id": "Rp5BDfYGhdyK"
      },
      "execution_count": 3,
      "outputs": []
    },
    {
      "cell_type": "markdown",
      "source": [
        "### Constantes"
      ],
      "metadata": {
        "id": "2mYrOLyyo3rE"
      }
    },
    {
      "cell_type": "code",
      "source": [
        "SEMENTE = 42\n",
        "\n",
        "LIMITE_DICIONARIO = 90000\n",
        "\n",
        "MAXIMO_MODELOS = 7\n",
        "\n",
        "ENTRADA_FORMATO = (1,)\n",
        "ENTRADA_TIPO = tf.string\n",
        "\n",
        "ATIVACAO_CNN = 'relu'\n",
        "ATIVACAO_RNN = 'tanh'\n",
        "ATIVACAO_SAIDA = 'sigmoid'\n",
        "\n",
        "ESPACO_SAIDA = 256\n",
        "NUCLEO_CONV = 5\n",
        "NUCLEO_SAIDA = 32\n",
        "PREENCHIMENTO = 'same'\n",
        "\n",
        "ABANDONOS = 0.1\n",
        "\n",
        "PERDA       = 'binary_crossentropy'\n",
        "OTIMIZADOR  = Adam\n",
        "APRENDIZADO = 0.0005\n",
        "METRICAS    = ['accuracy']\n",
        "\n",
        "ITERACOES = 3\n",
        "ITERACOES_MLP = 20"
      ],
      "metadata": {
        "id": "YdFyHpMEo5vV"
      },
      "execution_count": 4,
      "outputs": []
    },
    {
      "cell_type": "markdown",
      "source": [
        "## Dados"
      ],
      "metadata": {
        "id": "rMCA_Vc9hn4L"
      }
    },
    {
      "cell_type": "code",
      "source": [
        "dados = pd.read_csv('https://raw.githubusercontent.com/Edvandro-Nogueira/TCC-Univesp/main/dados_noticias.csv',\n",
        "                    sep=';')"
      ],
      "metadata": {
        "id": "Out5sfUOhsN7"
      },
      "execution_count": 5,
      "outputs": []
    },
    {
      "cell_type": "code",
      "source": [
        "dados = dados[dados['noticias'].notna()]"
      ],
      "metadata": {
        "id": "gxNHPtPltb8_"
      },
      "execution_count": 6,
      "outputs": []
    },
    {
      "cell_type": "code",
      "source": [
        "dados['palavras'] = dados['noticias'].str.split().str.len()"
      ],
      "metadata": {
        "id": "gqqkFfL6zqXh"
      },
      "execution_count": 7,
      "outputs": []
    },
    {
      "cell_type": "code",
      "source": [
        "dados.info()"
      ],
      "metadata": {
        "id": "3ocxy4-Kkt6n",
        "colab": {
          "base_uri": "https://localhost:8080/"
        },
        "outputId": "3001b531-282c-4aea-c542-44106956ba1c"
      },
      "execution_count": 8,
      "outputs": [
        {
          "output_type": "stream",
          "name": "stdout",
          "text": [
            "<class 'pandas.core.frame.DataFrame'>\n",
            "Int64Index: 10738 entries, 0 to 10757\n",
            "Data columns (total 3 columns):\n",
            " #   Column    Non-Null Count  Dtype \n",
            "---  ------    --------------  ----- \n",
            " 0   noticias  10738 non-null  object\n",
            " 1   classe    10738 non-null  int64 \n",
            " 2   palavras  10738 non-null  int64 \n",
            "dtypes: int64(2), object(1)\n",
            "memory usage: 335.6+ KB\n"
          ]
        }
      ]
    },
    {
      "cell_type": "code",
      "source": [
        "dados"
      ],
      "metadata": {
        "id": "CQvBmtAkldfJ",
        "colab": {
          "base_uri": "https://localhost:8080/",
          "height": 424
        },
        "outputId": "93df7ca4-0b77-4417-858d-85526e3d9d7c"
      },
      "execution_count": 9,
      "outputs": [
        {
          "output_type": "execute_result",
          "data": {
            "text/plain": [
              "                                                noticias  classe  palavras\n",
              "0      katia abreu diz vai colocar expulsao moldura n...       0        99\n",
              "1      ray peita bolsonaro conservador fake entrevist...       0       143\n",
              "2      reinaldo azevedo desmascarado policia federal ...       0       153\n",
              "3      relatorio assustador bndes mostra dinheiro pub...       0       339\n",
              "4      radialista americano fala sobre pt vendem ilus...       0        66\n",
              "...                                                  ...     ...       ...\n",
              "10753  Aug 26, 2020 — É falso que neurocientista brit...       0        50\n",
              "10754  19/08/2020 - 17:45 / Atualizado em 19/08/2020 ...       0        59\n",
              "10755  Jun 6, 2020 — No Reino Unido, 80% da população...       0        56\n",
              "10756  Estudo do pesquisador Karl Friston conclui que...       0        14\n",
              "10757  ... estudos sobre o COVID-19 concluiu que a ma...       0        42\n",
              "\n",
              "[10738 rows x 3 columns]"
            ],
            "text/html": [
              "\n",
              "  <div id=\"df-33baa308-0661-42e5-b993-eccddb61d9f6\" class=\"colab-df-container\">\n",
              "    <div>\n",
              "<style scoped>\n",
              "    .dataframe tbody tr th:only-of-type {\n",
              "        vertical-align: middle;\n",
              "    }\n",
              "\n",
              "    .dataframe tbody tr th {\n",
              "        vertical-align: top;\n",
              "    }\n",
              "\n",
              "    .dataframe thead th {\n",
              "        text-align: right;\n",
              "    }\n",
              "</style>\n",
              "<table border=\"1\" class=\"dataframe\">\n",
              "  <thead>\n",
              "    <tr style=\"text-align: right;\">\n",
              "      <th></th>\n",
              "      <th>noticias</th>\n",
              "      <th>classe</th>\n",
              "      <th>palavras</th>\n",
              "    </tr>\n",
              "  </thead>\n",
              "  <tbody>\n",
              "    <tr>\n",
              "      <th>0</th>\n",
              "      <td>katia abreu diz vai colocar expulsao moldura n...</td>\n",
              "      <td>0</td>\n",
              "      <td>99</td>\n",
              "    </tr>\n",
              "    <tr>\n",
              "      <th>1</th>\n",
              "      <td>ray peita bolsonaro conservador fake entrevist...</td>\n",
              "      <td>0</td>\n",
              "      <td>143</td>\n",
              "    </tr>\n",
              "    <tr>\n",
              "      <th>2</th>\n",
              "      <td>reinaldo azevedo desmascarado policia federal ...</td>\n",
              "      <td>0</td>\n",
              "      <td>153</td>\n",
              "    </tr>\n",
              "    <tr>\n",
              "      <th>3</th>\n",
              "      <td>relatorio assustador bndes mostra dinheiro pub...</td>\n",
              "      <td>0</td>\n",
              "      <td>339</td>\n",
              "    </tr>\n",
              "    <tr>\n",
              "      <th>4</th>\n",
              "      <td>radialista americano fala sobre pt vendem ilus...</td>\n",
              "      <td>0</td>\n",
              "      <td>66</td>\n",
              "    </tr>\n",
              "    <tr>\n",
              "      <th>...</th>\n",
              "      <td>...</td>\n",
              "      <td>...</td>\n",
              "      <td>...</td>\n",
              "    </tr>\n",
              "    <tr>\n",
              "      <th>10753</th>\n",
              "      <td>Aug 26, 2020 — É falso que neurocientista brit...</td>\n",
              "      <td>0</td>\n",
              "      <td>50</td>\n",
              "    </tr>\n",
              "    <tr>\n",
              "      <th>10754</th>\n",
              "      <td>19/08/2020 - 17:45 / Atualizado em 19/08/2020 ...</td>\n",
              "      <td>0</td>\n",
              "      <td>59</td>\n",
              "    </tr>\n",
              "    <tr>\n",
              "      <th>10755</th>\n",
              "      <td>Jun 6, 2020 — No Reino Unido, 80% da população...</td>\n",
              "      <td>0</td>\n",
              "      <td>56</td>\n",
              "    </tr>\n",
              "    <tr>\n",
              "      <th>10756</th>\n",
              "      <td>Estudo do pesquisador Karl Friston conclui que...</td>\n",
              "      <td>0</td>\n",
              "      <td>14</td>\n",
              "    </tr>\n",
              "    <tr>\n",
              "      <th>10757</th>\n",
              "      <td>... estudos sobre o COVID-19 concluiu que a ma...</td>\n",
              "      <td>0</td>\n",
              "      <td>42</td>\n",
              "    </tr>\n",
              "  </tbody>\n",
              "</table>\n",
              "<p>10738 rows × 3 columns</p>\n",
              "</div>\n",
              "    <div class=\"colab-df-buttons\">\n",
              "\n",
              "  <div class=\"colab-df-container\">\n",
              "    <button class=\"colab-df-convert\" onclick=\"convertToInteractive('df-33baa308-0661-42e5-b993-eccddb61d9f6')\"\n",
              "            title=\"Convert this dataframe to an interactive table.\"\n",
              "            style=\"display:none;\">\n",
              "\n",
              "  <svg xmlns=\"http://www.w3.org/2000/svg\" height=\"24px\" viewBox=\"0 -960 960 960\">\n",
              "    <path d=\"M120-120v-720h720v720H120Zm60-500h600v-160H180v160Zm220 220h160v-160H400v160Zm0 220h160v-160H400v160ZM180-400h160v-160H180v160Zm440 0h160v-160H620v160ZM180-180h160v-160H180v160Zm440 0h160v-160H620v160Z\"/>\n",
              "  </svg>\n",
              "    </button>\n",
              "\n",
              "  <style>\n",
              "    .colab-df-container {\n",
              "      display:flex;\n",
              "      gap: 12px;\n",
              "    }\n",
              "\n",
              "    .colab-df-convert {\n",
              "      background-color: #E8F0FE;\n",
              "      border: none;\n",
              "      border-radius: 50%;\n",
              "      cursor: pointer;\n",
              "      display: none;\n",
              "      fill: #1967D2;\n",
              "      height: 32px;\n",
              "      padding: 0 0 0 0;\n",
              "      width: 32px;\n",
              "    }\n",
              "\n",
              "    .colab-df-convert:hover {\n",
              "      background-color: #E2EBFA;\n",
              "      box-shadow: 0px 1px 2px rgba(60, 64, 67, 0.3), 0px 1px 3px 1px rgba(60, 64, 67, 0.15);\n",
              "      fill: #174EA6;\n",
              "    }\n",
              "\n",
              "    .colab-df-buttons div {\n",
              "      margin-bottom: 4px;\n",
              "    }\n",
              "\n",
              "    [theme=dark] .colab-df-convert {\n",
              "      background-color: #3B4455;\n",
              "      fill: #D2E3FC;\n",
              "    }\n",
              "\n",
              "    [theme=dark] .colab-df-convert:hover {\n",
              "      background-color: #434B5C;\n",
              "      box-shadow: 0px 1px 3px 1px rgba(0, 0, 0, 0.15);\n",
              "      filter: drop-shadow(0px 1px 2px rgba(0, 0, 0, 0.3));\n",
              "      fill: #FFFFFF;\n",
              "    }\n",
              "  </style>\n",
              "\n",
              "    <script>\n",
              "      const buttonEl =\n",
              "        document.querySelector('#df-33baa308-0661-42e5-b993-eccddb61d9f6 button.colab-df-convert');\n",
              "      buttonEl.style.display =\n",
              "        google.colab.kernel.accessAllowed ? 'block' : 'none';\n",
              "\n",
              "      async function convertToInteractive(key) {\n",
              "        const element = document.querySelector('#df-33baa308-0661-42e5-b993-eccddb61d9f6');\n",
              "        const dataTable =\n",
              "          await google.colab.kernel.invokeFunction('convertToInteractive',\n",
              "                                                    [key], {});\n",
              "        if (!dataTable) return;\n",
              "\n",
              "        const docLinkHtml = 'Like what you see? Visit the ' +\n",
              "          '<a target=\"_blank\" href=https://colab.research.google.com/notebooks/data_table.ipynb>data table notebook</a>'\n",
              "          + ' to learn more about interactive tables.';\n",
              "        element.innerHTML = '';\n",
              "        dataTable['output_type'] = 'display_data';\n",
              "        await google.colab.output.renderOutput(dataTable, element);\n",
              "        const docLink = document.createElement('div');\n",
              "        docLink.innerHTML = docLinkHtml;\n",
              "        element.appendChild(docLink);\n",
              "      }\n",
              "    </script>\n",
              "  </div>\n",
              "\n",
              "\n",
              "<div id=\"df-b6451b9b-05dd-4c6c-af48-985caabdd39b\">\n",
              "  <button class=\"colab-df-quickchart\" onclick=\"quickchart('df-b6451b9b-05dd-4c6c-af48-985caabdd39b')\"\n",
              "            title=\"Suggest charts.\"\n",
              "            style=\"display:none;\">\n",
              "\n",
              "<svg xmlns=\"http://www.w3.org/2000/svg\" height=\"24px\"viewBox=\"0 0 24 24\"\n",
              "     width=\"24px\">\n",
              "    <g>\n",
              "        <path d=\"M19 3H5c-1.1 0-2 .9-2 2v14c0 1.1.9 2 2 2h14c1.1 0 2-.9 2-2V5c0-1.1-.9-2-2-2zM9 17H7v-7h2v7zm4 0h-2V7h2v10zm4 0h-2v-4h2v4z\"/>\n",
              "    </g>\n",
              "</svg>\n",
              "  </button>\n",
              "\n",
              "<style>\n",
              "  .colab-df-quickchart {\n",
              "      --bg-color: #E8F0FE;\n",
              "      --fill-color: #1967D2;\n",
              "      --hover-bg-color: #E2EBFA;\n",
              "      --hover-fill-color: #174EA6;\n",
              "      --disabled-fill-color: #AAA;\n",
              "      --disabled-bg-color: #DDD;\n",
              "  }\n",
              "\n",
              "  [theme=dark] .colab-df-quickchart {\n",
              "      --bg-color: #3B4455;\n",
              "      --fill-color: #D2E3FC;\n",
              "      --hover-bg-color: #434B5C;\n",
              "      --hover-fill-color: #FFFFFF;\n",
              "      --disabled-bg-color: #3B4455;\n",
              "      --disabled-fill-color: #666;\n",
              "  }\n",
              "\n",
              "  .colab-df-quickchart {\n",
              "    background-color: var(--bg-color);\n",
              "    border: none;\n",
              "    border-radius: 50%;\n",
              "    cursor: pointer;\n",
              "    display: none;\n",
              "    fill: var(--fill-color);\n",
              "    height: 32px;\n",
              "    padding: 0;\n",
              "    width: 32px;\n",
              "  }\n",
              "\n",
              "  .colab-df-quickchart:hover {\n",
              "    background-color: var(--hover-bg-color);\n",
              "    box-shadow: 0 1px 2px rgba(60, 64, 67, 0.3), 0 1px 3px 1px rgba(60, 64, 67, 0.15);\n",
              "    fill: var(--button-hover-fill-color);\n",
              "  }\n",
              "\n",
              "  .colab-df-quickchart-complete:disabled,\n",
              "  .colab-df-quickchart-complete:disabled:hover {\n",
              "    background-color: var(--disabled-bg-color);\n",
              "    fill: var(--disabled-fill-color);\n",
              "    box-shadow: none;\n",
              "  }\n",
              "\n",
              "  .colab-df-spinner {\n",
              "    border: 2px solid var(--fill-color);\n",
              "    border-color: transparent;\n",
              "    border-bottom-color: var(--fill-color);\n",
              "    animation:\n",
              "      spin 1s steps(1) infinite;\n",
              "  }\n",
              "\n",
              "  @keyframes spin {\n",
              "    0% {\n",
              "      border-color: transparent;\n",
              "      border-bottom-color: var(--fill-color);\n",
              "      border-left-color: var(--fill-color);\n",
              "    }\n",
              "    20% {\n",
              "      border-color: transparent;\n",
              "      border-left-color: var(--fill-color);\n",
              "      border-top-color: var(--fill-color);\n",
              "    }\n",
              "    30% {\n",
              "      border-color: transparent;\n",
              "      border-left-color: var(--fill-color);\n",
              "      border-top-color: var(--fill-color);\n",
              "      border-right-color: var(--fill-color);\n",
              "    }\n",
              "    40% {\n",
              "      border-color: transparent;\n",
              "      border-right-color: var(--fill-color);\n",
              "      border-top-color: var(--fill-color);\n",
              "    }\n",
              "    60% {\n",
              "      border-color: transparent;\n",
              "      border-right-color: var(--fill-color);\n",
              "    }\n",
              "    80% {\n",
              "      border-color: transparent;\n",
              "      border-right-color: var(--fill-color);\n",
              "      border-bottom-color: var(--fill-color);\n",
              "    }\n",
              "    90% {\n",
              "      border-color: transparent;\n",
              "      border-bottom-color: var(--fill-color);\n",
              "    }\n",
              "  }\n",
              "</style>\n",
              "\n",
              "  <script>\n",
              "    async function quickchart(key) {\n",
              "      const quickchartButtonEl =\n",
              "        document.querySelector('#' + key + ' button');\n",
              "      quickchartButtonEl.disabled = true;  // To prevent multiple clicks.\n",
              "      quickchartButtonEl.classList.add('colab-df-spinner');\n",
              "      try {\n",
              "        const charts = await google.colab.kernel.invokeFunction(\n",
              "            'suggestCharts', [key], {});\n",
              "      } catch (error) {\n",
              "        console.error('Error during call to suggestCharts:', error);\n",
              "      }\n",
              "      quickchartButtonEl.classList.remove('colab-df-spinner');\n",
              "      quickchartButtonEl.classList.add('colab-df-quickchart-complete');\n",
              "    }\n",
              "    (() => {\n",
              "      let quickchartButtonEl =\n",
              "        document.querySelector('#df-b6451b9b-05dd-4c6c-af48-985caabdd39b button');\n",
              "      quickchartButtonEl.style.display =\n",
              "        google.colab.kernel.accessAllowed ? 'block' : 'none';\n",
              "    })();\n",
              "  </script>\n",
              "</div>\n",
              "    </div>\n",
              "  </div>\n"
            ]
          },
          "metadata": {},
          "execution_count": 9
        }
      ]
    },
    {
      "cell_type": "code",
      "source": [
        "dados['classe'].value_counts()"
      ],
      "metadata": {
        "id": "pC9WtRCSpJBy",
        "colab": {
          "base_uri": "https://localhost:8080/"
        },
        "outputId": "6aec1483-f18a-480e-8b4f-c5ce854dcb2a"
      },
      "execution_count": 10,
      "outputs": [
        {
          "output_type": "execute_result",
          "data": {
            "text/plain": [
              "0    6128\n",
              "1    4610\n",
              "Name: classe, dtype: int64"
            ]
          },
          "metadata": {},
          "execution_count": 10
        }
      ]
    },
    {
      "cell_type": "code",
      "source": [
        "X = dados['noticias']\n",
        "y = dados['classe']\n",
        "\n",
        "X_train_val, X_test, y_train_val, y_test = train_test_split(X, y, test_size=0.1, random_state=SEMENTE, stratify=y)\n",
        "\n",
        "X_train, X_val, y_train, y_val = train_test_split(X_train_val, y_train_val, test_size=0.2, random_state=SEMENTE, stratify=y_train_val)"
      ],
      "metadata": {
        "id": "pzkpp9G6pe37"
      },
      "execution_count": 11,
      "outputs": []
    },
    {
      "cell_type": "markdown",
      "source": [
        "### Converter texto em números"
      ],
      "metadata": {
        "id": "XFJvbZGNF1wQ"
      }
    },
    {
      "cell_type": "code",
      "source": [
        "# Quantidade máxima de palavras em 99% das notícias.\n",
        "palavras_99 = int(np.percentile(dados['palavras'], 99))\n",
        "\n",
        "print(f\"Máximo.: {np.max(dados['palavras'])}\")\n",
        "print(f\"Média..: {np.mean(dados['palavras'])}\")\n",
        "print(f\"99%....: {palavras_99}\")"
      ],
      "metadata": {
        "id": "wPDlsCsUzj7h",
        "colab": {
          "base_uri": "https://localhost:8080/"
        },
        "outputId": "6b6d45d0-eac6-4e97-b284-a74ed8e7bc15"
      },
      "execution_count": 12,
      "outputs": [
        {
          "output_type": "stream",
          "name": "stdout",
          "text": [
            "Máximo.: 4229\n",
            "Média..: 256.1611100763643\n",
            "99%....: 1453\n"
          ]
        }
      ]
    },
    {
      "cell_type": "code",
      "source": [
        "tamanho_texto = palavras_99"
      ],
      "metadata": {
        "id": "v6QIJ4SZz4rn"
      },
      "execution_count": 13,
      "outputs": []
    },
    {
      "cell_type": "markdown",
      "source": [
        "#### Vetorização (Vectorization)"
      ],
      "metadata": {
        "id": "MZMY-KhKPbON"
      }
    },
    {
      "cell_type": "code",
      "source": [
        "vetorizador = TextVectorization(max_tokens=LIMITE_DICIONARIO,               # (Default: None) Máximo de tokens (palavras) no dicionário.\n",
        "                                standardize='lower_and_strip_punctuation',  # (Default) Texto em caixa baixa e retira caracteres especiais.\n",
        "                                split='whitespace',                         # (Default) Separador de tokens.\n",
        "                                ngrams=None,                                # (Default) Tokens por grupo. (None = não agrupar tokens.)\n",
        "                                output_mode='int',                          # (Default) Como mapear tokens para números.\n",
        "                                output_sequence_length=tamanho_texto)       # (Default: None) Tamanho do texto, completado ou truncado, se necessário. (Válido apenas para 'int'.)"
      ],
      "metadata": {
        "id": "cK8AkY3m4DYF"
      },
      "execution_count": 14,
      "outputs": []
    },
    {
      "cell_type": "code",
      "source": [
        "vetorizador.adapt(X)"
      ],
      "metadata": {
        "id": "Ak3f6OTu7Dfp"
      },
      "execution_count": 15,
      "outputs": []
    },
    {
      "cell_type": "code",
      "source": [
        "vocabulario = vetorizador.get_vocabulary()"
      ],
      "metadata": {
        "id": "TRo6HuAcMLEf"
      },
      "execution_count": 16,
      "outputs": []
    },
    {
      "cell_type": "code",
      "source": [
        "# [UNK] = Desconhecido, fora do limite do dicionário.\n",
        "# len(vocabulario), vocabulario[:10], vocabulario[-10:]"
      ],
      "metadata": {
        "id": "kUN1qXHXNrY-"
      },
      "execution_count": 17,
      "outputs": []
    },
    {
      "cell_type": "markdown",
      "source": [
        "#### Incorporação (Embedding)"
      ],
      "metadata": {
        "id": "aFWb7WPXOnqn"
      }
    },
    {
      "cell_type": "code",
      "source": [
        "incorporador = Embedding(input_dim=LIMITE_DICIONARIO,  # Tamanho do vocabulário de entrada.\n",
        "                         output_dim=256,               # Dimensão do vetor de saída. (Geralmente um múltiplo de 8.)\n",
        "                         input_length=tamanho_texto)   # Tamanho do texto de entrada."
      ],
      "metadata": {
        "id": "LhYEdM7FPqW_"
      },
      "execution_count": 18,
      "outputs": []
    },
    {
      "cell_type": "markdown",
      "source": [
        "## Funções"
      ],
      "metadata": {
        "id": "b7nnAvmThjIz"
      }
    },
    {
      "cell_type": "code",
      "source": [
        "def build_classifier_model(tfhub_handle_encoder, tfhub_handle_preprocess, modelo_nome):\n",
        "    text_input = Input(shape=(), dtype=tf.string, name='text')\n",
        "    preprocessing_layer = hub.KerasLayer(tfhub_handle_preprocess, name='preprocessing')\n",
        "    encoder_inputs = preprocessing_layer(text_input)\n",
        "    encoder = hub.KerasLayer(tfhub_handle_encoder, trainable=True, name='BERT_encoder')\n",
        "    outputs = encoder(encoder_inputs)\n",
        "    net = outputs['pooled_output']\n",
        "    net = Dropout(0.1)(net)\n",
        "    net = Dense(1, activation='sigmoid', name='classifier')(net)\n",
        "    return Model(text_input, net, name=modelos_nome[modelo_numero])\n",
        "\n",
        "def grafico_historico_por_iteracao(historico):\n",
        "\n",
        "    for chave in historico.history.keys():\n",
        "        sns.lineplot(data=historico.history[chave], label=chave)\n",
        "\n",
        "    # plt.title('Histórico por iteração')\n",
        "    plt.xlabel('Iteração')\n",
        "    plt.ylabel('')\n",
        "\n",
        "    plt.legend(frameon=True, fontsize='8', facecolor='white')\n",
        "    plt.show()\n",
        "\n",
        "def avaliar_modelo(validacao, previsao, matriz=True, rotulos=None, cmap='summer_r'):\n",
        "    if(matriz):\n",
        "        print(classification_report(validacao, previsao, target_names=rotulos))\n",
        "\n",
        "        ConfusionMatrixDisplay.from_predictions(validacao, previsao, display_labels=rotulos, cmap=cmap)\n",
        "        plt.grid(False)\n",
        "\n",
        "    relatorio = classification_report(validacao, previsao, target_names=rotulos, output_dict=True)\n",
        "\n",
        "    return {'acurácia': relatorio['accuracy'],\n",
        "            'precisão': relatorio['weighted avg']['precision'],\n",
        "            'revocação': relatorio['weighted avg']['recall'],\n",
        "            'pontuação-f1': relatorio['weighted avg']['f1-score']}\n",
        "\n",
        "def dados_modelo(indice, X_val=X_val):\n",
        "    avaliacoes[indice] = modelos[indice].evaluate(X_val, y_val)\n",
        "    probabilidades[indice] = modelos[indice].predict(X_val)\n",
        "    previsoes[indice] = tf.squeeze(tf.round(probabilidades[indice]))\n",
        "    relatorios[indice] = avaliar_modelo(y_val, previsoes[indice])\n",
        "\n",
        "def teste_modelo(indice, X_test=X_test):\n",
        "    probabilidades[indice] = modelos[indice].predict(X_test)\n",
        "    previsoes[indice] = tf.squeeze(tf.round(probabilidades[indice]))\n",
        "    # relatorios[indice] = avaliar_modelo(y_test, previsoes[indice], False)\n",
        "    relatorios[indice] = avaliar_modelo(y_test, previsoes[indice])"
      ],
      "metadata": {
        "id": "iF2u_9W53ElZ"
      },
      "execution_count": 19,
      "outputs": []
    },
    {
      "cell_type": "markdown",
      "source": [
        "## Modelos"
      ],
      "metadata": {
        "id": "mTCYJ9qh6mwM"
      }
    },
    {
      "cell_type": "code",
      "source": [
        "modelos_nome = [None] * MAXIMO_MODELOS\n",
        "\n",
        "modelos = [None] * MAXIMO_MODELOS\n",
        "\n",
        "avaliacoes     = [None] * MAXIMO_MODELOS\n",
        "probabilidades = [None] * MAXIMO_MODELOS\n",
        "previsoes      = [None] * MAXIMO_MODELOS\n",
        "relatorios     = [None] * MAXIMO_MODELOS\n",
        "\n",
        "historicos = [None] * MAXIMO_MODELOS"
      ],
      "metadata": {
        "id": "4IKLqWHk6oTZ"
      },
      "execution_count": 20,
      "outputs": []
    },
    {
      "cell_type": "markdown",
      "source": [
        "### Modelo 0: Naive Bayes com codificador TF-IDF (baseline)"
      ],
      "metadata": {
        "id": "CwCPrDtF-xiP"
      }
    },
    {
      "cell_type": "code",
      "source": [
        "%%time\n",
        "\n",
        "modelo_numero = 0\n",
        "\n",
        "modelos_nome[modelo_numero] = 'TF-IDF'\n",
        "\n",
        "modelos[modelo_numero] = Pipeline([('tdidf', TfidfVectorizer()),\n",
        "                                   ('clf', MultinomialNB())]) # clf = classifier\n",
        "\n",
        "modelos[modelo_numero].fit(X_train, y_train)"
      ],
      "metadata": {
        "id": "IsdpXM36-2pj",
        "colab": {
          "base_uri": "https://localhost:8080/",
          "height": 161
        },
        "outputId": "e931883c-bbad-477c-cf86-8e3fc1ed246e"
      },
      "execution_count": 21,
      "outputs": [
        {
          "output_type": "stream",
          "name": "stdout",
          "text": [
            "CPU times: user 3.02 s, sys: 45.6 ms, total: 3.06 s\n",
            "Wall time: 4.03 s\n"
          ]
        },
        {
          "output_type": "execute_result",
          "data": {
            "text/plain": [
              "Pipeline(steps=[('tdidf', TfidfVectorizer()), ('clf', MultinomialNB())])"
            ],
            "text/html": [
              "<style>#sk-container-id-1 {color: black;background-color: white;}#sk-container-id-1 pre{padding: 0;}#sk-container-id-1 div.sk-toggleable {background-color: white;}#sk-container-id-1 label.sk-toggleable__label {cursor: pointer;display: block;width: 100%;margin-bottom: 0;padding: 0.3em;box-sizing: border-box;text-align: center;}#sk-container-id-1 label.sk-toggleable__label-arrow:before {content: \"▸\";float: left;margin-right: 0.25em;color: #696969;}#sk-container-id-1 label.sk-toggleable__label-arrow:hover:before {color: black;}#sk-container-id-1 div.sk-estimator:hover label.sk-toggleable__label-arrow:before {color: black;}#sk-container-id-1 div.sk-toggleable__content {max-height: 0;max-width: 0;overflow: hidden;text-align: left;background-color: #f0f8ff;}#sk-container-id-1 div.sk-toggleable__content pre {margin: 0.2em;color: black;border-radius: 0.25em;background-color: #f0f8ff;}#sk-container-id-1 input.sk-toggleable__control:checked~div.sk-toggleable__content {max-height: 200px;max-width: 100%;overflow: auto;}#sk-container-id-1 input.sk-toggleable__control:checked~label.sk-toggleable__label-arrow:before {content: \"▾\";}#sk-container-id-1 div.sk-estimator input.sk-toggleable__control:checked~label.sk-toggleable__label {background-color: #d4ebff;}#sk-container-id-1 div.sk-label input.sk-toggleable__control:checked~label.sk-toggleable__label {background-color: #d4ebff;}#sk-container-id-1 input.sk-hidden--visually {border: 0;clip: rect(1px 1px 1px 1px);clip: rect(1px, 1px, 1px, 1px);height: 1px;margin: -1px;overflow: hidden;padding: 0;position: absolute;width: 1px;}#sk-container-id-1 div.sk-estimator {font-family: monospace;background-color: #f0f8ff;border: 1px dotted black;border-radius: 0.25em;box-sizing: border-box;margin-bottom: 0.5em;}#sk-container-id-1 div.sk-estimator:hover {background-color: #d4ebff;}#sk-container-id-1 div.sk-parallel-item::after {content: \"\";width: 100%;border-bottom: 1px solid gray;flex-grow: 1;}#sk-container-id-1 div.sk-label:hover label.sk-toggleable__label {background-color: #d4ebff;}#sk-container-id-1 div.sk-serial::before {content: \"\";position: absolute;border-left: 1px solid gray;box-sizing: border-box;top: 0;bottom: 0;left: 50%;z-index: 0;}#sk-container-id-1 div.sk-serial {display: flex;flex-direction: column;align-items: center;background-color: white;padding-right: 0.2em;padding-left: 0.2em;position: relative;}#sk-container-id-1 div.sk-item {position: relative;z-index: 1;}#sk-container-id-1 div.sk-parallel {display: flex;align-items: stretch;justify-content: center;background-color: white;position: relative;}#sk-container-id-1 div.sk-item::before, #sk-container-id-1 div.sk-parallel-item::before {content: \"\";position: absolute;border-left: 1px solid gray;box-sizing: border-box;top: 0;bottom: 0;left: 50%;z-index: -1;}#sk-container-id-1 div.sk-parallel-item {display: flex;flex-direction: column;z-index: 1;position: relative;background-color: white;}#sk-container-id-1 div.sk-parallel-item:first-child::after {align-self: flex-end;width: 50%;}#sk-container-id-1 div.sk-parallel-item:last-child::after {align-self: flex-start;width: 50%;}#sk-container-id-1 div.sk-parallel-item:only-child::after {width: 0;}#sk-container-id-1 div.sk-dashed-wrapped {border: 1px dashed gray;margin: 0 0.4em 0.5em 0.4em;box-sizing: border-box;padding-bottom: 0.4em;background-color: white;}#sk-container-id-1 div.sk-label label {font-family: monospace;font-weight: bold;display: inline-block;line-height: 1.2em;}#sk-container-id-1 div.sk-label-container {text-align: center;}#sk-container-id-1 div.sk-container {/* jupyter's `normalize.less` sets `[hidden] { display: none; }` but bootstrap.min.css set `[hidden] { display: none !important; }` so we also need the `!important` here to be able to override the default hidden behavior on the sphinx rendered scikit-learn.org. See: https://github.com/scikit-learn/scikit-learn/issues/21755 */display: inline-block !important;position: relative;}#sk-container-id-1 div.sk-text-repr-fallback {display: none;}</style><div id=\"sk-container-id-1\" class=\"sk-top-container\"><div class=\"sk-text-repr-fallback\"><pre>Pipeline(steps=[(&#x27;tdidf&#x27;, TfidfVectorizer()), (&#x27;clf&#x27;, MultinomialNB())])</pre><b>In a Jupyter environment, please rerun this cell to show the HTML representation or trust the notebook. <br />On GitHub, the HTML representation is unable to render, please try loading this page with nbviewer.org.</b></div><div class=\"sk-container\" hidden><div class=\"sk-item sk-dashed-wrapped\"><div class=\"sk-label-container\"><div class=\"sk-label sk-toggleable\"><input class=\"sk-toggleable__control sk-hidden--visually\" id=\"sk-estimator-id-1\" type=\"checkbox\" ><label for=\"sk-estimator-id-1\" class=\"sk-toggleable__label sk-toggleable__label-arrow\">Pipeline</label><div class=\"sk-toggleable__content\"><pre>Pipeline(steps=[(&#x27;tdidf&#x27;, TfidfVectorizer()), (&#x27;clf&#x27;, MultinomialNB())])</pre></div></div></div><div class=\"sk-serial\"><div class=\"sk-item\"><div class=\"sk-estimator sk-toggleable\"><input class=\"sk-toggleable__control sk-hidden--visually\" id=\"sk-estimator-id-2\" type=\"checkbox\" ><label for=\"sk-estimator-id-2\" class=\"sk-toggleable__label sk-toggleable__label-arrow\">TfidfVectorizer</label><div class=\"sk-toggleable__content\"><pre>TfidfVectorizer()</pre></div></div></div><div class=\"sk-item\"><div class=\"sk-estimator sk-toggleable\"><input class=\"sk-toggleable__control sk-hidden--visually\" id=\"sk-estimator-id-3\" type=\"checkbox\" ><label for=\"sk-estimator-id-3\" class=\"sk-toggleable__label sk-toggleable__label-arrow\">MultinomialNB</label><div class=\"sk-toggleable__content\"><pre>MultinomialNB()</pre></div></div></div></div></div></div></div>"
            ]
          },
          "metadata": {},
          "execution_count": 21
        }
      ]
    },
    {
      "cell_type": "code",
      "source": [
        "previsoes[modelo_numero] = modelos[modelo_numero].predict(X_val)"
      ],
      "metadata": {
        "id": "k6SE2imuPkjT"
      },
      "execution_count": 22,
      "outputs": []
    },
    {
      "cell_type": "code",
      "source": [
        "relatorios[modelo_numero] = avaliar_modelo(y_val, previsoes[modelo_numero])"
      ],
      "metadata": {
        "id": "HWjqL6NYPuWL",
        "colab": {
          "base_uri": "https://localhost:8080/",
          "height": 390
        },
        "outputId": "913c60ec-62fb-48f8-d1d2-aa19951c67e7"
      },
      "execution_count": 23,
      "outputs": [
        {
          "output_type": "stream",
          "name": "stdout",
          "text": [
            "              precision    recall  f1-score   support\n",
            "\n",
            "           0       0.79      0.60      0.68      1103\n",
            "           1       0.60      0.79      0.68       830\n",
            "\n",
            "    accuracy                           0.68      1933\n",
            "   macro avg       0.69      0.69      0.68      1933\n",
            "weighted avg       0.71      0.68      0.68      1933\n",
            "\n"
          ]
        },
        {
          "output_type": "display_data",
          "data": {
            "text/plain": [
              "<Figure size 300x200 with 2 Axes>"
            ],
            "image/png": "[encoded data removed]"
          },
          "metadata": {}
        }
      ]
    },
    {
      "cell_type": "code",
      "source": [
        "relatorios[modelo_numero]"
      ],
      "metadata": {
        "id": "WGwVb_YwIhgA",
        "colab": {
          "base_uri": "https://localhost:8080/"
        },
        "outputId": "c29e3cfe-267f-4489-eb14-fbdaa6affad1"
      },
      "execution_count": 24,
      "outputs": [
        {
          "output_type": "execute_result",
          "data": {
            "text/plain": [
              "{'acurácia': 0.6818416968442835,\n",
              " 'precisão': 0.7076652728288632,\n",
              " 'revocação': 0.6818416968442835,\n",
              " 'pontuação-f1': 0.6821083937915633}"
            ]
          },
          "metadata": {},
          "execution_count": 24
        }
      ]
    },
    {
      "cell_type": "markdown",
      "source": [
        "### Camadas iniciais padronizadas"
      ],
      "metadata": {
        "id": "GCbmaFSrpFje"
      }
    },
    {
      "cell_type": "code",
      "source": [
        "%%time\n",
        "\n",
        "entradas = Input(shape=ENTRADA_FORMATO, dtype=ENTRADA_TIPO, name='camada_entrada')\n",
        "\n",
        "camadas_iniciais = vetorizador(entradas)\n",
        "camadas_iniciais = incorporador(camadas_iniciais)"
      ],
      "metadata": {
        "id": "uL52BE2JpJXI",
        "colab": {
          "base_uri": "https://localhost:8080/"
        },
        "outputId": "d19cd9c5-0894-45af-dc67-37e9b4a10df9"
      },
      "execution_count": 25,
      "outputs": [
        {
          "output_type": "stream",
          "name": "stdout",
          "text": [
            "CPU times: user 69.6 ms, sys: 2.16 ms, total: 71.8 ms\n",
            "Wall time: 122 ms\n"
          ]
        }
      ]
    },
    {
      "cell_type": "markdown",
      "source": [
        "### Modelo 1: MLP"
      ],
      "metadata": {
        "id": "src09mbeuhsw"
      }
    },
    {
      "cell_type": "code",
      "source": [
        "%%time\n",
        "\n",
        "modelo_numero = 1\n",
        "\n",
        "modelos_nome[modelo_numero] = 'MLP'\n",
        "\n",
        "camadas = GlobalMaxPool1D(name='agrupamento_maximo_global')(camadas_iniciais)\n",
        "\n",
        "saidas = Dense(1, activation=ATIVACAO_SAIDA, name='camada_saida')(camadas)\n",
        "\n",
        "modelos[modelo_numero] = Model(inputs=entradas, outputs=saidas, name=modelos_nome[modelo_numero])\n",
        "\n",
        "modelos[modelo_numero].compile(loss=PERDA,\n",
        "                               optimizer=OTIMIZADOR(learning_rate=APRENDIZADO),\n",
        "                               metrics=METRICAS)\n",
        "\n",
        "historicos[modelo_numero] = modelos[modelo_numero].fit(x=X_train,\n",
        "                                                       y=y_train,\n",
        "                                                       batch_size=NUCLEO_SAIDA,\n",
        "                                                       epochs=ITERACOES_MLP,\n",
        "                                                       validation_data=(X_val, y_val),\n",
        "                                                       verbose=1)"
      ],
      "metadata": {
        "id": "clIH5flW_uUO",
        "colab": {
          "base_uri": "https://localhost:8080/"
        },
        "outputId": "d506aa82-09db-4f19-f68b-857b734eae89"
      },
      "execution_count": 26,
      "outputs": [
        {
          "output_type": "stream",
          "name": "stdout",
          "text": [
            "Epoch 1/20\n",
            "242/242 [==============================] - 41s 139ms/step - loss: 0.6283 - accuracy: 0.7858 - val_loss: 0.5507 - val_accuracy: 0.8764\n",
            "Epoch 2/20\n",
            "242/242 [==============================] - 26s 106ms/step - loss: 0.4559 - accuracy: 0.8752 - val_loss: 0.3980 - val_accuracy: 0.8733\n",
            "Epoch 3/20\n",
            "242/242 [==============================] - 23s 94ms/step - loss: 0.3184 - accuracy: 0.8846 - val_loss: 0.3177 - val_accuracy: 0.8774\n",
            "Epoch 4/20\n",
            "242/242 [==============================] - 23s 94ms/step - loss: 0.2316 - accuracy: 0.9131 - val_loss: 0.2726 - val_accuracy: 0.8924\n",
            "Epoch 5/20\n",
            "242/242 [==============================] - 20s 84ms/step - loss: 0.1704 - accuracy: 0.9490 - val_loss: 0.2459 - val_accuracy: 0.9007\n",
            "Epoch 6/20\n",
            "242/242 [==============================] - 17s 71ms/step - loss: 0.1270 - accuracy: 0.9687 - val_loss: 0.2283 - val_accuracy: 0.9058\n",
            "Epoch 7/20\n",
            "242/242 [==============================] - 18s 74ms/step - loss: 0.0959 - accuracy: 0.9811 - val_loss: 0.2171 - val_accuracy: 0.9095\n",
            "Epoch 8/20\n",
            "242/242 [==============================] - 17s 70ms/step - loss: 0.0737 - accuracy: 0.9869 - val_loss: 0.2102 - val_accuracy: 0.9110\n",
            "Epoch 9/20\n",
            "242/242 [==============================] - 15s 61ms/step - loss: 0.0572 - accuracy: 0.9907 - val_loss: 0.2055 - val_accuracy: 0.9167\n",
            "Epoch 10/20\n",
            "242/242 [==============================] - 13s 53ms/step - loss: 0.0452 - accuracy: 0.9929 - val_loss: 0.2025 - val_accuracy: 0.9177\n",
            "Epoch 11/20\n",
            "242/242 [==============================] - 13s 56ms/step - loss: 0.0362 - accuracy: 0.9939 - val_loss: 0.2013 - val_accuracy: 0.9172\n",
            "Epoch 12/20\n",
            "242/242 [==============================] - 14s 57ms/step - loss: 0.0295 - accuracy: 0.9955 - val_loss: 0.2007 - val_accuracy: 0.9167\n",
            "Epoch 13/20\n",
            "242/242 [==============================] - 12s 48ms/step - loss: 0.0242 - accuracy: 0.9960 - val_loss: 0.2007 - val_accuracy: 0.9193\n",
            "Epoch 14/20\n",
            "242/242 [==============================] - 10s 40ms/step - loss: 0.0202 - accuracy: 0.9964 - val_loss: 0.2002 - val_accuracy: 0.9234\n",
            "Epoch 15/20\n",
            "242/242 [==============================] - 10s 43ms/step - loss: 0.0172 - accuracy: 0.9961 - val_loss: 0.2028 - val_accuracy: 0.9219\n",
            "Epoch 16/20\n",
            "242/242 [==============================] - 10s 41ms/step - loss: 0.0148 - accuracy: 0.9966 - val_loss: 0.2036 - val_accuracy: 0.9224\n",
            "Epoch 17/20\n",
            "242/242 [==============================] - 8s 32ms/step - loss: 0.0125 - accuracy: 0.9962 - val_loss: 0.2044 - val_accuracy: 0.9219\n",
            "Epoch 18/20\n",
            "242/242 [==============================] - 9s 35ms/step - loss: 0.0110 - accuracy: 0.9965 - val_loss: 0.2050 - val_accuracy: 0.9229\n",
            "Epoch 19/20\n",
            "242/242 [==============================] - 10s 40ms/step - loss: 0.0097 - accuracy: 0.9969 - val_loss: 0.2061 - val_accuracy: 0.9229\n",
            "Epoch 20/20\n",
            "242/242 [==============================] - 8s 35ms/step - loss: 0.0088 - accuracy: 0.9962 - val_loss: 0.2080 - val_accuracy: 0.9219\n",
            "CPU times: user 5min 1s, sys: 6.81 s, total: 5min 8s\n",
            "Wall time: 5min 15s\n"
          ]
        }
      ]
    },
    {
      "cell_type": "code",
      "source": [
        "grafico_historico_por_iteracao(historicos[modelo_numero])"
      ],
      "metadata": {
        "id": "wnxjZyqDE2EZ",
        "colab": {
          "base_uri": "https://localhost:8080/",
          "height": 234
        },
        "outputId": "772eee0e-a2be-4df1-84e5-f1999c95a5e2"
      },
      "execution_count": 27,
      "outputs": [
        {
          "output_type": "display_data",
          "data": {
            "text/plain": [
              "<Figure size 300x200 with 1 Axes>"
            ],
            "image/png": "[encoded data removed]"
          },
          "metadata": {}
        }
      ]
    },
    {
      "cell_type": "code",
      "source": [
        "dados_modelo(modelo_numero)"
      ],
      "metadata": {
        "id": "itV7bhSHE7Ki",
        "colab": {
          "base_uri": "https://localhost:8080/",
          "height": 425
        },
        "outputId": "532062d0-4d1b-4d35-8737-79cb1840695a"
      },
      "execution_count": 28,
      "outputs": [
        {
          "output_type": "stream",
          "name": "stdout",
          "text": [
            "61/61 [==============================] - 0s 7ms/step - loss: 0.2080 - accuracy: 0.9219\n",
            "61/61 [==============================] - 0s 4ms/step\n",
            "              precision    recall  f1-score   support\n",
            "\n",
            "           0       0.91      0.96      0.93      1103\n",
            "           1       0.94      0.87      0.91       830\n",
            "\n",
            "    accuracy                           0.92      1933\n",
            "   macro avg       0.93      0.92      0.92      1933\n",
            "weighted avg       0.92      0.92      0.92      1933\n",
            "\n"
          ]
        },
        {
          "output_type": "display_data",
          "data": {
            "text/plain": [
              "<Figure size 300x200 with 2 Axes>"
            ],
            "image/png": "[encoded data removed]"
          },
          "metadata": {}
        }
      ]
    },
    {
      "cell_type": "code",
      "source": [
        "relatorios[modelo_numero]"
      ],
      "metadata": {
        "id": "U6eelfBGFaWM",
        "colab": {
          "base_uri": "https://localhost:8080/"
        },
        "outputId": "b88e9e9c-a65f-489e-9d30-7a45d6d2a6ef"
      },
      "execution_count": 29,
      "outputs": [
        {
          "output_type": "execute_result",
          "data": {
            "text/plain": [
              "{'acurácia': 0.9218830832902225,\n",
              " 'precisão': 0.9231022654947546,\n",
              " 'revocação': 0.9218830832902225,\n",
              " 'pontuação-f1': 0.9214092808113417}"
            ]
          },
          "metadata": {},
          "execution_count": 29
        }
      ]
    },
    {
      "cell_type": "markdown",
      "source": [
        "### Modelo 2: CNN"
      ],
      "metadata": {
        "id": "pZrwPL5Jf_Bz"
      }
    },
    {
      "cell_type": "code",
      "source": [
        "%%time\n",
        "\n",
        "modelo_numero = 2\n",
        "\n",
        "modelos_nome[modelo_numero] = 'RNC'\n",
        "\n",
        "camadas = Conv1D(filters=ESPACO_SAIDA,\n",
        "                 kernel_size=NUCLEO_CONV,\n",
        "                 activation=ATIVACAO_CNN,\n",
        "                 padding=PREENCHIMENTO,\n",
        "                 name='camada_convulacional')(camadas_iniciais)\n",
        "\n",
        "camadas = GlobalMaxPool1D(name='agrupamento_maximo_global')(camadas)\n",
        "\n",
        "saidas = Dense(1, activation=ATIVACAO_SAIDA, name='camada_saida')(camadas)\n",
        "\n",
        "modelos[modelo_numero] = Model(inputs=entradas, outputs=saidas, name=modelos_nome[modelo_numero])\n",
        "\n",
        "modelos[modelo_numero].compile(loss=PERDA,\n",
        "                               optimizer=OTIMIZADOR(learning_rate=APRENDIZADO),\n",
        "                               metrics=METRICAS)\n",
        "\n",
        "historicos[modelo_numero] = modelos[modelo_numero].fit(x=X_train,\n",
        "                                                       y=y_train,\n",
        "                                                       batch_size=NUCLEO_SAIDA,\n",
        "                                                       epochs=ITERACOES,\n",
        "                                                       validation_data=(X_val, y_val),\n",
        "                                                       verbose=1)"
      ],
      "metadata": {
        "id": "ip6n1hcEOGkM",
        "colab": {
          "base_uri": "https://localhost:8080/"
        },
        "outputId": "9035f9af-552f-4b97-8361-3a3c0d5f903c"
      },
      "execution_count": 30,
      "outputs": [
        {
          "output_type": "stream",
          "name": "stdout",
          "text": [
            "Epoch 1/3\n",
            "242/242 [==============================] - 34s 131ms/step - loss: 0.3326 - accuracy: 0.8788 - val_loss: 0.2977 - val_accuracy: 0.8852\n",
            "Epoch 2/3\n",
            "242/242 [==============================] - 30s 123ms/step - loss: 0.0806 - accuracy: 0.9761 - val_loss: 0.2975 - val_accuracy: 0.8872\n",
            "Epoch 3/3\n",
            "242/242 [==============================] - 26s 109ms/step - loss: 0.0178 - accuracy: 0.9960 - val_loss: 0.3590 - val_accuracy: 0.8789\n",
            "CPU times: user 1min 23s, sys: 1.96 s, total: 1min 25s\n",
            "Wall time: 1min 30s\n"
          ]
        }
      ]
    },
    {
      "cell_type": "code",
      "source": [
        "grafico_historico_por_iteracao(historicos[modelo_numero])"
      ],
      "metadata": {
        "id": "z3ORUytGtL2y",
        "colab": {
          "base_uri": "https://localhost:8080/",
          "height": 234
        },
        "outputId": "d83b4a1e-72a1-499e-bdd8-64d9bcead973"
      },
      "execution_count": 31,
      "outputs": [
        {
          "output_type": "display_data",
          "data": {
            "text/plain": [
              "<Figure size 300x200 with 1 Axes>"
            ],
            "image/png": "[encoded data removed]"
          },
          "metadata": {}
        }
      ]
    },
    {
      "cell_type": "code",
      "source": [
        "dados_modelo(modelo_numero)"
      ],
      "metadata": {
        "id": "ZZGmU5JetL2y",
        "colab": {
          "base_uri": "https://localhost:8080/",
          "height": 425
        },
        "outputId": "779b404d-07a7-47d1-fe62-1747294b2a58"
      },
      "execution_count": 32,
      "outputs": [
        {
          "output_type": "stream",
          "name": "stdout",
          "text": [
            "61/61 [==============================] - 1s 12ms/step - loss: 0.3590 - accuracy: 0.8789\n",
            "61/61 [==============================] - 1s 10ms/step\n",
            "              precision    recall  f1-score   support\n",
            "\n",
            "           0       0.93      0.85      0.89      1103\n",
            "           1       0.82      0.91      0.87       830\n",
            "\n",
            "    accuracy                           0.88      1933\n",
            "   macro avg       0.88      0.88      0.88      1933\n",
            "weighted avg       0.88      0.88      0.88      1933\n",
            "\n"
          ]
        },
        {
          "output_type": "display_data",
          "data": {
            "text/plain": [
              "<Figure size 300x200 with 2 Axes>"
            ],
            "image/png": "[encoded data removed]"
          },
          "metadata": {}
        }
      ]
    },
    {
      "cell_type": "code",
      "source": [
        "relatorios[modelo_numero]"
      ],
      "metadata": {
        "id": "p0DyUTG0tL2y",
        "colab": {
          "base_uri": "https://localhost:8080/"
        },
        "outputId": "7e1f076f-75c7-44ec-db09-27b9a5c36ff6"
      },
      "execution_count": 33,
      "outputs": [
        {
          "output_type": "execute_result",
          "data": {
            "text/plain": [
              "{'acurácia': 0.8789446456285567,\n",
              " 'precisão': 0.8836546751985764,\n",
              " 'revocação': 0.8789446456285567,\n",
              " 'pontuação-f1': 0.8794769634668217}"
            ]
          },
          "metadata": {},
          "execution_count": 33
        }
      ]
    },
    {
      "cell_type": "markdown",
      "source": [
        "### Modelo 3: DCNN"
      ],
      "metadata": {
        "id": "GqvjyYECCF8v"
      }
    },
    {
      "cell_type": "code",
      "source": [
        "%%time\n",
        "\n",
        "modelo_numero = 3\n",
        "\n",
        "modelos_nome[modelo_numero] = 'CFN-AI'\n",
        "\n",
        "# Bigram\n",
        "\n",
        "bigram = Conv1D(filters=ESPACO_SAIDA,\n",
        "                kernel_size=2,\n",
        "                activation=ATIVACAO_CNN,\n",
        "                padding=PREENCHIMENTO,\n",
        "                name='camada_bigram')(camadas_iniciais)\n",
        "\n",
        "bigram = GlobalMaxPool1D(name='agrupamento_maximo_bigram')(bigram)\n",
        "\n",
        "# Trigram\n",
        "\n",
        "trigram = Conv1D(filters=ESPACO_SAIDA,\n",
        "                 kernel_size=3,\n",
        "                 activation=ATIVACAO_CNN,\n",
        "                 padding=PREENCHIMENTO,\n",
        "                 name='camada_trigram')(camadas_iniciais)\n",
        "\n",
        "trigram = GlobalMaxPool1D(name='agrupamento_maximo_trigram')(trigram)\n",
        "\n",
        "# Fourgram\n",
        "\n",
        "fourgram = Conv1D(filters=ESPACO_SAIDA,\n",
        "                  kernel_size=4,\n",
        "                  activation=ATIVACAO_CNN,\n",
        "                  padding=PREENCHIMENTO,\n",
        "                  name='camada_fourgram')(camadas_iniciais)\n",
        "\n",
        "fourgram = GlobalMaxPool1D(name='agrupamento_maximo_fourgram')(fourgram)\n",
        "\n",
        "# Concatenação dos ngrams\n",
        "\n",
        "# camadas = tf.concat([bigram, trigram, fourgram], axis=-1)\n",
        "camadas = Concatenate(name=\"camada_concatenacao\")([bigram, trigram, fourgram])\n",
        "\n",
        "# Camada densa\n",
        "\n",
        "camadas = Dense(units=512, activation=ATIVACAO_CNN, name='camada_densa')(camadas)\n",
        "\n",
        "# Camada de abandono\n",
        "\n",
        "camadas = Dropout(rate=ABANDONOS, name='camada_abandono')(camadas)\n",
        "\n",
        "# Camada de saída\n",
        "\n",
        "saidas = Dense(units=1, activation=ATIVACAO_SAIDA, name='camada_saida')(camadas)\n",
        "\n",
        "modelos[modelo_numero] = Model(inputs=entradas, outputs=saidas, name=modelos_nome[modelo_numero])\n",
        "\n",
        "modelos[modelo_numero].compile(loss=PERDA,\n",
        "                               optimizer=OTIMIZADOR(learning_rate=APRENDIZADO),\n",
        "                               metrics=METRICAS)\n",
        "\n",
        "historicos[modelo_numero] = modelos[modelo_numero].fit(x=X_train,\n",
        "                                                       y=y_train,\n",
        "                                                       batch_size=NUCLEO_SAIDA,\n",
        "                                                       epochs=ITERACOES,\n",
        "                                                       validation_data=(X_val, y_val),\n",
        "                                                       verbose=1)"
      ],
      "metadata": {
        "id": "5kBHK37gCF8w",
        "colab": {
          "base_uri": "https://localhost:8080/"
        },
        "outputId": "93b63502-a308-4d43-a1ec-bc3d37fe3f96"
      },
      "execution_count": 34,
      "outputs": [
        {
          "output_type": "stream",
          "name": "stdout",
          "text": [
            "Epoch 1/3\n",
            "242/242 [==============================] - 40s 150ms/step - loss: 0.0632 - accuracy: 0.9778 - val_loss: 0.5108 - val_accuracy: 0.8686\n",
            "Epoch 2/3\n",
            "242/242 [==============================] - 33s 136ms/step - loss: 0.0088 - accuracy: 0.9962 - val_loss: 0.7344 - val_accuracy: 0.8479\n",
            "Epoch 3/3\n",
            "242/242 [==============================] - 31s 129ms/step - loss: 0.0062 - accuracy: 0.9973 - val_loss: 0.5780 - val_accuracy: 0.8702\n",
            "CPU times: user 1min 28s, sys: 2.05 s, total: 1min 30s\n",
            "Wall time: 1min 44s\n"
          ]
        }
      ]
    },
    {
      "cell_type": "code",
      "source": [
        "grafico_historico_por_iteracao(historicos[modelo_numero])"
      ],
      "metadata": {
        "id": "nUAhjw-VCF8w",
        "colab": {
          "base_uri": "https://localhost:8080/",
          "height": 234
        },
        "outputId": "448e6f2d-9b8f-4c25-ce9a-8cc1bb870b38"
      },
      "execution_count": 35,
      "outputs": [
        {
          "output_type": "display_data",
          "data": {
            "text/plain": [
              "<Figure size 300x200 with 1 Axes>"
            ],
            "image/png": "[encoded data removed]"
          },
          "metadata": {}
        }
      ]
    },
    {
      "cell_type": "code",
      "source": [
        "dados_modelo(modelo_numero)"
      ],
      "metadata": {
        "id": "X0Q_X6iQCF8x",
        "colab": {
          "base_uri": "https://localhost:8080/",
          "height": 425
        },
        "outputId": "3be42b2c-df1a-443a-e2b8-b668adee3fee"
      },
      "execution_count": 36,
      "outputs": [
        {
          "output_type": "stream",
          "name": "stdout",
          "text": [
            "61/61 [==============================] - 1s 21ms/step - loss: 0.5780 - accuracy: 0.8702\n",
            "61/61 [==============================] - 1s 20ms/step\n",
            "              precision    recall  f1-score   support\n",
            "\n",
            "           0       0.90      0.87      0.88      1103\n",
            "           1       0.84      0.87      0.85       830\n",
            "\n",
            "    accuracy                           0.87      1933\n",
            "   macro avg       0.87      0.87      0.87      1933\n",
            "weighted avg       0.87      0.87      0.87      1933\n",
            "\n"
          ]
        },
        {
          "output_type": "display_data",
          "data": {
            "text/plain": [
              "<Figure size 300x200 with 2 Axes>"
            ],
            "image/png": "[encoded data removed]"
          },
          "metadata": {}
        }
      ]
    },
    {
      "cell_type": "code",
      "source": [
        "relatorios[modelo_numero]"
      ],
      "metadata": {
        "id": "AI7PeZJRCF8x",
        "colab": {
          "base_uri": "https://localhost:8080/"
        },
        "outputId": "d88047aa-9f40-4026-c62f-c942d7f95050"
      },
      "execution_count": 37,
      "outputs": [
        {
          "output_type": "execute_result",
          "data": {
            "text/plain": [
              "{'acurácia': 0.8701500258665287,\n",
              " 'precisão': 0.8710446039177046,\n",
              " 'revocação': 0.8701500258665287,\n",
              " 'pontuação-f1': 0.8703999116869263}"
            ]
          },
          "metadata": {},
          "execution_count": 37
        }
      ]
    },
    {
      "cell_type": "markdown",
      "source": [
        "### Modelo 4: RNN (LSTM Bidirecional)"
      ],
      "metadata": {
        "id": "0_oIztLzYGf0"
      }
    },
    {
      "cell_type": "code",
      "source": [
        "%%time\n",
        "\n",
        "modelo_numero = 4\n",
        "\n",
        "modelos_nome[modelo_numero] = 'RNR'\n",
        "\n",
        "camadas = Bidirectional(layer=LSTM(units=ESPACO_SAIDA, activation=ATIVACAO_RNN))(camadas_iniciais)\n",
        "\n",
        "saidas = Dense(1, activation=ATIVACAO_SAIDA, name='camada_saida')(camadas)\n",
        "\n",
        "modelos[modelo_numero] = Model(inputs=entradas, outputs=saidas, name=modelos_nome[modelo_numero])\n",
        "\n",
        "modelos[modelo_numero].compile(loss=PERDA,\n",
        "                               optimizer=OTIMIZADOR(learning_rate=APRENDIZADO),\n",
        "                               metrics=METRICAS)\n",
        "\n",
        "historicos[modelo_numero] = modelos[modelo_numero].fit(x=X_train,\n",
        "                                                       y=y_train,\n",
        "                                                       batch_size=NUCLEO_SAIDA * 2,\n",
        "                                                       epochs=ITERACOES,\n",
        "                                                       validation_data=(X_val, y_val),\n",
        "                                                       verbose=1)"
      ],
      "metadata": {
        "id": "coxtdI9FbWBb",
        "colab": {
          "base_uri": "https://localhost:8080/"
        },
        "outputId": "8d0a1dec-b649-49fe-91d3-d5328f6005d0"
      },
      "execution_count": 38,
      "outputs": [
        {
          "output_type": "stream",
          "name": "stdout",
          "text": [
            "Epoch 1/3\n",
            "121/121 [==============================] - 45s 333ms/step - loss: 0.3179 - accuracy: 0.8533 - val_loss: 0.2692 - val_accuracy: 0.8893\n",
            "Epoch 2/3\n",
            "121/121 [==============================] - 41s 339ms/step - loss: 0.0793 - accuracy: 0.9778 - val_loss: 0.3742 - val_accuracy: 0.8981\n",
            "Epoch 3/3\n",
            "121/121 [==============================] - 39s 325ms/step - loss: 0.0360 - accuracy: 0.9909 - val_loss: 0.3810 - val_accuracy: 0.8810\n",
            "CPU times: user 1min 42s, sys: 18.6 s, total: 2min\n",
            "Wall time: 2min 6s\n"
          ]
        }
      ]
    },
    {
      "cell_type": "code",
      "source": [
        "grafico_historico_por_iteracao(historicos[modelo_numero])"
      ],
      "metadata": {
        "id": "PphAeJOKtKgG",
        "colab": {
          "base_uri": "https://localhost:8080/",
          "height": 234
        },
        "outputId": "0925fb29-ac86-405c-dc16-0aab115853c0"
      },
      "execution_count": 39,
      "outputs": [
        {
          "output_type": "display_data",
          "data": {
            "text/plain": [
              "<Figure size 300x200 with 1 Axes>"
            ],
            "image/png": "[encoded data removed]"
          },
          "metadata": {}
        }
      ]
    },
    {
      "cell_type": "code",
      "source": [
        "dados_modelo(modelo_numero)"
      ],
      "metadata": {
        "id": "tr7TILHitKgG",
        "colab": {
          "base_uri": "https://localhost:8080/",
          "height": 429
        },
        "outputId": "6fef6b04-5747-4060-d8fb-66258678cc94"
      },
      "execution_count": 40,
      "outputs": [
        {
          "output_type": "stream",
          "name": "stdout",
          "text": [
            "61/61 [==============================] - 4s 68ms/step - loss: 0.3810 - accuracy: 0.8810\n",
            "61/61 [==============================] - 5s 64ms/step\n",
            "              precision    recall  f1-score   support\n",
            "\n",
            "           0       0.88      0.91      0.90      1103\n",
            "           1       0.88      0.84      0.86       830\n",
            "\n",
            "    accuracy                           0.88      1933\n",
            "   macro avg       0.88      0.88      0.88      1933\n",
            "weighted avg       0.88      0.88      0.88      1933\n",
            "\n"
          ]
        },
        {
          "output_type": "display_data",
          "data": {
            "text/plain": [
              "<Figure size 300x200 with 2 Axes>"
            ],
            "image/png": "[encoded data removed]"
          },
          "metadata": {}
        }
      ]
    },
    {
      "cell_type": "code",
      "source": [
        "relatorios[modelo_numero]"
      ],
      "metadata": {
        "id": "SEfecIaptKgG",
        "colab": {
          "base_uri": "https://localhost:8080/"
        },
        "outputId": "d2293b44-0c82-41f1-c9c0-4b0ad6cc7fed"
      },
      "execution_count": 41,
      "outputs": [
        {
          "output_type": "execute_result",
          "data": {
            "text/plain": [
              "{'acurácia': 0.8810139679255043,\n",
              " 'precisão': 0.8809134519185088,\n",
              " 'revocação': 0.8810139679255043,\n",
              " 'pontuação-f1': 0.8806504420500334}"
            ]
          },
          "metadata": {},
          "execution_count": 41
        }
      ]
    },
    {
      "cell_type": "markdown",
      "source": [
        "### Modelo 5: Transformer"
      ],
      "metadata": {
        "id": "34WRe5bsfBtQ"
      }
    },
    {
      "cell_type": "code",
      "source": [
        "%%time\n",
        "\n",
        "modelo_numero = 5\n",
        "\n",
        "modelos_nome[modelo_numero] = 'Transformer'\n",
        "\n",
        "tfhub_handle_preprocess = 'https://tfhub.dev/tensorflow/bert_en_uncased_preprocess/3'\n",
        "tfhub_handle_encoder    = 'https://tfhub.dev/tensorflow/small_bert/bert_en_uncased_L-2_H-128_A-2/2'\n",
        "\n",
        "modelos[modelo_numero] = build_classifier_model(tfhub_handle_encoder, tfhub_handle_preprocess, modelos_nome[modelo_numero])\n",
        "\n",
        "modelos[modelo_numero].compile(loss=PERDA,\n",
        "                               optimizer=OTIMIZADOR(learning_rate=APRENDIZADO),\n",
        "                               metrics=METRICAS)\n",
        "\n",
        "historicos[modelo_numero] = modelos[modelo_numero].fit(x=X_train,\n",
        "                                                       y=y_train,\n",
        "                                                       batch_size=NUCLEO_SAIDA,\n",
        "                                                       epochs=ITERACOES,\n",
        "                                                       validation_data=(X_val, y_val),\n",
        "                                                       verbose=1)"
      ],
      "metadata": {
        "id": "Bm_Gr9SRfBtQ",
        "colab": {
          "base_uri": "https://localhost:8080/"
        },
        "outputId": "bc50d46f-2b7d-471e-fd3b-2e90a6a0d965"
      },
      "execution_count": 42,
      "outputs": [
        {
          "output_type": "stream",
          "name": "stdout",
          "text": [
            "Epoch 1/3\n",
            "242/242 [==============================] - 60s 206ms/step - loss: 0.6045 - accuracy: 0.6634 - val_loss: 0.4831 - val_accuracy: 0.7641\n",
            "Epoch 2/3\n",
            "242/242 [==============================] - 45s 186ms/step - loss: 0.4230 - accuracy: 0.8030 - val_loss: 0.4215 - val_accuracy: 0.7972\n",
            "Epoch 3/3\n",
            "242/242 [==============================] - 43s 179ms/step - loss: 0.3143 - accuracy: 0.8629 - val_loss: 0.4836 - val_accuracy: 0.8024\n",
            "CPU times: user 2min 38s, sys: 12.3 s, total: 2min 50s\n",
            "Wall time: 3min 30s\n"
          ]
        }
      ]
    },
    {
      "cell_type": "code",
      "source": [
        "grafico_historico_por_iteracao(historicos[modelo_numero])"
      ],
      "metadata": {
        "id": "d6Ub1y0HfBtR",
        "colab": {
          "base_uri": "https://localhost:8080/",
          "height": 234
        },
        "outputId": "38005947-6a23-4914-fcc4-1ca484e10ba0"
      },
      "execution_count": 43,
      "outputs": [
        {
          "output_type": "display_data",
          "data": {
            "text/plain": [
              "<Figure size 300x200 with 1 Axes>"
            ],
            "image/png": "[encoded data removed]"
          },
          "metadata": {}
        }
      ]
    },
    {
      "cell_type": "code",
      "source": [
        "dados_modelo(modelo_numero)"
      ],
      "metadata": {
        "id": "fLEng35yfBtR",
        "colab": {
          "base_uri": "https://localhost:8080/",
          "height": 425
        },
        "outputId": "e12796b5-151c-4697-ed32-53dc2598192b"
      },
      "execution_count": 44,
      "outputs": [
        {
          "output_type": "stream",
          "name": "stdout",
          "text": [
            "61/61 [==============================] - 6s 102ms/step - loss: 0.4836 - accuracy: 0.8024\n",
            "61/61 [==============================] - 6s 98ms/step\n",
            "              precision    recall  f1-score   support\n",
            "\n",
            "           0       0.84      0.81      0.82      1103\n",
            "           1       0.76      0.80      0.78       830\n",
            "\n",
            "    accuracy                           0.80      1933\n",
            "   macro avg       0.80      0.80      0.80      1933\n",
            "weighted avg       0.80      0.80      0.80      1933\n",
            "\n"
          ]
        },
        {
          "output_type": "display_data",
          "data": {
            "text/plain": [
              "<Figure size 300x200 with 2 Axes>"
            ],
            "image/png": "[encoded data removed]"
          },
          "metadata": {}
        }
      ]
    },
    {
      "cell_type": "code",
      "source": [
        "relatorios[modelo_numero]"
      ],
      "metadata": {
        "id": "gKIoD0mWfBtR",
        "colab": {
          "base_uri": "https://localhost:8080/"
        },
        "outputId": "a2709bac-311c-462c-b48f-74e96c64bdc3"
      },
      "execution_count": 45,
      "outputs": [
        {
          "output_type": "execute_result",
          "data": {
            "text/plain": [
              "{'acurácia': 0.8023797206414899,\n",
              " 'precisão': 0.8045296854977606,\n",
              " 'revocação': 0.8023797206414899,\n",
              " 'pontuação-f1': 0.80295877049712}"
            ]
          },
          "metadata": {},
          "execution_count": 45
        }
      ]
    },
    {
      "cell_type": "markdown",
      "source": [
        "### Modelo 6: fakeDETECTOR"
      ],
      "metadata": {
        "id": "_g1nwalqpXXq"
      }
    },
    {
      "cell_type": "code",
      "source": [
        "%%time\n",
        "\n",
        "modelo_numero = 6\n",
        "\n",
        "modelos_nome[modelo_numero] = 'fakeD'\n",
        "\n",
        "train_texts = X_train.astype(str)\n",
        "val_texts = X_val.astype(str)\n",
        "test_texts = X_test.astype(str)\n",
        "\n",
        "max_sequence_length = 1000\n",
        "\n",
        "tokenizer = Tokenizer()\n",
        "tokenizer.fit_on_texts(train_texts)\n",
        "\n",
        "train_sequences = tokenizer.texts_to_sequences(train_texts)\n",
        "train_sequences = pad_sequences(train_sequences, maxlen=max_sequence_length)\n",
        "\n",
        "val_sequences = tokenizer.texts_to_sequences(val_texts)\n",
        "val_sequences = pad_sequences(val_sequences, maxlen=max_sequence_length)\n",
        "\n",
        "test_sequences = tokenizer.texts_to_sequences(test_texts)\n",
        "test_sequences = pad_sequences(test_sequences, maxlen=max_sequence_length)\n",
        "\n",
        "modelos[modelo_numero] = Sequential()\n",
        "\n",
        "modelos[modelo_numero].add(Embedding((len(tokenizer.word_index) + 1), 200, input_length=max_sequence_length))\n",
        "\n",
        "modelos[modelo_numero].add(Conv1D(ESPACO_SAIDA, NUCLEO_CONV, activation=ATIVACAO_CNN))\n",
        "\n",
        "modelos[modelo_numero].add(GlobalMaxPool1D())\n",
        "\n",
        "modelos[modelo_numero].add(Dense(ESPACO_SAIDA, activation=ATIVACAO_CNN))\n",
        "\n",
        "modelos[modelo_numero].add(Dense(1, activation=ATIVACAO_SAIDA))\n",
        "\n",
        "modelos[modelo_numero].compile(loss=PERDA,\n",
        "                               optimizer=OTIMIZADOR(),\n",
        "                               metrics=METRICAS)\n",
        "\n",
        "historicos[modelo_numero] = modelos[modelo_numero].fit(x=train_sequences,\n",
        "                                                       y=y_train,\n",
        "                                                       epochs=ITERACOES,\n",
        "                                                       batch_size=NUCLEO_SAIDA,\n",
        "                                                       validation_data=(val_sequences, y_val),\n",
        "                                                       verbose=1)"
      ],
      "metadata": {
        "id": "6Oo0rmXqpXXq",
        "colab": {
          "base_uri": "https://localhost:8080/"
        },
        "outputId": "f1892ddf-9cc2-41bd-e8c5-af77ef3d1a11"
      },
      "execution_count": 46,
      "outputs": [
        {
          "output_type": "stream",
          "name": "stdout",
          "text": [
            "Epoch 1/3\n",
            "242/242 [==============================] - 47s 187ms/step - loss: 0.3693 - accuracy: 0.8399 - val_loss: 0.2436 - val_accuracy: 0.8934\n",
            "Epoch 2/3\n",
            "242/242 [==============================] - 42s 171ms/step - loss: 0.0972 - accuracy: 0.9638 - val_loss: 0.2221 - val_accuracy: 0.9136\n",
            "Epoch 3/3\n",
            "242/242 [==============================] - 37s 151ms/step - loss: 0.0131 - accuracy: 0.9956 - val_loss: 0.2938 - val_accuracy: 0.9002\n",
            "CPU times: user 1min 20s, sys: 1.78 s, total: 1min 22s\n",
            "Wall time: 2min 25s\n"
          ]
        }
      ]
    },
    {
      "cell_type": "code",
      "source": [
        "grafico_historico_por_iteracao(historicos[modelo_numero])"
      ],
      "metadata": {
        "id": "zh7wmJVqpXXq",
        "colab": {
          "base_uri": "https://localhost:8080/",
          "height": 234
        },
        "outputId": "710aade1-0a65-48c3-8247-407f30b22cdc"
      },
      "execution_count": 47,
      "outputs": [
        {
          "output_type": "display_data",
          "data": {
            "text/plain": [
              "<Figure size 300x200 with 1 Axes>"
            ],
            "image/png": "[encoded data removed]"
          },
          "metadata": {}
        }
      ]
    },
    {
      "cell_type": "code",
      "source": [
        "dados_modelo(modelo_numero, val_sequences)"
      ],
      "metadata": {
        "id": "pAfh9ECtpXXr",
        "colab": {
          "base_uri": "https://localhost:8080/",
          "height": 425
        },
        "outputId": "81a75e83-6196-4b0c-d51a-855209492b9b"
      },
      "execution_count": 48,
      "outputs": [
        {
          "output_type": "stream",
          "name": "stdout",
          "text": [
            "61/61 [==============================] - 1s 8ms/step - loss: 0.2938 - accuracy: 0.9002\n",
            "61/61 [==============================] - 0s 6ms/step\n",
            "              precision    recall  f1-score   support\n",
            "\n",
            "           0       0.88      0.96      0.92      1103\n",
            "           1       0.94      0.82      0.88       830\n",
            "\n",
            "    accuracy                           0.90      1933\n",
            "   macro avg       0.91      0.89      0.90      1933\n",
            "weighted avg       0.90      0.90      0.90      1933\n",
            "\n"
          ]
        },
        {
          "output_type": "display_data",
          "data": {
            "text/plain": [
              "<Figure size 300x200 with 2 Axes>"
            ],
            "image/png": "[encoded data removed]"
          },
          "metadata": {}
        }
      ]
    },
    {
      "cell_type": "code",
      "source": [
        "relatorios[modelo_numero]"
      ],
      "metadata": {
        "id": "7PP2GZq2pXXr",
        "colab": {
          "base_uri": "https://localhost:8080/"
        },
        "outputId": "58b3093d-d195-4218-cb2e-3da9a2a5d789"
      },
      "execution_count": 49,
      "outputs": [
        {
          "output_type": "execute_result",
          "data": {
            "text/plain": [
              "{'acurácia': 0.900155199172271,\n",
              " 'precisão': 0.9037251426319535,\n",
              " 'revocação': 0.900155199172271,\n",
              " 'pontuação-f1': 0.8990250240564387}"
            ]
          },
          "metadata": {},
          "execution_count": 49
        }
      ]
    },
    {
      "cell_type": "markdown",
      "source": [
        "## Comparar modelos"
      ],
      "metadata": {
        "id": "n7n2p3ZBPuKA"
      }
    },
    {
      "cell_type": "code",
      "source": [
        "comparacao = pd.DataFrame([r for r in relatorios if r is not None])\n",
        "comparacao = comparacao.reset_index().melt(id_vars='index').rename(columns=str.title)"
      ],
      "metadata": {
        "id": "EE4iA_hhRdx3"
      },
      "execution_count": 50,
      "outputs": []
    },
    {
      "cell_type": "code",
      "source": [
        "plt.rcParams['figure.figsize'] = [8, 5]\n",
        "\n",
        "sns.barplot(data=comparacao, x='Index', y='Value', hue='Variable', palette='summer_r')\n",
        "\n",
        "plt.ylim(0.0, 1.0)\n",
        "\n",
        "# plt.title('Medidas de avaliação dos modelos - Dados de validação')\n",
        "plt.xlabel('Modelos')\n",
        "plt.ylabel('Valor')\n",
        "\n",
        "plt.xticks(ticks=np.arange(len(modelos_nome)), labels=modelos_nome)\n",
        "plt.yticks(ticks=np.arange(0.0, 1.01, 0.1))\n",
        "\n",
        "plt.legend(loc=(1.03, 0.76));"
      ],
      "metadata": {
        "id": "XweHcfObUtPn",
        "colab": {
          "base_uri": "https://localhost:8080/",
          "height": 470
        },
        "outputId": "9e5fac1d-2c79-4512-d0c1-6e33e2de052d"
      },
      "execution_count": 51,
      "outputs": [
        {
          "output_type": "display_data",
          "data": {
            "text/plain": [
              "<Figure size 800x500 with 1 Axes>"
            ],
            "image/png": "[encoded data removed]"
          },
          "metadata": {}
        }
      ]
    },
    {
      "cell_type": "markdown",
      "source": [
        "## Teste modelos"
      ],
      "metadata": {
        "id": "RNX2atvAH511"
      }
    },
    {
      "cell_type": "code",
      "source": [
        "plt.rcParams['figure.figsize'] = [3, 2]"
      ],
      "metadata": {
        "id": "VpV8-5frb_qX"
      },
      "execution_count": 52,
      "outputs": []
    },
    {
      "cell_type": "code",
      "source": [
        "for modelo_numero, modelo in enumerate(modelos):\n",
        "    teste_modelo(modelo_numero, (test_sequences if modelo_numero == 6 else X_test))\n",
        "    print(modelos_nome[modelo_numero] + \": \")\n",
        "    print(relatorios[modelo_numero])"
      ],
      "metadata": {
        "id": "m4vKU70fGZNr",
        "colab": {
          "base_uri": "https://localhost:8080/",
          "height": 1000
        },
        "outputId": "34540cbd-f5c4-45cd-96b9-82b1191cd96e"
      },
      "execution_count": 53,
      "outputs": [
        {
          "output_type": "stream",
          "name": "stdout",
          "text": [
            "              precision    recall  f1-score   support\n",
            "\n",
            "           0       0.80      0.63      0.70       613\n",
            "           1       0.61      0.79      0.69       461\n",
            "\n",
            "    accuracy                           0.69      1074\n",
            "   macro avg       0.70      0.71      0.69      1074\n",
            "weighted avg       0.72      0.69      0.70      1074\n",
            "\n",
            "TF-IDF: \n",
            "{'acurácia': 0.6945996275605214, 'precisão': 0.7166911431006447, 'revocação': 0.6945996275605214, 'pontuação-f1': 0.6953571740701041}\n",
            "34/34 [==============================] - 0s 4ms/step\n",
            "              precision    recall  f1-score   support\n",
            "\n",
            "           0       0.93      0.93      0.93       613\n",
            "           1       0.91      0.90      0.91       461\n",
            "\n",
            "    accuracy                           0.92      1074\n",
            "   macro avg       0.92      0.92      0.92      1074\n",
            "weighted avg       0.92      0.92      0.92      1074\n",
            "\n",
            "MLP: \n",
            "{'acurácia': 0.9217877094972067, 'precisão': 0.9217273201176618, 'revocação': 0.9217877094972067, 'pontuação-f1': 0.9217444868062439}\n",
            "34/34 [==============================] - 1s 16ms/step\n",
            "              precision    recall  f1-score   support\n",
            "\n",
            "           0       0.93      0.69      0.79       613\n",
            "           1       0.69      0.93      0.79       461\n",
            "\n",
            "    accuracy                           0.79      1074\n",
            "   macro avg       0.81      0.81      0.79      1074\n",
            "weighted avg       0.82      0.79      0.79      1074\n",
            "\n",
            "RNC: \n",
            "{'acurácia': 0.7886405959031657, 'precisão': 0.8236384285880246, 'revocação': 0.7886405959031657, 'pontuação-f1': 0.7884366445332396}\n",
            "34/34 [==============================] - 1s 27ms/step\n",
            "              precision    recall  f1-score   support\n",
            "\n",
            "           0       0.90      0.76      0.83       613\n",
            "           1       0.74      0.89      0.81       461\n",
            "\n",
            "    accuracy                           0.82      1074\n",
            "   macro avg       0.82      0.83      0.82      1074\n",
            "weighted avg       0.83      0.82      0.82      1074\n",
            "\n",
            "CFN-AI: \n",
            "{'acurácia': 0.8165735567970205, 'precisão': 0.8316150266616933, 'revocação': 0.8165735567970205, 'pontuação-f1': 0.817424162406897}\n",
            "34/34 [==============================] - 2s 61ms/step\n",
            "              precision    recall  f1-score   support\n",
            "\n",
            "           0       0.89      0.91      0.90       613\n",
            "           1       0.88      0.85      0.86       461\n",
            "\n",
            "    accuracy                           0.89      1074\n",
            "   macro avg       0.88      0.88      0.88      1074\n",
            "weighted avg       0.89      0.89      0.89      1074\n",
            "\n",
            "RNR: \n",
            "{'acurácia': 0.8854748603351955, 'precisão': 0.8853036856910826, 'revocação': 0.8854748603351955, 'pontuação-f1': 0.885256741616916}\n",
            "34/34 [==============================] - 3s 100ms/step\n",
            "              precision    recall  f1-score   support\n",
            "\n",
            "           0       0.86      0.79      0.82       613\n",
            "           1       0.75      0.82      0.78       461\n",
            "\n",
            "    accuracy                           0.80      1074\n",
            "   macro avg       0.80      0.81      0.80      1074\n",
            "weighted avg       0.81      0.80      0.81      1074\n",
            "\n",
            "Transformer: \n",
            "{'acurácia': 0.8044692737430168, 'precisão': 0.8093888394230396, 'revocação': 0.8044692737430168, 'pontuação-f1': 0.8053234993092174}\n",
            "34/34 [==============================] - 0s 10ms/step\n",
            "              precision    recall  f1-score   support\n",
            "\n",
            "           0       0.89      0.97      0.93       613\n",
            "           1       0.96      0.84      0.90       461\n",
            "\n",
            "    accuracy                           0.92      1074\n",
            "   macro avg       0.93      0.91      0.91      1074\n",
            "weighted avg       0.92      0.92      0.92      1074\n",
            "\n",
            "fakeD: \n",
            "{'acurácia': 0.9162011173184358, 'precisão': 0.920012750205164, 'revocação': 0.9162011173184358, 'pontuação-f1': 0.9152810772318812}\n"
          ]
        },
        {
          "output_type": "display_data",
          "data": {
            "text/plain": [
              "<Figure size 300x200 with 2 Axes>"
            ],
            "image/png": "[encoded data removed]"
          },
          "metadata": {}
        },
        {
          "output_type": "display_data",
          "data": {
            "text/plain": [
              "<Figure size 300x200 with 2 Axes>"
            ],
            "image/png": "[encoded data removed]"
          },
          "metadata": {}
        },
        {
          "output_type": "display_data",
          "data": {
            "text/plain": [
              "<Figure size 300x200 with 2 Axes>"
            ],
            "image/png": "[encoded data removed]"
          },
          "metadata": {}
        },
        {
          "output_type": "display_data",
          "data": {
            "text/plain": [
              "<Figure size 300x200 with 2 Axes>"
            ],
            "image/png": "[encoded data removed]"
          },
          "metadata": {}
        },
        {
          "output_type": "display_data",
          "data": {
            "text/plain": [
              "<Figure size 300x200 with 2 Axes>"
            ],
            "image/png": "[encoded data removed]"
          },
          "metadata": {}
        },
        {
          "output_type": "display_data",
          "data": {
            "text/plain": [
              "<Figure size 300x200 with 2 Axes>"
            ],
            "image/png": "[encoded data removed]"
          },
          "metadata": {}
        },
        {
          "output_type": "display_data",
          "data": {
            "text/plain": [
              "<Figure size 300x200 with 2 Axes>"
            ],
            "image/png": "[encoded data removed]"
          },
          "metadata": {}
        }
      ]
    },
    {
      "cell_type": "code",
      "source": [
        "comparacao = pd.DataFrame([r for r in relatorios if r is not None])\n",
        "comparacao = comparacao.reset_index().melt(id_vars='index').rename(columns=str.title)"
      ],
      "metadata": {
        "id": "CPw8U0FVHYSE"
      },
      "execution_count": 54,
      "outputs": []
    },
    {
      "cell_type": "code",
      "source": [
        "plt.rcParams['figure.figsize'] = [8, 5]\n",
        "\n",
        "sns.barplot(data=comparacao, x='Index', y='Value', hue='Variable', palette='summer_r')\n",
        "\n",
        "plt.ylim(0.0, 1.0)\n",
        "\n",
        "# plt.title('Medidas de avaliação dos modelos - Dados de teste')\n",
        "plt.xlabel('Modelos')\n",
        "plt.ylabel('Valor')\n",
        "\n",
        "plt.xticks(ticks=np.arange(len(modelos_nome)), labels=modelos_nome)\n",
        "plt.yticks(ticks=np.arange(0.0, 1.01, 0.1))\n",
        "\n",
        "plt.legend(loc=(1.03, 0.76));"
      ],
      "metadata": {
        "id": "dMQby2JLHYSF",
        "colab": {
          "base_uri": "https://localhost:8080/",
          "height": 470
        },
        "outputId": "7d13aaa7-6657-433a-c55b-ab8d08624346"
      },
      "execution_count": 55,
      "outputs": [
        {
          "output_type": "display_data",
          "data": {
            "text/plain": [
              "<Figure size 800x500 with 1 Axes>"
            ],
            "image/png": "[encoded data removed]"
          },
          "metadata": {}
        }
      ]
    },
    {
      "cell_type": "code",
      "source": [],
      "metadata": {
        "id": "hKedlIeBHZLC"
      },
      "execution_count": 55,
      "outputs": []
    }
  ]
}